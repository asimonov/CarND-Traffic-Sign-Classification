{
 "cells": [
  {
   "cell_type": "markdown",
   "metadata": {},
   "source": [
    "# Self-Driving Car Engineer Nanodegree\n",
    "\n",
    "## Deep Learning\n",
    "\n",
    "## Project: Build a Traffic Sign Recognition Classifier\n",
    "\n",
    "In this notebook, a template is provided for you to implement your functionality in stages which is required to successfully complete this project. If additional code is required that cannot be included in the notebook, be sure that the Python code is successfully imported and included in your submission, if necessary. Sections that begin with **'Implementation'** in the header indicate where you should begin your implementation for your project. Note that some sections of implementation are optional, and will be marked with **'Optional'** in the header.\n",
    "\n",
    "In addition to implementing code, there will be questions that you must answer which relate to the project and your implementation. Each section where you will answer a question is preceded by a **'Question'** header. Carefully read each question and provide thorough answers in the following text boxes that begin with **'Answer:'**. Your project submission will be evaluated based on your answers to each of the questions and the implementation you provide.\n",
    "\n",
    ">**Note:** Code and Markdown cells can be executed using the **Shift + Enter** keyboard shortcut. In addition, Markdown cells can be edited by typically double-clicking the cell to enter edit mode."
   ]
  },
  {
   "cell_type": "markdown",
   "metadata": {},
   "source": [
    "---\n",
    "\n",
    "## Step 1: Dataset Exploration\n",
    "\n",
    "Visualize the German Traffic Signs Dataset. This is open ended, some suggestions include: plotting traffic signs images, plotting the count of each sign, etc. Be creative!\n",
    "\n",
    "\n",
    "The pickled data is a dictionary with 4 key/value pairs:\n",
    "\n",
    "- features -> the images pixel values, (width, height, channels)\n",
    "- labels -> the label of the traffic sign\n",
    "- sizes -> the original width and height of the image, (width, height)\n",
    "- coords -> coordinates of a bounding box around the sign in the image, (x1, y1, x2, y2). Based the original image (not the resized version)."
   ]
  },
  {
   "cell_type": "code",
   "execution_count": 1,
   "metadata": {
    "collapsed": true
   },
   "outputs": [],
   "source": [
    "# Load pickled data\n",
    "import pickle\n",
    "\n",
    "# TODO: fill this in based on where you saved the training and testing data\n",
    "training_file = 'train.p'\n",
    "testing_file = 'test.p'\n",
    "\n",
    "with open(training_file, mode='rb') as f:\n",
    "    train = pickle.load(f)\n",
    "with open(testing_file, mode='rb') as f:\n",
    "    test = pickle.load(f)\n",
    "    \n",
    "X_train, y_train = train['features'], train['labels']\n",
    "X_test, y_test = test['features'], test['labels']"
   ]
  },
  {
   "cell_type": "code",
   "execution_count": 2,
   "metadata": {
    "collapsed": false
   },
   "outputs": [
    {
     "name": "stdout",
     "output_type": "stream",
     "text": [
      "Number of training examples = 39209\n",
      "Number of testing examples = 12630\n",
      "Image data shape = (32, 32, 3)\n",
      "Number of classes = 43\n"
     ]
    }
   ],
   "source": [
    "### To start off let's do a basic data summary.\n",
    "\n",
    "# TODO: number of training examples\n",
    "n_train = X_train.shape[0]\n",
    "\n",
    "# TODO: number of testing examples\n",
    "n_test = X_test.shape[0]\n",
    "\n",
    "# TODO: what's the shape of an image?\n",
    "image_shape = X_train.shape[1:]\n",
    "\n",
    "# TODO: how many classes are in the dataset\n",
    "n_classes = len(set(y_train))\n",
    "\n",
    "print(\"Number of training examples =\", n_train)\n",
    "print(\"Number of testing examples =\", n_test)\n",
    "print(\"Image data shape =\", image_shape)\n",
    "print(\"Number of classes =\", n_classes)"
   ]
  },
  {
   "cell_type": "code",
   "execution_count": null,
   "metadata": {
    "collapsed": true
   },
   "outputs": [],
   "source": [
    "### Data exploration visualization goes here.\n",
    "### Feel free to use as many code cells as needed."
   ]
  },
  {
   "cell_type": "code",
   "execution_count": 3,
   "metadata": {
    "collapsed": false
   },
   "outputs": [],
   "source": [
    "from matplotlib import pyplot as plt\n",
    "import numpy as np\n",
    "from sklearn.model_selection import train_test_split\n",
    "from sklearn.preprocessing import LabelBinarizer\n",
    "from sklearn.utils import resample\n",
    "from tqdm import tqdm\n",
    "%matplotlib inline"
   ]
  },
  {
   "cell_type": "code",
   "execution_count": null,
   "metadata": {
    "collapsed": false
   },
   "outputs": [],
   "source": [
    "# distribution of classes\n",
    "plt.hist(y_train, bins=100);"
   ]
  },
  {
   "cell_type": "code",
   "execution_count": null,
   "metadata": {
    "collapsed": false
   },
   "outputs": [],
   "source": [
    "def show_examples(images, labels, rows, cols, cls=None):\n",
    "    plt.figure()\n",
    "    for i in range(rows):\n",
    "        for j in range(cols):\n",
    "            plt.subplot(rows,cols,i*rows+j+1)\n",
    "            while True:\n",
    "                example = np.random.randint(0, len(images))\n",
    "                if cls is None or labels[example]==cls:\n",
    "                    break\n",
    "            plt.title('img {}: {}'.format(example, labels[example]))\n",
    "            if len(images.shape)==4:\n",
    "                plt.imshow(images[example,:,:,:]);\n",
    "            else:\n",
    "                plt.imshow(images[example,:,:], cmap='Greys_r');\n",
    "\n",
    "rows = 10\n",
    "cols = 10\n",
    "cls = None\n",
    "show_examples(X_train, y_train, rows, cols, cls)"
   ]
  },
  {
   "cell_type": "markdown",
   "metadata": {},
   "source": [
    "----\n",
    "\n",
    "## Step 2: Design and Test a Model Architecture\n",
    "\n",
    "Design and implement a deep learning model that learns to recognize traffic signs. Train and test your model on the [German Traffic Sign Dataset](http://benchmark.ini.rub.de/?section=gtsrb&subsection=dataset).\n",
    "\n",
    "There are various aspects to consider when thinking about this problem:\n",
    "\n",
    "- Your model can be derived from a deep feedforward net or a deep convolutional network.\n",
    "- Play around preprocessing techniques (normalization, rgb to grayscale, etc)\n",
    "- Number of examples per label (some have more than others).\n",
    "- Generate fake data.\n",
    "\n",
    "Here is an example of a [published baseline model on this problem](http://yann.lecun.com/exdb/publis/pdf/sermanet-ijcnn-11.pdf). It's not required to be familiar with the approach used in the paper but, it's good practice to try to read papers like these."
   ]
  },
  {
   "cell_type": "markdown",
   "metadata": {},
   "source": [
    "### Implementation\n",
    "\n",
    "Use the code cell (or multiple code cells, if necessary) to implement the first step of your project. Once you have completed your implementation and are satisfied with the results, be sure to thoroughly answer the questions that follow."
   ]
  },
  {
   "cell_type": "code",
   "execution_count": null,
   "metadata": {
    "collapsed": true
   },
   "outputs": [],
   "source": [
    "### Preprocess the data here.\n",
    "### Feel free to use as many code cells as needed."
   ]
  },
  {
   "cell_type": "code",
   "execution_count": null,
   "metadata": {
    "collapsed": true
   },
   "outputs": [],
   "source": [
    "def normalize_data(image_data):\n",
    "    #a = 0.1\n",
    "    #b = 0.9\n",
    "    greyscale_mean = np.mean(image_data, axis=0)\n",
    "    #greyscale_max = np.max(image_data, axis=0)\n",
    "    return a + ( ( (image_data - greyscale_min)*(b - a) )/( greyscale_max - greyscale_min ) )    "
   ]
  },
  {
   "cell_type": "code",
   "execution_count": 4,
   "metadata": {
    "collapsed": true
   },
   "outputs": [],
   "source": [
    "def normalize_data(image_data):\n",
    "    grayscale = np.mean(image_data, axis=3)\n",
    "    mean = np.mean(grayscale, axis=0)\n",
    "    std = np.std(grayscale, axis=0)\n",
    "    return ( ( (grayscale - mean) )/( std ) )    "
   ]
  },
  {
   "cell_type": "code",
   "execution_count": null,
   "metadata": {
    "collapsed": true
   },
   "outputs": [],
   "source": [
    "# only compute mean from real training data, then apply to validation and test\n",
    "# usually zero-center and normalize\n",
    "# rarely do PCA to lower dimension (not with CNNs) and may be whitening to exagerrate noise"
   ]
  },
  {
   "cell_type": "code",
   "execution_count": 5,
   "metadata": {
    "collapsed": true
   },
   "outputs": [],
   "source": [
    "x_train_norm = normalize_data(X_train)\n",
    "x_test_norm = normalize_data(X_test)"
   ]
  },
  {
   "cell_type": "code",
   "execution_count": 6,
   "metadata": {
    "collapsed": false
   },
   "outputs": [
    {
     "data": {
      "text/plain": [
       "(39209, 32, 32)"
      ]
     },
     "execution_count": 6,
     "metadata": {},
     "output_type": "execute_result"
    }
   ],
   "source": [
    "x_train_norm.shape"
   ]
  },
  {
   "cell_type": "code",
   "execution_count": null,
   "metadata": {
    "collapsed": false
   },
   "outputs": [],
   "source": [
    "rows = 10\n",
    "cols = 10\n",
    "cls = None\n",
    "show_examples(x_train_norm, y_train, rows, cols, cls)"
   ]
  },
  {
   "cell_type": "code",
   "execution_count": null,
   "metadata": {
    "collapsed": false
   },
   "outputs": [],
   "source": [
    "x_train_norm.shape"
   ]
  },
  {
   "cell_type": "code",
   "execution_count": null,
   "metadata": {
    "collapsed": false
   },
   "outputs": [],
   "source": [
    "y_test[:10]"
   ]
  },
  {
   "cell_type": "code",
   "execution_count": 7,
   "metadata": {
    "collapsed": true
   },
   "outputs": [],
   "source": [
    "# Turn labels into numbers and apply One-Hot Encoding\n",
    "encoder = LabelBinarizer()\n",
    "encoder.fit(y_train)\n",
    "y_train_norm = encoder.transform(y_train)\n",
    "y_test_norm = encoder.transform(y_test)\n",
    "\n",
    "# Change to float32, so it can be multiplied against the features in TensorFlow, which are float32\n",
    "y_train_norm = y_train_norm.astype(np.float32)\n",
    "y_test_norm  = y_test_norm.astype(np.float32)"
   ]
  },
  {
   "cell_type": "code",
   "execution_count": null,
   "metadata": {
    "collapsed": false
   },
   "outputs": [],
   "source": [
    "y_train_norm.shape"
   ]
  },
  {
   "cell_type": "code",
   "execution_count": null,
   "metadata": {
    "collapsed": true
   },
   "outputs": [],
   "source": []
  },
  {
   "cell_type": "markdown",
   "metadata": {},
   "source": [
    "### Question 1 \n",
    "\n",
    "_Describe the techniques used to preprocess the data._"
   ]
  },
  {
   "cell_type": "markdown",
   "metadata": {},
   "source": [
    "**Answer:**\n",
    "\n",
    "Alexey:\n",
    "I have decided to start with simple normalization of levels, keeping RGB channels intact\n",
    "\n",
    "\n",
    "\n",
    "."
   ]
  },
  {
   "cell_type": "code",
   "execution_count": null,
   "metadata": {
    "collapsed": true
   },
   "outputs": [],
   "source": [
    "### Generate data additional (if you want to!)\n",
    "### and split the data into training/validation/testing sets here.\n",
    "### Feel free to use as many code cells as needed."
   ]
  },
  {
   "cell_type": "code",
   "execution_count": 8,
   "metadata": {
    "collapsed": false
   },
   "outputs": [],
   "source": [
    "pct_train = 90.\n",
    "pct_valid = 10.\n",
    "random_state = 123\n",
    "\n",
    "#n = x_train_norm.shape[0]\n",
    "train_features, val_features, train_labels, val_labels = train_test_split(\n",
    "                                                            x_train_norm, y_train_norm, \n",
    "                                                            train_size = pct_train/100., \n",
    "                                                            test_size = pct_valid/100.,\n",
    "                                                            random_state = random_state)"
   ]
  },
  {
   "cell_type": "code",
   "execution_count": null,
   "metadata": {
    "collapsed": false
   },
   "outputs": [],
   "source": [
    "train_features.shape, train_labels.shape"
   ]
  },
  {
   "cell_type": "code",
   "execution_count": 9,
   "metadata": {
    "collapsed": false
   },
   "outputs": [
    {
     "data": {
      "text/plain": [
       "(1024, 43)"
      ]
     },
     "execution_count": 9,
     "metadata": {},
     "output_type": "execute_result"
    }
   ],
   "source": [
    "features_count = np.prod(train_features.shape[1:])\n",
    "labels_count = len(set(y_train))\n",
    "features_count, labels_count"
   ]
  },
  {
   "cell_type": "code",
   "execution_count": 10,
   "metadata": {
    "collapsed": false
   },
   "outputs": [
    {
     "data": {
      "text/plain": [
       "35288"
      ]
     },
     "execution_count": 10,
     "metadata": {},
     "output_type": "execute_result"
    }
   ],
   "source": [
    "len(train_features)"
   ]
  },
  {
   "cell_type": "code",
   "execution_count": null,
   "metadata": {
    "collapsed": true
   },
   "outputs": [],
   "source": []
  },
  {
   "cell_type": "markdown",
   "metadata": {},
   "source": [
    "### Question 2\n",
    "\n",
    "_Describe how you set up the training, validation and testing data for your model. If you generated additional data, why?_"
   ]
  },
  {
   "cell_type": "markdown",
   "metadata": {},
   "source": [
    "**Answer:**"
   ]
  },
  {
   "cell_type": "code",
   "execution_count": null,
   "metadata": {
    "collapsed": true
   },
   "outputs": [],
   "source": [
    "### Define your architecture here.\n",
    "### Feel free to use as many code cells as needed."
   ]
  },
  {
   "cell_type": "code",
   "execution_count": 11,
   "metadata": {
    "collapsed": false
   },
   "outputs": [
    {
     "name": "stderr",
     "output_type": "stream",
     "text": [
      "/Users/alexeysimonov/anaconda/lib/python3.5/site-packages/sklearn/cross_validation.py:44: DeprecationWarning: This module was deprecated in version 0.18 in favor of the model_selection module into which all the refactored classes and functions are moved. Also note that the interface of the new CV iterators are different from that of this module. This module will be removed in 0.20.\n",
      "  \"This module will be removed in 0.20.\", DeprecationWarning)\n"
     ]
    }
   ],
   "source": [
    "import tensorflow as tf\n",
    "import math\n",
    "from datetime import datetime"
   ]
  },
  {
   "cell_type": "code",
   "execution_count": null,
   "metadata": {
    "collapsed": true
   },
   "outputs": [],
   "source": []
  },
  {
   "cell_type": "code",
   "execution_count": null,
   "metadata": {
    "collapsed": true
   },
   "outputs": [],
   "source": []
  },
  {
   "cell_type": "code",
   "execution_count": 12,
   "metadata": {
    "collapsed": false
   },
   "outputs": [],
   "source": [
    "# Set the features and labels tensors\n",
    "with tf.device('/gpu:0'):\n",
    "#    with tf.variable_scope('foo', reuse=True):\n",
    "        features = tf.placeholder(tf.float32)\n",
    "        labels = tf.placeholder(tf.float32)\n",
    "\n",
    "        features_flat = tf.reshape(features, [-1, features_count])\n",
    "\n",
    "        n_hidden_layer = 1000 # layer number of features\n",
    "\n",
    "        init_range1 = math.sqrt(6.0 / (features_count + n_hidden_layer))\n",
    "        init_range2 = math.sqrt(6.0 / (labels_count + n_hidden_layer))\n",
    "        weights = {\n",
    "            'hidden_layer': tf.Variable(tf.random_uniform([features_count, n_hidden_layer], -init_range1, init_range1)),\n",
    "            #'hidden_layer': tf.get_variable('w1', \n",
    "            #                                shape=[features_count, n_hidden_layer],\n",
    "            #                                initializer=tf.contrib.layers.xavier_initializer(features_count, n_hidden_layer)\n",
    "            #                               ),\n",
    "            'out': tf.Variable(tf.random_uniform([n_hidden_layer, labels_count], -init_range2, init_range2))\n",
    "            #'out': tf.get_variable('w2', \n",
    "            #                       shape=[n_hidden_layer, labels_count],\n",
    "            #                       initializer=tf.contrib.layers.xavier_initializer(n_hidden_layer, labels_count)\n",
    "            #                      )\n",
    "        }\n",
    "        biases = {\n",
    "            'hidden_layer': tf.Variable(tf.random_normal([n_hidden_layer])),\n",
    "            'out': tf.Variable(tf.random_normal([labels_count]))\n",
    "        }\n",
    "\n",
    "        #weights = tf.Variable(tf.truncated_normal((features_count, labels_count)))\n",
    "        #biases = tf.Variable(tf.zeros(labels_count))\n",
    "\n",
    "        logits = tf.add(tf.matmul(features_flat, weights['hidden_layer']), biases['hidden_layer'])\n",
    "        layer_1 = tf.nn.relu(logits)\n",
    "        logits2 = tf.add(tf.matmul(layer_1, weights['out']), biases['out'])\n",
    "\n",
    "        prediction = tf.nn.softmax(logits2)\n",
    "\n",
    "        # Cross entropy\n",
    "        cross_entropy = tf.nn.softmax_cross_entropy_with_logits(logits2, labels)\n",
    "        #-tf.reduce_sum(labels * tf.log(prediction), reduction_indices=1)\n",
    "\n",
    "        # Training loss\n",
    "        loss = tf.reduce_mean(cross_entropy)\n",
    "        loss_sum = tf.reduce_sum(cross_entropy)\n",
    "\n",
    "        # Determine if the predictions are correct\n",
    "        is_correct_prediction = tf.equal(tf.argmax(prediction, 1), tf.argmax(labels, 1))\n",
    "        # Calculate the accuracy of the predictions\n",
    "        accuracy = tf.reduce_mean(tf.cast(is_correct_prediction, tf.float32))\n",
    "        accuracy_sum = tf.reduce_sum(tf.cast(is_correct_prediction, tf.float32))\n",
    "\n",
    "        # Create an operation that initializes all variables\n",
    "        init = tf.initialize_all_variables()\n"
   ]
  },
  {
   "cell_type": "code",
   "execution_count": 13,
   "metadata": {
    "collapsed": true
   },
   "outputs": [],
   "source": [
    "# learning parameters\n",
    "epochs = 500\n",
    "batch_size = 200\n",
    "learning_rate = 0.07\n",
    "model_param_file = 'perceptron1000-gray-relu.ckpt'"
   ]
  },
  {
   "cell_type": "code",
   "execution_count": 14,
   "metadata": {
    "collapsed": true
   },
   "outputs": [],
   "source": [
    "# Feed dicts for training, validation, and test session\n",
    "train_feed_dict = {features: train_features, labels: train_labels}\n",
    "val_feed_dict = {features: val_features, labels: val_labels}\n",
    "#test_feed_dict = {features: test_features, labels: test_labels}"
   ]
  },
  {
   "cell_type": "code",
   "execution_count": null,
   "metadata": {
    "collapsed": true
   },
   "outputs": [],
   "source": []
  },
  {
   "cell_type": "code",
   "execution_count": null,
   "metadata": {
    "collapsed": true
   },
   "outputs": [],
   "source": []
  },
  {
   "cell_type": "code",
   "execution_count": null,
   "metadata": {
    "collapsed": false
   },
   "outputs": [],
   "source": [
    "# for debug\n",
    "optimizer = tf.train.GradientDescentOptimizer(learning_rate).minimize(loss)    \n",
    "batch_count = int(math.ceil(len(train_features)/batch_size))\n",
    "session = tf.Session()\n",
    "session.run(init)\n",
    "batch_i = 0\n",
    "batch_start = batch_i*batch_size\n",
    "batch_features = train_features[batch_start:batch_start + batch_size]\n",
    "batch_labels = train_labels[batch_start:batch_start + batch_size]"
   ]
  },
  {
   "cell_type": "code",
   "execution_count": null,
   "metadata": {
    "collapsed": false
   },
   "outputs": [],
   "source": [
    "batch_features.shape, batch_labels.shape"
   ]
  },
  {
   "cell_type": "code",
   "execution_count": null,
   "metadata": {
    "collapsed": false
   },
   "outputs": [],
   "source": [
    "#pr = tf.Print(prediction, [tf.shape(prediction)], 'prediction shape = ', first_n=100)\n",
    "out = session.run(\n",
    "    [cross_entropy],\n",
    "    feed_dict={features: batch_features, labels: batch_labels})"
   ]
  },
  {
   "cell_type": "code",
   "execution_count": null,
   "metadata": {
    "collapsed": false
   },
   "outputs": [],
   "source": [
    "#out"
   ]
  },
  {
   "cell_type": "code",
   "execution_count": null,
   "metadata": {
    "collapsed": false
   },
   "outputs": [],
   "source": [
    "len(out)"
   ]
  },
  {
   "cell_type": "code",
   "execution_count": null,
   "metadata": {
    "collapsed": false
   },
   "outputs": [],
   "source": [
    "out[0].shape"
   ]
  },
  {
   "cell_type": "code",
   "execution_count": null,
   "metadata": {
    "collapsed": true
   },
   "outputs": [],
   "source": []
  },
  {
   "cell_type": "code",
   "execution_count": 15,
   "metadata": {
    "collapsed": false,
    "scrolled": true
   },
   "outputs": [
    {
     "name": "stderr",
     "output_type": "stream",
     "text": [
      "Train Epoch  1/500: 100%|██████████| 177/177 [00:02<00:00, 77.00batches/s]\n",
      "Train Accuracy Epoch  1/500: 100%|██████████| 177/177 [00:01<00:00, 171.53batches/s]\n",
      "Val Accuracy Epoch  1/500: 100%|██████████| 20/20 [00:00<00:00, 191.43batches/s]\n",
      "Train Epoch  2/500:   0%|          | 0/177 [00:00<?, ?batches/s]"
     ]
    },
    {
     "name": "stdout",
     "output_type": "stream",
     "text": [
      "epoch 0, val accuracy: 0.62203519510329\n"
     ]
    },
    {
     "name": "stderr",
     "output_type": "stream",
     "text": [
      "Train Epoch  2/500: 100%|██████████| 177/177 [00:01<00:00, 104.57batches/s]\n",
      "Train Accuracy Epoch  2/500: 100%|██████████| 177/177 [00:00<00:00, 179.16batches/s]\n",
      "Val Accuracy Epoch  2/500: 100%|██████████| 20/20 [00:00<00:00, 251.18batches/s]\n"
     ]
    },
    {
     "name": "stdout",
     "output_type": "stream",
     "text": [
      "epoch 1, val accuracy: 0.7299158377964805\n"
     ]
    },
    {
     "name": "stderr",
     "output_type": "stream",
     "text": [
      "Train Epoch  3/500: 100%|██████████| 177/177 [00:01<00:00, 104.80batches/s]\n",
      "Train Accuracy Epoch  3/500: 100%|██████████| 177/177 [00:01<00:00, 175.57batches/s]\n",
      "Val Accuracy Epoch  3/500: 100%|██████████| 20/20 [00:00<00:00, 241.60batches/s]\n",
      "Train Epoch  4/500:   0%|          | 0/177 [00:00<?, ?batches/s]"
     ]
    },
    {
     "name": "stdout",
     "output_type": "stream",
     "text": [
      "epoch 2, val accuracy: 0.7595001275184902\n"
     ]
    },
    {
     "name": "stderr",
     "output_type": "stream",
     "text": [
      "Train Epoch  4/500: 100%|██████████| 177/177 [00:01<00:00, 102.72batches/s]\n",
      "Train Accuracy Epoch  4/500: 100%|██████████| 177/177 [00:01<00:00, 174.75batches/s]\n",
      "Val Accuracy Epoch  4/500: 100%|██████████| 20/20 [00:00<00:00, 244.58batches/s]\n"
     ]
    },
    {
     "name": "stdout",
     "output_type": "stream",
     "text": [
      "epoch 3, val accuracy: 0.8408569242540168\n"
     ]
    },
    {
     "name": "stderr",
     "output_type": "stream",
     "text": [
      "Train Epoch  5/500: 100%|██████████| 177/177 [00:01<00:00, 102.95batches/s]\n",
      "Train Accuracy Epoch  5/500: 100%|██████████| 177/177 [00:01<00:00, 174.79batches/s]\n",
      "Val Accuracy Epoch  5/500: 100%|██████████| 20/20 [00:00<00:00, 246.40batches/s]\n",
      "Train Epoch  6/500:   0%|          | 0/177 [00:00<?, ?batches/s]"
     ]
    },
    {
     "name": "stdout",
     "output_type": "stream",
     "text": [
      "epoch 4, val accuracy: 0.7753124203009436\n"
     ]
    },
    {
     "name": "stderr",
     "output_type": "stream",
     "text": [
      "Train Epoch  6/500: 100%|██████████| 177/177 [00:01<00:00, 105.14batches/s]\n",
      "Train Accuracy Epoch  6/500: 100%|██████████| 177/177 [00:01<00:00, 169.95batches/s]\n",
      "Val Accuracy Epoch  6/500: 100%|██████████| 20/20 [00:00<00:00, 228.61batches/s]\n",
      "Train Epoch  7/500:   0%|          | 0/177 [00:00<?, ?batches/s]"
     ]
    },
    {
     "name": "stdout",
     "output_type": "stream",
     "text": [
      "epoch 5, val accuracy: 0.8477429227237949\n"
     ]
    },
    {
     "name": "stderr",
     "output_type": "stream",
     "text": [
      "Train Epoch  7/500: 100%|██████████| 177/177 [00:01<00:00, 100.97batches/s]\n",
      "Train Accuracy Epoch  7/500: 100%|██████████| 177/177 [00:01<00:00, 171.60batches/s]\n",
      "Val Accuracy Epoch  7/500: 100%|██████████| 20/20 [00:00<00:00, 242.73batches/s]\n",
      "Train Epoch  8/500:   0%|          | 0/177 [00:00<?, ?batches/s]"
     ]
    },
    {
     "name": "stdout",
     "output_type": "stream",
     "text": [
      "epoch 6, val accuracy: 0.8107625605712828\n"
     ]
    },
    {
     "name": "stderr",
     "output_type": "stream",
     "text": [
      "Train Epoch  8/500: 100%|██████████| 177/177 [00:01<00:00, 106.61batches/s]\n",
      "Train Accuracy Epoch  8/500: 100%|██████████| 177/177 [00:01<00:00, 164.16batches/s]\n",
      "Val Accuracy Epoch  8/500: 100%|██████████| 20/20 [00:00<00:00, 242.07batches/s]\n",
      "Train Epoch  9/500:   0%|          | 0/177 [00:00<?, ?batches/s]"
     ]
    },
    {
     "name": "stdout",
     "output_type": "stream",
     "text": [
      "epoch 7, val accuracy: 0.9005355776587605\n"
     ]
    },
    {
     "name": "stderr",
     "output_type": "stream",
     "text": [
      "Train Epoch  9/500: 100%|██████████| 177/177 [00:01<00:00, 105.57batches/s]\n",
      "Train Accuracy Epoch  9/500: 100%|██████████| 177/177 [00:01<00:00, 174.86batches/s]\n",
      "Val Accuracy Epoch  9/500: 100%|██████████| 20/20 [00:00<00:00, 241.69batches/s]\n",
      "Train Epoch 10/500:   0%|          | 0/177 [00:00<?, ?batches/s]"
     ]
    },
    {
     "name": "stdout",
     "output_type": "stream",
     "text": [
      "epoch 8, val accuracy: 0.9099719459321601\n"
     ]
    },
    {
     "name": "stderr",
     "output_type": "stream",
     "text": [
      "Train Epoch 10/500: 100%|██████████| 177/177 [00:01<00:00, 104.88batches/s]\n",
      "Train Accuracy Epoch 10/500: 100%|██████████| 177/177 [00:01<00:00, 169.80batches/s]\n",
      "Val Accuracy Epoch 10/500: 100%|██████████| 20/20 [00:00<00:00, 242.43batches/s]\n",
      "Train Epoch 11/500:   0%|          | 0/177 [00:00<?, ?batches/s]"
     ]
    },
    {
     "name": "stdout",
     "output_type": "stream",
     "text": [
      "epoch 9, val accuracy: 0.8426421831165519\n"
     ]
    },
    {
     "name": "stderr",
     "output_type": "stream",
     "text": [
      "Train Epoch 11/500: 100%|██████████| 177/177 [00:01<00:00, 101.72batches/s]\n",
      "Train Accuracy Epoch 11/500: 100%|██████████| 177/177 [00:01<00:00, 171.70batches/s]\n",
      "Val Accuracy Epoch 11/500: 100%|██████████| 20/20 [00:00<00:00, 201.66batches/s]\n"
     ]
    },
    {
     "name": "stdout",
     "output_type": "stream",
     "text": [
      "epoch 10, val accuracy: 0.8908441724049987\n"
     ]
    },
    {
     "name": "stderr",
     "output_type": "stream",
     "text": [
      "Train Epoch 12/500: 100%|██████████| 177/177 [00:01<00:00, 96.76batches/s]\n",
      "Train Accuracy Epoch 12/500: 100%|██████████| 177/177 [00:01<00:00, 170.99batches/s]\n",
      "Val Accuracy Epoch 12/500: 100%|██████████| 20/20 [00:00<00:00, 237.04batches/s]\n",
      "Train Epoch 13/500:   0%|          | 0/177 [00:00<?, ?batches/s]"
     ]
    },
    {
     "name": "stdout",
     "output_type": "stream",
     "text": [
      "epoch 11, val accuracy: 0.8969650599336904\n"
     ]
    },
    {
     "name": "stderr",
     "output_type": "stream",
     "text": [
      "Train Epoch 13/500: 100%|██████████| 177/177 [00:01<00:00, 101.00batches/s]\n",
      "Train Accuracy Epoch 13/500: 100%|██████████| 177/177 [00:01<00:00, 160.74batches/s]\n",
      "Val Accuracy Epoch 13/500: 100%|██████████| 20/20 [00:00<00:00, 243.50batches/s]\n",
      "Train Epoch 14/500:   0%|          | 0/177 [00:00<?, ?batches/s]"
     ]
    },
    {
     "name": "stdout",
     "output_type": "stream",
     "text": [
      "epoch 12, val accuracy: 0.8921193573068095\n"
     ]
    },
    {
     "name": "stderr",
     "output_type": "stream",
     "text": [
      "Train Epoch 14/500: 100%|██████████| 177/177 [00:01<00:00, 97.84batches/s] \n",
      "Train Accuracy Epoch 14/500: 100%|██████████| 177/177 [00:01<00:00, 153.22batches/s]\n",
      "Val Accuracy Epoch 14/500: 100%|██████████| 20/20 [00:00<00:00, 220.96batches/s]\n",
      "Train Epoch 15/500:   0%|          | 0/177 [00:00<?, ?batches/s]"
     ]
    },
    {
     "name": "stdout",
     "output_type": "stream",
     "text": [
      "epoch 13, val accuracy: 0.8808977301708748\n"
     ]
    },
    {
     "name": "stderr",
     "output_type": "stream",
     "text": [
      "Train Epoch 15/500: 100%|██████████| 177/177 [00:01<00:00, 102.33batches/s]\n",
      "Train Accuracy Epoch 15/500: 100%|██████████| 177/177 [00:01<00:00, 167.53batches/s]\n",
      "Val Accuracy Epoch 15/500: 100%|██████████| 20/20 [00:00<00:00, 213.00batches/s]\n"
     ]
    },
    {
     "name": "stdout",
     "output_type": "stream",
     "text": [
      "epoch 14, val accuracy: 0.9069115021678144\n"
     ]
    },
    {
     "name": "stderr",
     "output_type": "stream",
     "text": [
      "Train Epoch 16/500: 100%|██████████| 177/177 [00:01<00:00, 100.63batches/s]\n",
      "Train Accuracy Epoch 16/500: 100%|██████████| 177/177 [00:01<00:00, 153.95batches/s]\n",
      "Val Accuracy Epoch 16/500: 100%|██████████| 20/20 [00:00<00:00, 239.50batches/s]\n",
      "Train Epoch 17/500:   0%|          | 0/177 [00:00<?, ?batches/s]"
     ]
    },
    {
     "name": "stdout",
     "output_type": "stream",
     "text": [
      "epoch 15, val accuracy: 0.9296097934200459\n"
     ]
    },
    {
     "name": "stderr",
     "output_type": "stream",
     "text": [
      "Train Epoch 17/500: 100%|██████████| 177/177 [00:01<00:00, 104.12batches/s]\n",
      "Train Accuracy Epoch 17/500: 100%|██████████| 177/177 [00:01<00:00, 161.36batches/s]\n",
      "Val Accuracy Epoch 17/500: 100%|██████████| 20/20 [00:00<00:00, 242.23batches/s]\n",
      "Train Epoch 18/500:   0%|          | 0/177 [00:00<?, ?batches/s]"
     ]
    },
    {
     "name": "stdout",
     "output_type": "stream",
     "text": [
      "epoch 16, val accuracy: 0.9173680183626626\n"
     ]
    },
    {
     "name": "stderr",
     "output_type": "stream",
     "text": [
      "Train Epoch 18/500: 100%|██████████| 177/177 [00:01<00:00, 103.10batches/s]\n",
      "Train Accuracy Epoch 18/500: 100%|██████████| 177/177 [00:01<00:00, 152.38batches/s]\n",
      "Val Accuracy Epoch 18/500: 100%|██████████| 20/20 [00:00<00:00, 223.52batches/s]\n",
      "Train Epoch 19/500:   0%|          | 0/177 [00:00<?, ?batches/s]"
     ]
    },
    {
     "name": "stdout",
     "output_type": "stream",
     "text": [
      "epoch 17, val accuracy: 0.9306299413414946\n"
     ]
    },
    {
     "name": "stderr",
     "output_type": "stream",
     "text": [
      "Train Epoch 19/500: 100%|██████████| 177/177 [00:01<00:00, 100.79batches/s]\n",
      "Train Accuracy Epoch 19/500: 100%|██████████| 177/177 [00:01<00:00, 166.19batches/s]\n",
      "Val Accuracy Epoch 19/500: 100%|██████████| 20/20 [00:00<00:00, 243.71batches/s]\n",
      "Train Epoch 20/500:   0%|          | 0/177 [00:00<?, ?batches/s]"
     ]
    },
    {
     "name": "stdout",
     "output_type": "stream",
     "text": [
      "epoch 18, val accuracy: 0.9319051262433052\n"
     ]
    },
    {
     "name": "stderr",
     "output_type": "stream",
     "text": [
      "Train Epoch 20/500: 100%|██████████| 177/177 [00:01<00:00, 100.89batches/s]\n",
      "Train Accuracy Epoch 20/500: 100%|██████████| 177/177 [00:01<00:00, 164.64batches/s]\n",
      "Val Accuracy Epoch 20/500: 100%|██████████| 20/20 [00:00<00:00, 232.41batches/s]\n",
      "Train Epoch 21/500:   0%|          | 0/177 [00:00<?, ?batches/s]"
     ]
    },
    {
     "name": "stdout",
     "output_type": "stream",
     "text": [
      "epoch 19, val accuracy: 0.9339454220862025\n"
     ]
    },
    {
     "name": "stderr",
     "output_type": "stream",
     "text": [
      "Train Epoch 21/500: 100%|██████████| 177/177 [00:01<00:00, 101.60batches/s]\n",
      "Train Accuracy Epoch 21/500: 100%|██████████| 177/177 [00:01<00:00, 157.37batches/s]\n",
      "Val Accuracy Epoch 21/500: 100%|██████████| 20/20 [00:00<00:00, 246.73batches/s]\n",
      "Train Epoch 22/500:   0%|          | 0/177 [00:00<?, ?batches/s]"
     ]
    },
    {
     "name": "stdout",
     "output_type": "stream",
     "text": [
      "epoch 20, val accuracy: 0.9405763835756185\n"
     ]
    },
    {
     "name": "stderr",
     "output_type": "stream",
     "text": [
      "Train Epoch 22/500: 100%|██████████| 177/177 [00:01<00:00, 101.45batches/s]\n",
      "Train Accuracy Epoch 22/500: 100%|██████████| 177/177 [00:01<00:00, 172.68batches/s]\n",
      "Val Accuracy Epoch 22/500: 100%|██████████| 20/20 [00:00<00:00, 241.40batches/s]\n",
      "Train Epoch 23/500:   0%|          | 0/177 [00:00<?, ?batches/s]"
     ]
    },
    {
     "name": "stdout",
     "output_type": "stream",
     "text": [
      "epoch 21, val accuracy: 0.9326702371843917\n"
     ]
    },
    {
     "name": "stderr",
     "output_type": "stream",
     "text": [
      "Train Epoch 23/500: 100%|██████████| 177/177 [00:01<00:00, 98.45batches/s]\n",
      "Train Accuracy Epoch 23/500: 100%|██████████| 177/177 [00:01<00:00, 162.84batches/s]\n",
      "Val Accuracy Epoch 23/500: 100%|██████████| 20/20 [00:00<00:00, 238.09batches/s]\n",
      "Train Epoch 24/500:   0%|          | 0/177 [00:00<?, ?batches/s]"
     ]
    },
    {
     "name": "stdout",
     "output_type": "stream",
     "text": [
      "epoch 22, val accuracy: 0.9329252741647539\n"
     ]
    },
    {
     "name": "stderr",
     "output_type": "stream",
     "text": [
      "Train Epoch 24/500: 100%|██████████| 177/177 [00:01<00:00, 100.82batches/s]\n",
      "Train Accuracy Epoch 24/500: 100%|██████████| 177/177 [00:01<00:00, 171.23batches/s]\n",
      "Val Accuracy Epoch 24/500: 100%|██████████| 20/20 [00:00<00:00, 246.58batches/s]\n",
      "Train Epoch 25/500:   0%|          | 0/177 [00:00<?, ?batches/s]"
     ]
    },
    {
     "name": "stdout",
     "output_type": "stream",
     "text": [
      "epoch 23, val accuracy: 0.90640142820709\n"
     ]
    },
    {
     "name": "stderr",
     "output_type": "stream",
     "text": [
      "Train Epoch 25/500: 100%|██████████| 177/177 [00:01<00:00, 105.22batches/s]\n",
      "Train Accuracy Epoch 25/500: 100%|██████████| 177/177 [00:01<00:00, 175.10batches/s]\n",
      "Val Accuracy Epoch 25/500: 100%|██████████| 20/20 [00:00<00:00, 241.66batches/s]\n",
      "Train Epoch 26/500:   0%|          | 0/177 [00:00<?, ?batches/s]"
     ]
    },
    {
     "name": "stdout",
     "output_type": "stream",
     "text": [
      "epoch 24, val accuracy: 0.928079571537873\n"
     ]
    },
    {
     "name": "stderr",
     "output_type": "stream",
     "text": [
      "Train Epoch 26/500: 100%|██████████| 177/177 [00:01<00:00, 103.18batches/s]\n",
      "Train Accuracy Epoch 26/500: 100%|██████████| 177/177 [00:01<00:00, 162.11batches/s]\n",
      "Val Accuracy Epoch 26/500: 100%|██████████| 20/20 [00:00<00:00, 248.67batches/s]\n",
      "Train Epoch 27/500:   0%|          | 0/177 [00:00<?, ?batches/s]"
     ]
    },
    {
     "name": "stdout",
     "output_type": "stream",
     "text": [
      "epoch 25, val accuracy: 0.9472073450650345\n"
     ]
    },
    {
     "name": "stderr",
     "output_type": "stream",
     "text": [
      "Train Epoch 27/500: 100%|██████████| 177/177 [00:01<00:00, 103.81batches/s]\n",
      "Train Accuracy Epoch 27/500: 100%|██████████| 177/177 [00:01<00:00, 172.55batches/s]\n",
      "Val Accuracy Epoch 27/500: 100%|██████████| 20/20 [00:00<00:00, 244.08batches/s]\n",
      "Train Epoch 28/500:   0%|          | 0/177 [00:00<?, ?batches/s]"
     ]
    },
    {
     "name": "stdout",
     "output_type": "stream",
     "text": [
      "epoch 26, val accuracy: 0.9217036470288191\n"
     ]
    },
    {
     "name": "stderr",
     "output_type": "stream",
     "text": [
      "Train Epoch 28/500: 100%|██████████| 177/177 [00:01<00:00, 104.29batches/s]\n",
      "Train Accuracy Epoch 28/500: 100%|██████████| 177/177 [00:00<00:00, 177.71batches/s]\n",
      "Val Accuracy Epoch 28/500: 100%|██████████| 20/20 [00:00<00:00, 246.44batches/s]\n",
      "Train Epoch 29/500:   0%|          | 0/177 [00:00<?, ?batches/s]"
     ]
    },
    {
     "name": "stdout",
     "output_type": "stream",
     "text": [
      "epoch 27, val accuracy: 0.939811272634532\n"
     ]
    },
    {
     "name": "stderr",
     "output_type": "stream",
     "text": [
      "Train Epoch 29/500: 100%|██████████| 177/177 [00:01<00:00, 106.36batches/s]\n",
      "Train Accuracy Epoch 29/500: 100%|██████████| 177/177 [00:00<00:00, 177.23batches/s]\n",
      "Val Accuracy Epoch 29/500: 100%|██████████| 20/20 [00:00<00:00, 248.07batches/s]\n",
      "Train Epoch 30/500:   0%|          | 0/177 [00:00<?, ?batches/s]"
     ]
    },
    {
     "name": "stdout",
     "output_type": "stream",
     "text": [
      "epoch 28, val accuracy: 0.9525631216526397\n"
     ]
    },
    {
     "name": "stderr",
     "output_type": "stream",
     "text": [
      "Train Epoch 30/500: 100%|██████████| 177/177 [00:01<00:00, 106.26batches/s]\n",
      "Train Accuracy Epoch 30/500: 100%|██████████| 177/177 [00:01<00:00, 173.08batches/s]\n",
      "Val Accuracy Epoch 30/500: 100%|██████████| 20/20 [00:00<00:00, 250.29batches/s]\n",
      "Train Epoch 31/500:   0%|          | 0/177 [00:00<?, ?batches/s]"
     ]
    },
    {
     "name": "stdout",
     "output_type": "stream",
     "text": [
      "epoch 29, val accuracy: 0.9523080846722775\n"
     ]
    },
    {
     "name": "stderr",
     "output_type": "stream",
     "text": [
      "Train Epoch 31/500: 100%|██████████| 177/177 [00:01<00:00, 105.21batches/s]\n",
      "Train Accuracy Epoch 31/500: 100%|██████████| 177/177 [00:01<00:00, 171.17batches/s]\n",
      "Val Accuracy Epoch 31/500: 100%|██████████| 20/20 [00:00<00:00, 235.32batches/s]\n",
      "Train Epoch 32/500:   0%|          | 0/177 [00:00<?, ?batches/s]"
     ]
    },
    {
     "name": "stdout",
     "output_type": "stream",
     "text": [
      "epoch 30, val accuracy: 0.9385360877327212\n"
     ]
    },
    {
     "name": "stderr",
     "output_type": "stream",
     "text": [
      "Train Epoch 32/500: 100%|██████████| 177/177 [00:01<00:00, 102.53batches/s]\n",
      "Train Accuracy Epoch 32/500: 100%|██████████| 177/177 [00:01<00:00, 173.14batches/s]\n",
      "Val Accuracy Epoch 32/500: 100%|██████████| 20/20 [00:00<00:00, 244.32batches/s]\n",
      "Train Epoch 33/500:   0%|          | 0/177 [00:00<?, ?batches/s]"
     ]
    },
    {
     "name": "stdout",
     "output_type": "stream",
     "text": [
      "epoch 31, val accuracy: 0.9227237949502678\n"
     ]
    },
    {
     "name": "stderr",
     "output_type": "stream",
     "text": [
      "Train Epoch 33/500: 100%|██████████| 177/177 [00:01<00:00, 106.26batches/s]\n",
      "Train Accuracy Epoch 33/500: 100%|██████████| 177/177 [00:01<00:00, 175.54batches/s]\n",
      "Val Accuracy Epoch 33/500: 100%|██████████| 20/20 [00:00<00:00, 244.56batches/s]\n",
      "Train Epoch 34/500:   0%|          | 0/177 [00:00<?, ?batches/s]"
     ]
    },
    {
     "name": "stdout",
     "output_type": "stream",
     "text": [
      "epoch 32, val accuracy: 0.9046161693445549\n"
     ]
    },
    {
     "name": "stderr",
     "output_type": "stream",
     "text": [
      "Train Epoch 34/500: 100%|██████████| 177/177 [00:01<00:00, 102.76batches/s]\n",
      "Train Accuracy Epoch 34/500: 100%|██████████| 177/177 [00:00<00:00, 177.91batches/s]\n",
      "Val Accuracy Epoch 34/500: 100%|██████████| 20/20 [00:00<00:00, 247.38batches/s]\n",
      "Train Epoch 35/500:   0%|          | 0/177 [00:00<?, ?batches/s]"
     ]
    },
    {
     "name": "stdout",
     "output_type": "stream",
     "text": [
      "epoch 33, val accuracy: 0.8768171384850804\n"
     ]
    },
    {
     "name": "stderr",
     "output_type": "stream",
     "text": [
      "Train Epoch 35/500: 100%|██████████| 177/177 [00:01<00:00, 106.17batches/s]\n",
      "Train Accuracy Epoch 35/500: 100%|██████████| 177/177 [00:01<00:00, 174.73batches/s]\n",
      "Val Accuracy Epoch 35/500: 100%|██████████| 20/20 [00:00<00:00, 241.07batches/s]\n",
      "Train Epoch 36/500:   0%|          | 0/177 [00:00<?, ?batches/s]"
     ]
    },
    {
     "name": "stdout",
     "output_type": "stream",
     "text": [
      "epoch 34, val accuracy: 0.9375159398112727\n"
     ]
    },
    {
     "name": "stderr",
     "output_type": "stream",
     "text": [
      "Train Epoch 36/500: 100%|██████████| 177/177 [00:01<00:00, 105.50batches/s]\n",
      "Train Accuracy Epoch 36/500: 100%|██████████| 177/177 [00:01<00:00, 174.48batches/s]\n",
      "Val Accuracy Epoch 36/500: 100%|██████████| 20/20 [00:00<00:00, 245.83batches/s]\n",
      "Train Epoch 37/500:   0%|          | 0/177 [00:00<?, ?batches/s]"
     ]
    },
    {
     "name": "stdout",
     "output_type": "stream",
     "text": [
      "epoch 35, val accuracy: 0.9520530476919153\n"
     ]
    },
    {
     "name": "stderr",
     "output_type": "stream",
     "text": [
      "Train Epoch 37/500: 100%|██████████| 177/177 [00:01<00:00, 106.06batches/s]\n",
      "Train Accuracy Epoch 37/500: 100%|██████████| 177/177 [00:00<00:00, 180.02batches/s]\n",
      "Val Accuracy Epoch 37/500: 100%|██████████| 20/20 [00:00<00:00, 245.87batches/s]\n",
      "Train Epoch 38/500:   0%|          | 0/177 [00:00<?, ?batches/s]"
     ]
    },
    {
     "name": "stdout",
     "output_type": "stream",
     "text": [
      "epoch 36, val accuracy: 0.9173680183626626\n"
     ]
    },
    {
     "name": "stderr",
     "output_type": "stream",
     "text": [
      "Train Epoch 38/500: 100%|██████████| 177/177 [00:01<00:00, 106.27batches/s]\n",
      "Train Accuracy Epoch 38/500: 100%|██████████| 177/177 [00:01<00:00, 175.52batches/s]\n",
      "Val Accuracy Epoch 38/500: 100%|██████████| 20/20 [00:00<00:00, 246.49batches/s]\n",
      "Train Epoch 39/500:   0%|          | 0/177 [00:00<?, ?batches/s]"
     ]
    },
    {
     "name": "stdout",
     "output_type": "stream",
     "text": [
      "epoch 37, val accuracy: 0.9390461616934456\n"
     ]
    },
    {
     "name": "stderr",
     "output_type": "stream",
     "text": [
      "Train Epoch 39/500: 100%|██████████| 177/177 [00:01<00:00, 106.58batches/s]\n",
      "Train Accuracy Epoch 39/500: 100%|██████████| 177/177 [00:00<00:00, 179.63batches/s]\n",
      "Val Accuracy Epoch 39/500: 100%|██████████| 20/20 [00:00<00:00, 249.91batches/s]\n",
      "Train Epoch 40/500:   0%|          | 0/177 [00:00<?, ?batches/s]"
     ]
    },
    {
     "name": "stdout",
     "output_type": "stream",
     "text": [
      "epoch 38, val accuracy: 0.9558786023973476\n"
     ]
    },
    {
     "name": "stderr",
     "output_type": "stream",
     "text": [
      "Train Epoch 40/500: 100%|██████████| 177/177 [00:01<00:00, 106.76batches/s]\n",
      "Train Accuracy Epoch 40/500: 100%|██████████| 177/177 [00:00<00:00, 177.09batches/s]\n",
      "Val Accuracy Epoch 40/500: 100%|██████████| 20/20 [00:00<00:00, 250.36batches/s]\n",
      "Train Epoch 41/500:   0%|          | 0/177 [00:00<?, ?batches/s]"
     ]
    },
    {
     "name": "stdout",
     "output_type": "stream",
     "text": [
      "epoch 39, val accuracy: 0.9308849783218567\n"
     ]
    },
    {
     "name": "stderr",
     "output_type": "stream",
     "text": [
      "Train Epoch 41/500: 100%|██████████| 177/177 [00:01<00:00, 106.16batches/s]\n",
      "Train Accuracy Epoch 41/500: 100%|██████████| 177/177 [00:00<00:00, 179.23batches/s]\n",
      "Val Accuracy Epoch 41/500: 100%|██████████| 20/20 [00:00<00:00, 251.79batches/s]\n",
      "Train Epoch 42/500:   0%|          | 0/177 [00:00<?, ?batches/s]"
     ]
    },
    {
     "name": "stdout",
     "output_type": "stream",
     "text": [
      "epoch 40, val accuracy: 0.9484825299668452\n"
     ]
    },
    {
     "name": "stderr",
     "output_type": "stream",
     "text": [
      "Train Epoch 42/500: 100%|██████████| 177/177 [00:01<00:00, 106.54batches/s]\n",
      "Train Accuracy Epoch 42/500: 100%|██████████| 177/177 [00:00<00:00, 179.58batches/s]\n",
      "Val Accuracy Epoch 42/500: 100%|██████████| 20/20 [00:00<00:00, 252.05batches/s]\n",
      "Train Epoch 43/500:   0%|          | 0/177 [00:00<?, ?batches/s]"
     ]
    },
    {
     "name": "stdout",
     "output_type": "stream",
     "text": [
      "epoch 41, val accuracy: 0.9594491201224178\n"
     ]
    },
    {
     "name": "stderr",
     "output_type": "stream",
     "text": [
      "Train Epoch 43/500: 100%|██████████| 177/177 [00:01<00:00, 106.54batches/s]\n",
      "Train Accuracy Epoch 43/500: 100%|██████████| 177/177 [00:01<00:00, 175.77batches/s]\n",
      "Val Accuracy Epoch 43/500: 100%|██████████| 20/20 [00:00<00:00, 251.60batches/s]\n",
      "Train Epoch 44/500:   0%|          | 0/177 [00:00<?, ?batches/s]"
     ]
    },
    {
     "name": "stdout",
     "output_type": "stream",
     "text": [
      "epoch 42, val accuracy: 0.9319051262433052\n"
     ]
    },
    {
     "name": "stderr",
     "output_type": "stream",
     "text": [
      "Train Epoch 44/500: 100%|██████████| 177/177 [00:01<00:00, 104.75batches/s]\n",
      "Train Accuracy Epoch 44/500: 100%|██████████| 177/177 [00:01<00:00, 166.07batches/s]\n",
      "Val Accuracy Epoch 44/500: 100%|██████████| 20/20 [00:00<00:00, 238.83batches/s]\n",
      "Train Epoch 45/500:   0%|          | 0/177 [00:00<?, ?batches/s]"
     ]
    },
    {
     "name": "stdout",
     "output_type": "stream",
     "text": [
      "epoch 43, val accuracy: 0.9538383065544503\n"
     ]
    },
    {
     "name": "stderr",
     "output_type": "stream",
     "text": [
      "Train Epoch 45/500: 100%|██████████| 177/177 [00:01<00:00, 104.47batches/s]\n",
      "Train Accuracy Epoch 45/500: 100%|██████████| 177/177 [00:00<00:00, 177.01batches/s]\n",
      "Val Accuracy Epoch 45/500: 100%|██████████| 20/20 [00:00<00:00, 251.79batches/s]\n",
      "Train Epoch 46/500:   0%|          | 0/177 [00:00<?, ?batches/s]"
     ]
    },
    {
     "name": "stdout",
     "output_type": "stream",
     "text": [
      "epoch 44, val accuracy: 0.946442234123948\n"
     ]
    },
    {
     "name": "stderr",
     "output_type": "stream",
     "text": [
      "Train Epoch 46/500: 100%|██████████| 177/177 [00:01<00:00, 105.62batches/s]\n",
      "Train Accuracy Epoch 46/500: 100%|██████████| 177/177 [00:00<00:00, 177.95batches/s]\n",
      "Val Accuracy Epoch 46/500: 100%|██████████| 20/20 [00:00<00:00, 247.11batches/s]\n",
      "Train Epoch 47/500:   0%|          | 0/177 [00:00<?, ?batches/s]"
     ]
    },
    {
     "name": "stdout",
     "output_type": "stream",
     "text": [
      "epoch 45, val accuracy: 0.9607243050242286\n"
     ]
    },
    {
     "name": "stderr",
     "output_type": "stream",
     "text": [
      "Train Epoch 47/500: 100%|██████████| 177/177 [00:01<00:00, 106.18batches/s]\n",
      "Train Accuracy Epoch 47/500: 100%|██████████| 177/177 [00:00<00:00, 177.11batches/s]\n",
      "Val Accuracy Epoch 47/500: 100%|██████████| 20/20 [00:00<00:00, 244.07batches/s]\n"
     ]
    },
    {
     "name": "stdout",
     "output_type": "stream",
     "text": [
      "epoch 46, val accuracy: 0.9584289722009691\n"
     ]
    },
    {
     "name": "stderr",
     "output_type": "stream",
     "text": [
      "Train Epoch 48/500: 100%|██████████| 177/177 [00:01<00:00, 101.86batches/s]\n",
      "Train Accuracy Epoch 48/500: 100%|██████████| 177/177 [00:01<00:00, 168.93batches/s]\n",
      "Val Accuracy Epoch 48/500: 100%|██████████| 20/20 [00:00<00:00, 244.94batches/s]\n",
      "Train Epoch 49/500:   0%|          | 0/177 [00:00<?, ?batches/s]"
     ]
    },
    {
     "name": "stdout",
     "output_type": "stream",
     "text": [
      "epoch 47, val accuracy: 0.9543483805151747\n"
     ]
    },
    {
     "name": "stderr",
     "output_type": "stream",
     "text": [
      "Train Epoch 49/500: 100%|██████████| 177/177 [00:01<00:00, 104.34batches/s]\n",
      "Train Accuracy Epoch 49/500: 100%|██████████| 177/177 [00:01<00:00, 172.11batches/s]\n",
      "Val Accuracy Epoch 49/500: 100%|██████████| 20/20 [00:00<00:00, 237.59batches/s]\n",
      "Train Epoch 50/500:   0%|          | 0/177 [00:00<?, ?batches/s]"
     ]
    },
    {
     "name": "stdout",
     "output_type": "stream",
     "text": [
      "epoch 48, val accuracy: 0.9563886763580719\n"
     ]
    },
    {
     "name": "stderr",
     "output_type": "stream",
     "text": [
      "Train Epoch 50/500: 100%|██████████| 177/177 [00:01<00:00, 105.07batches/s]\n",
      "Train Accuracy Epoch 50/500: 100%|██████████| 177/177 [00:01<00:00, 174.96batches/s]\n",
      "Val Accuracy Epoch 50/500: 100%|██████████| 20/20 [00:00<00:00, 244.57batches/s]\n",
      "Train Epoch 51/500:   0%|          | 0/177 [00:00<?, ?batches/s]"
     ]
    },
    {
     "name": "stdout",
     "output_type": "stream",
     "text": [
      "epoch 49, val accuracy: 0.9589390461616935\n"
     ]
    },
    {
     "name": "stderr",
     "output_type": "stream",
     "text": [
      "Train Epoch 51/500: 100%|██████████| 177/177 [00:01<00:00, 105.86batches/s]\n",
      "Train Accuracy Epoch 51/500: 100%|██████████| 177/177 [00:01<00:00, 173.93batches/s]\n",
      "Val Accuracy Epoch 51/500: 100%|██████████| 20/20 [00:00<00:00, 241.31batches/s]\n",
      "Train Epoch 52/500:   0%|          | 0/177 [00:00<?, ?batches/s]"
     ]
    },
    {
     "name": "stdout",
     "output_type": "stream",
     "text": [
      "epoch 50, val accuracy: 0.9637847487885743\n"
     ]
    },
    {
     "name": "stderr",
     "output_type": "stream",
     "text": [
      "Train Epoch 52/500: 100%|██████████| 177/177 [00:01<00:00, 104.54batches/s]\n",
      "Train Accuracy Epoch 52/500: 100%|██████████| 177/177 [00:01<00:00, 169.45batches/s]\n",
      "Val Accuracy Epoch 52/500: 100%|██████████| 20/20 [00:00<00:00, 234.58batches/s]\n",
      "Train Epoch 53/500:   0%|          | 0/177 [00:00<?, ?batches/s]"
     ]
    },
    {
     "name": "stdout",
     "output_type": "stream",
     "text": [
      "epoch 51, val accuracy: 0.9586840091813313\n"
     ]
    },
    {
     "name": "stderr",
     "output_type": "stream",
     "text": [
      "Train Epoch 53/500: 100%|██████████| 177/177 [00:01<00:00, 104.94batches/s]\n",
      "Train Accuracy Epoch 53/500: 100%|██████████| 177/177 [00:01<00:00, 173.62batches/s]\n",
      "Val Accuracy Epoch 53/500: 100%|██████████| 20/20 [00:00<00:00, 244.95batches/s]\n",
      "Train Epoch 54/500:   0%|          | 0/177 [00:00<?, ?batches/s]"
     ]
    },
    {
     "name": "stdout",
     "output_type": "stream",
     "text": [
      "epoch 52, val accuracy: 0.9642948227492987\n"
     ]
    },
    {
     "name": "stderr",
     "output_type": "stream",
     "text": [
      "Train Epoch 54/500: 100%|██████████| 177/177 [00:01<00:00, 105.24batches/s]\n",
      "Train Accuracy Epoch 54/500: 100%|██████████| 177/177 [00:01<00:00, 171.01batches/s]\n",
      "Val Accuracy Epoch 54/500: 100%|██████████| 20/20 [00:00<00:00, 235.97batches/s]\n",
      "Train Epoch 55/500:   0%|          | 0/177 [00:00<?, ?batches/s]"
     ]
    },
    {
     "name": "stdout",
     "output_type": "stream",
     "text": [
      "epoch 53, val accuracy: 0.9589390461616935\n"
     ]
    },
    {
     "name": "stderr",
     "output_type": "stream",
     "text": [
      "Train Epoch 55/500: 100%|██████████| 177/177 [00:01<00:00, 104.44batches/s]\n",
      "Train Accuracy Epoch 55/500: 100%|██████████| 177/177 [00:01<00:00, 172.77batches/s]\n",
      "Val Accuracy Epoch 55/500: 100%|██████████| 20/20 [00:00<00:00, 244.05batches/s]\n",
      "Train Epoch 56/500:   0%|          | 0/177 [00:00<?, ?batches/s]"
     ]
    },
    {
     "name": "stdout",
     "output_type": "stream",
     "text": [
      "epoch 54, val accuracy: 0.9655700076511095\n"
     ]
    },
    {
     "name": "stderr",
     "output_type": "stream",
     "text": [
      "Train Epoch 56/500: 100%|██████████| 177/177 [00:01<00:00, 105.90batches/s]\n",
      "Train Accuracy Epoch 56/500: 100%|██████████| 177/177 [00:01<00:00, 175.35batches/s]\n",
      "Val Accuracy Epoch 56/500: 100%|██████████| 20/20 [00:00<00:00, 242.41batches/s]\n",
      "Train Epoch 57/500:   0%|          | 0/177 [00:00<?, ?batches/s]"
     ]
    },
    {
     "name": "stdout",
     "output_type": "stream",
     "text": [
      "epoch 55, val accuracy: 0.9635297118082122\n"
     ]
    },
    {
     "name": "stderr",
     "output_type": "stream",
     "text": [
      "Train Epoch 57/500: 100%|██████████| 177/177 [00:01<00:00, 105.22batches/s]\n",
      "Train Accuracy Epoch 57/500: 100%|██████████| 177/177 [00:01<00:00, 172.79batches/s]\n",
      "Val Accuracy Epoch 57/500: 100%|██████████| 20/20 [00:00<00:00, 243.09batches/s]\n",
      "Train Epoch 58/500:   0%|          | 0/177 [00:00<?, ?batches/s]"
     ]
    },
    {
     "name": "stdout",
     "output_type": "stream",
     "text": [
      "epoch 56, val accuracy: 0.9591940831420556\n"
     ]
    },
    {
     "name": "stderr",
     "output_type": "stream",
     "text": [
      "Train Epoch 58/500: 100%|██████████| 177/177 [00:01<00:00, 104.95batches/s]\n",
      "Train Accuracy Epoch 58/500: 100%|██████████| 177/177 [00:01<00:00, 173.72batches/s]\n",
      "Val Accuracy Epoch 58/500: 100%|██████████| 20/20 [00:00<00:00, 242.95batches/s]\n",
      "Train Epoch 59/500:   0%|          | 0/177 [00:00<?, ?batches/s]"
     ]
    },
    {
     "name": "stdout",
     "output_type": "stream",
     "text": [
      "epoch 57, val accuracy: 0.9604692680438663\n"
     ]
    },
    {
     "name": "stderr",
     "output_type": "stream",
     "text": [
      "Train Epoch 59/500: 100%|██████████| 177/177 [00:01<00:00, 105.50batches/s]\n",
      "Train Accuracy Epoch 59/500: 100%|██████████| 177/177 [00:01<00:00, 174.39batches/s]\n",
      "Val Accuracy Epoch 59/500: 100%|██████████| 20/20 [00:00<00:00, 239.98batches/s]\n",
      "Train Epoch 60/500:   0%|          | 0/177 [00:00<?, ?batches/s]"
     ]
    },
    {
     "name": "stdout",
     "output_type": "stream",
     "text": [
      "epoch 58, val accuracy: 0.9393011986738077\n"
     ]
    },
    {
     "name": "stderr",
     "output_type": "stream",
     "text": [
      "Train Epoch 60/500: 100%|██████████| 177/177 [00:01<00:00, 105.26batches/s]\n",
      "Train Accuracy Epoch 60/500: 100%|██████████| 177/177 [00:01<00:00, 174.70batches/s]\n",
      "Val Accuracy Epoch 60/500: 100%|██████████| 20/20 [00:00<00:00, 243.67batches/s]\n",
      "Train Epoch 61/500:   0%|          | 0/177 [00:00<?, ?batches/s]"
     ]
    },
    {
     "name": "stdout",
     "output_type": "stream",
     "text": [
      "epoch 59, val accuracy: 0.9617444529456771\n"
     ]
    },
    {
     "name": "stderr",
     "output_type": "stream",
     "text": [
      "Train Epoch 61/500: 100%|██████████| 177/177 [00:01<00:00, 105.57batches/s]\n",
      "Train Accuracy Epoch 61/500: 100%|██████████| 177/177 [00:01<00:00, 174.69batches/s]\n",
      "Val Accuracy Epoch 61/500: 100%|██████████| 20/20 [00:00<00:00, 244.94batches/s]\n",
      "Train Epoch 62/500:   0%|          | 0/177 [00:00<?, ?batches/s]"
     ]
    },
    {
     "name": "stdout",
     "output_type": "stream",
     "text": [
      "epoch 60, val accuracy: 0.9576638612598827\n"
     ]
    },
    {
     "name": "stderr",
     "output_type": "stream",
     "text": [
      "Train Epoch 62/500: 100%|██████████| 177/177 [00:01<00:00, 105.47batches/s]\n",
      "Train Accuracy Epoch 62/500: 100%|██████████| 177/177 [00:01<00:00, 169.24batches/s]\n",
      "Val Accuracy Epoch 62/500: 100%|██████████| 20/20 [00:00<00:00, 230.85batches/s]\n",
      "Train Epoch 63/500:   0%|          | 0/177 [00:00<?, ?batches/s]"
     ]
    },
    {
     "name": "stdout",
     "output_type": "stream",
     "text": [
      "epoch 61, val accuracy: 0.9395562356541699\n"
     ]
    },
    {
     "name": "stderr",
     "output_type": "stream",
     "text": [
      "Train Epoch 63/500: 100%|██████████| 177/177 [00:01<00:00, 103.01batches/s]\n",
      "Train Accuracy Epoch 63/500: 100%|██████████| 177/177 [00:01<00:00, 172.53batches/s]\n",
      "Val Accuracy Epoch 63/500: 100%|██████████| 20/20 [00:00<00:00, 231.44batches/s]\n",
      "Train Epoch 64/500:   0%|          | 0/177 [00:00<?, ?batches/s]"
     ]
    },
    {
     "name": "stdout",
     "output_type": "stream",
     "text": [
      "epoch 62, val accuracy: 0.9540933435348126\n"
     ]
    },
    {
     "name": "stderr",
     "output_type": "stream",
     "text": [
      "Train Epoch 64/500: 100%|██████████| 177/177 [00:01<00:00, 102.38batches/s]\n",
      "Train Accuracy Epoch 64/500: 100%|██████████| 177/177 [00:01<00:00, 169.53batches/s]\n",
      "Val Accuracy Epoch 64/500: 100%|██████████| 20/20 [00:00<00:00, 240.43batches/s]\n",
      "Train Epoch 65/500:   0%|          | 0/177 [00:00<?, ?batches/s]"
     ]
    },
    {
     "name": "stdout",
     "output_type": "stream",
     "text": [
      "epoch 63, val accuracy: 0.9630196378474879\n"
     ]
    },
    {
     "name": "stderr",
     "output_type": "stream",
     "text": [
      "Train Epoch 65/500: 100%|██████████| 177/177 [00:01<00:00, 101.23batches/s]\n",
      "Train Accuracy Epoch 65/500: 100%|██████████| 177/177 [00:01<00:00, 168.22batches/s]\n",
      "Val Accuracy Epoch 65/500: 100%|██████████| 20/20 [00:00<00:00, 234.17batches/s]\n",
      "Train Epoch 66/500:   0%|          | 0/177 [00:00<?, ?batches/s]"
     ]
    },
    {
     "name": "stdout",
     "output_type": "stream",
     "text": [
      "epoch 64, val accuracy: 0.9535832695740882\n"
     ]
    },
    {
     "name": "stderr",
     "output_type": "stream",
     "text": [
      "Train Epoch 66/500: 100%|██████████| 177/177 [00:01<00:00, 101.25batches/s]\n",
      "Train Accuracy Epoch 66/500: 100%|██████████| 177/177 [00:01<00:00, 163.53batches/s]\n",
      "Val Accuracy Epoch 66/500: 100%|██████████| 20/20 [00:00<00:00, 219.12batches/s]\n",
      "Train Epoch 67/500:   0%|          | 0/177 [00:00<?, ?batches/s]"
     ]
    },
    {
     "name": "stdout",
     "output_type": "stream",
     "text": [
      "epoch 65, val accuracy: 0.9625095638867636\n"
     ]
    },
    {
     "name": "stderr",
     "output_type": "stream",
     "text": [
      "Train Epoch 67/500: 100%|██████████| 177/177 [00:01<00:00, 102.74batches/s]\n",
      "Train Accuracy Epoch 67/500: 100%|██████████| 177/177 [00:01<00:00, 168.78batches/s]\n",
      "Val Accuracy Epoch 67/500: 100%|██████████| 20/20 [00:00<00:00, 234.97batches/s]\n",
      "Train Epoch 68/500:   0%|          | 0/177 [00:00<?, ?batches/s]"
     ]
    },
    {
     "name": "stdout",
     "output_type": "stream",
     "text": [
      "epoch 66, val accuracy: 0.9627646008671258\n"
     ]
    },
    {
     "name": "stderr",
     "output_type": "stream",
     "text": [
      "Train Epoch 68/500: 100%|██████████| 177/177 [00:01<00:00, 103.14batches/s]\n",
      "Train Accuracy Epoch 68/500: 100%|██████████| 177/177 [00:01<00:00, 170.14batches/s]\n",
      "Val Accuracy Epoch 68/500: 100%|██████████| 20/20 [00:00<00:00, 237.89batches/s]\n",
      "Train Epoch 69/500:   0%|          | 0/177 [00:00<?, ?batches/s]"
     ]
    },
    {
     "name": "stdout",
     "output_type": "stream",
     "text": [
      "epoch 67, val accuracy: 0.9597041571027799\n"
     ]
    },
    {
     "name": "stderr",
     "output_type": "stream",
     "text": [
      "Train Epoch 69/500: 100%|██████████| 177/177 [00:01<00:00, 104.22batches/s]\n",
      "Train Accuracy Epoch 69/500: 100%|██████████| 177/177 [00:01<00:00, 173.38batches/s]\n",
      "Val Accuracy Epoch 69/500: 100%|██████████| 20/20 [00:00<00:00, 240.63batches/s]\n",
      "Train Epoch 70/500:   0%|          | 0/177 [00:00<?, ?batches/s]"
     ]
    },
    {
     "name": "stdout",
     "output_type": "stream",
     "text": [
      "epoch 68, val accuracy: 0.9619994899260392\n"
     ]
    },
    {
     "name": "stderr",
     "output_type": "stream",
     "text": [
      "Train Epoch 70/500: 100%|██████████| 177/177 [00:01<00:00, 104.24batches/s]\n",
      "Train Accuracy Epoch 70/500: 100%|██████████| 177/177 [00:01<00:00, 172.81batches/s]\n",
      "Val Accuracy Epoch 70/500: 100%|██████████| 20/20 [00:00<00:00, 237.49batches/s]\n",
      "Train Epoch 71/500:   0%|          | 0/177 [00:00<?, ?batches/s]"
     ]
    },
    {
     "name": "stdout",
     "output_type": "stream",
     "text": [
      "epoch 69, val accuracy: 0.9625095638867636\n"
     ]
    },
    {
     "name": "stderr",
     "output_type": "stream",
     "text": [
      "Train Epoch 71/500: 100%|██████████| 177/177 [00:01<00:00, 104.93batches/s]\n",
      "Train Accuracy Epoch 71/500: 100%|██████████| 177/177 [00:01<00:00, 171.09batches/s]\n",
      "Val Accuracy Epoch 71/500: 100%|██████████| 20/20 [00:00<00:00, 234.21batches/s]\n",
      "Train Epoch 72/500:   0%|          | 0/177 [00:00<?, ?batches/s]"
     ]
    },
    {
     "name": "stdout",
     "output_type": "stream",
     "text": [
      "epoch 70, val accuracy: 0.9668451925529201\n"
     ]
    },
    {
     "name": "stderr",
     "output_type": "stream",
     "text": [
      "Train Epoch 72/500: 100%|██████████| 177/177 [00:01<00:00, 103.75batches/s]\n",
      "Train Accuracy Epoch 72/500: 100%|██████████| 177/177 [00:01<00:00, 171.00batches/s]\n",
      "Val Accuracy Epoch 72/500: 100%|██████████| 20/20 [00:00<00:00, 236.46batches/s]\n",
      "Train Epoch 73/500:   0%|          | 0/177 [00:00<?, ?batches/s]"
     ]
    },
    {
     "name": "stdout",
     "output_type": "stream",
     "text": [
      "epoch 71, val accuracy: 0.9257842387146136\n"
     ]
    },
    {
     "name": "stderr",
     "output_type": "stream",
     "text": [
      "Train Epoch 73/500: 100%|██████████| 177/177 [00:01<00:00, 104.98batches/s]\n",
      "Train Accuracy Epoch 73/500: 100%|██████████| 177/177 [00:01<00:00, 172.52batches/s]\n",
      "Val Accuracy Epoch 73/500: 100%|██████████| 20/20 [00:00<00:00, 235.30batches/s]\n",
      "Train Epoch 74/500:   0%|          | 0/177 [00:00<?, ?batches/s]"
     ]
    },
    {
     "name": "stdout",
     "output_type": "stream",
     "text": [
      "epoch 72, val accuracy: 0.9540933435348126\n"
     ]
    },
    {
     "name": "stderr",
     "output_type": "stream",
     "text": [
      "Train Epoch 74/500: 100%|██████████| 177/177 [00:01<00:00, 104.83batches/s]\n",
      "Train Accuracy Epoch 74/500: 100%|██████████| 177/177 [00:01<00:00, 170.15batches/s]\n",
      "Val Accuracy Epoch 74/500: 100%|██████████| 20/20 [00:00<00:00, 231.67batches/s]\n",
      "Train Epoch 75/500:   0%|          | 0/177 [00:00<?, ?batches/s]"
     ]
    },
    {
     "name": "stdout",
     "output_type": "stream",
     "text": [
      "epoch 73, val accuracy: 0.959959194083142\n"
     ]
    },
    {
     "name": "stderr",
     "output_type": "stream",
     "text": [
      "Train Epoch 75/500: 100%|██████████| 177/177 [00:01<00:00, 104.75batches/s]\n",
      "Train Accuracy Epoch 75/500: 100%|██████████| 177/177 [00:01<00:00, 169.07batches/s]\n",
      "Val Accuracy Epoch 75/500: 100%|██████████| 20/20 [00:00<00:00, 235.13batches/s]\n",
      "Train Epoch 76/500:   0%|          | 0/177 [00:00<?, ?batches/s]"
     ]
    },
    {
     "name": "stdout",
     "output_type": "stream",
     "text": [
      "epoch 74, val accuracy: 0.9676103034940067\n"
     ]
    },
    {
     "name": "stderr",
     "output_type": "stream",
     "text": [
      "Train Epoch 76/500: 100%|██████████| 177/177 [00:01<00:00, 104.68batches/s]\n",
      "Train Accuracy Epoch 76/500: 100%|██████████| 177/177 [00:01<00:00, 173.57batches/s]\n",
      "Val Accuracy Epoch 76/500: 100%|██████████| 20/20 [00:00<00:00, 244.68batches/s]\n",
      "Train Epoch 77/500:   0%|          | 0/177 [00:00<?, ?batches/s]"
     ]
    },
    {
     "name": "stdout",
     "output_type": "stream",
     "text": [
      "epoch 75, val accuracy: 0.9512879367508289\n"
     ]
    },
    {
     "name": "stderr",
     "output_type": "stream",
     "text": [
      "Train Epoch 77/500: 100%|██████████| 177/177 [00:01<00:00, 105.48batches/s]\n",
      "Train Accuracy Epoch 77/500: 100%|██████████| 177/177 [00:01<00:00, 165.87batches/s]\n",
      "Val Accuracy Epoch 77/500: 100%|██████████| 20/20 [00:00<00:00, 232.43batches/s]\n",
      "Train Epoch 78/500:   0%|          | 0/177 [00:00<?, ?batches/s]"
     ]
    },
    {
     "name": "stdout",
     "output_type": "stream",
     "text": [
      "epoch 76, val accuracy: 0.9619994899260392\n"
     ]
    },
    {
     "name": "stderr",
     "output_type": "stream",
     "text": [
      "Train Epoch 78/500: 100%|██████████| 177/177 [00:01<00:00, 101.32batches/s]\n",
      "Train Accuracy Epoch 78/500: 100%|██████████| 177/177 [00:01<00:00, 163.09batches/s]\n",
      "Val Accuracy Epoch 78/500: 100%|██████████| 20/20 [00:00<00:00, 231.33batches/s]\n",
      "Train Epoch 79/500:   0%|          | 0/177 [00:00<?, ?batches/s]"
     ]
    },
    {
     "name": "stdout",
     "output_type": "stream",
     "text": [
      "epoch 77, val accuracy: 0.961489415965315\n"
     ]
    },
    {
     "name": "stderr",
     "output_type": "stream",
     "text": [
      "Train Epoch 79/500: 100%|██████████| 177/177 [00:01<00:00, 100.46batches/s]\n",
      "Train Accuracy Epoch 79/500: 100%|██████████| 177/177 [00:01<00:00, 164.78batches/s]\n",
      "Val Accuracy Epoch 79/500: 100%|██████████| 20/20 [00:00<00:00, 232.52batches/s]\n",
      "Train Epoch 80/500:   0%|          | 0/177 [00:00<?, ?batches/s]"
     ]
    },
    {
     "name": "stdout",
     "output_type": "stream",
     "text": [
      "epoch 78, val accuracy: 0.954858454475899\n"
     ]
    },
    {
     "name": "stderr",
     "output_type": "stream",
     "text": [
      "Train Epoch 80/500: 100%|██████████| 177/177 [00:01<00:00, 101.50batches/s]\n",
      "Train Accuracy Epoch 80/500: 100%|██████████| 177/177 [00:01<00:00, 172.44batches/s]\n",
      "Val Accuracy Epoch 80/500: 100%|██████████| 20/20 [00:00<00:00, 239.55batches/s]\n",
      "Train Epoch 81/500:   0%|          | 0/177 [00:00<?, ?batches/s]"
     ]
    },
    {
     "name": "stdout",
     "output_type": "stream",
     "text": [
      "epoch 79, val accuracy: 0.9441469013006886\n"
     ]
    },
    {
     "name": "stderr",
     "output_type": "stream",
     "text": [
      "Train Epoch 81/500: 100%|██████████| 177/177 [00:01<00:00, 103.67batches/s]\n",
      "Train Accuracy Epoch 81/500: 100%|██████████| 177/177 [00:01<00:00, 174.41batches/s]\n",
      "Val Accuracy Epoch 81/500: 100%|██████████| 20/20 [00:00<00:00, 243.77batches/s]\n",
      "Train Epoch 82/500:   0%|          | 0/177 [00:00<?, ?batches/s]"
     ]
    },
    {
     "name": "stdout",
     "output_type": "stream",
     "text": [
      "epoch 80, val accuracy: 0.9127773527161438\n"
     ]
    },
    {
     "name": "stderr",
     "output_type": "stream",
     "text": [
      "Train Epoch 82/500: 100%|██████████| 177/177 [00:01<00:00, 104.58batches/s]\n",
      "Train Accuracy Epoch 82/500: 100%|██████████| 177/177 [00:01<00:00, 173.94batches/s]\n",
      "Val Accuracy Epoch 82/500: 100%|██████████| 20/20 [00:00<00:00, 244.00batches/s]\n",
      "Train Epoch 83/500:   0%|          | 0/177 [00:00<?, ?batches/s]"
     ]
    },
    {
     "name": "stdout",
     "output_type": "stream",
     "text": [
      "epoch 81, val accuracy: 0.94312675337924\n"
     ]
    },
    {
     "name": "stderr",
     "output_type": "stream",
     "text": [
      "Train Epoch 83/500: 100%|██████████| 177/177 [00:01<00:00, 103.90batches/s]\n",
      "Train Accuracy Epoch 83/500: 100%|██████████| 177/177 [00:01<00:00, 171.78batches/s]\n",
      "Val Accuracy Epoch 83/500: 100%|██████████| 20/20 [00:00<00:00, 238.00batches/s]\n",
      "Train Epoch 84/500:   0%|          | 0/177 [00:00<?, ?batches/s]"
     ]
    },
    {
     "name": "stdout",
     "output_type": "stream",
     "text": [
      "epoch 82, val accuracy: 0.8816628411119612\n"
     ]
    },
    {
     "name": "stderr",
     "output_type": "stream",
     "text": [
      "Train Epoch 84/500: 100%|██████████| 177/177 [00:01<00:00, 104.38batches/s]\n",
      "Train Accuracy Epoch 84/500: 100%|██████████| 177/177 [00:01<00:00, 173.64batches/s]\n",
      "Val Accuracy Epoch 84/500: 100%|██████████| 20/20 [00:00<00:00, 242.26batches/s]\n",
      "Train Epoch 85/500:   0%|          | 0/177 [00:00<?, ?batches/s]"
     ]
    },
    {
     "name": "stdout",
     "output_type": "stream",
     "text": [
      "epoch 83, val accuracy: 0.9479724560061209\n"
     ]
    },
    {
     "name": "stderr",
     "output_type": "stream",
     "text": [
      "Train Epoch 85/500: 100%|██████████| 177/177 [00:01<00:00, 106.31batches/s]\n",
      "Train Accuracy Epoch 85/500: 100%|██████████| 177/177 [00:01<00:00, 176.73batches/s]\n",
      "Val Accuracy Epoch 85/500: 100%|██████████| 20/20 [00:00<00:00, 241.76batches/s]\n",
      "Train Epoch 86/500:   0%|          | 0/177 [00:00<?, ?batches/s]"
     ]
    },
    {
     "name": "stdout",
     "output_type": "stream",
     "text": [
      "epoch 84, val accuracy: 0.9597041571027799\n"
     ]
    },
    {
     "name": "stderr",
     "output_type": "stream",
     "text": [
      "Train Epoch 86/500: 100%|██████████| 177/177 [00:01<00:00, 106.37batches/s]\n",
      "Train Accuracy Epoch 86/500: 100%|██████████| 177/177 [00:01<00:00, 176.82batches/s]\n",
      "Val Accuracy Epoch 86/500: 100%|██████████| 20/20 [00:00<00:00, 247.92batches/s]\n",
      "Train Epoch 87/500:   0%|          | 0/177 [00:00<?, ?batches/s]"
     ]
    },
    {
     "name": "stdout",
     "output_type": "stream",
     "text": [
      "epoch 85, val accuracy: 0.9421066054577913\n"
     ]
    },
    {
     "name": "stderr",
     "output_type": "stream",
     "text": [
      "Train Epoch 87/500: 100%|██████████| 177/177 [00:01<00:00, 106.36batches/s]\n",
      "Train Accuracy Epoch 87/500: 100%|██████████| 177/177 [00:01<00:00, 174.42batches/s]\n",
      "Val Accuracy Epoch 87/500: 100%|██████████| 20/20 [00:00<00:00, 238.98batches/s]\n",
      "Train Epoch 88/500:   0%|          | 0/177 [00:00<?, ?batches/s]"
     ]
    },
    {
     "name": "stdout",
     "output_type": "stream",
     "text": [
      "epoch 86, val accuracy: 0.9622545269064015\n"
     ]
    },
    {
     "name": "stderr",
     "output_type": "stream",
     "text": [
      "Train Epoch 88/500: 100%|██████████| 177/177 [00:01<00:00, 105.80batches/s]\n",
      "Train Accuracy Epoch 88/500: 100%|██████████| 177/177 [00:01<00:00, 176.88batches/s]\n",
      "Val Accuracy Epoch 88/500: 100%|██████████| 20/20 [00:00<00:00, 245.35batches/s]\n",
      "Train Epoch 89/500:   0%|          | 0/177 [00:00<?, ?batches/s]"
     ]
    },
    {
     "name": "stdout",
     "output_type": "stream",
     "text": [
      "epoch 87, val accuracy: 0.9671002295332823\n"
     ]
    },
    {
     "name": "stderr",
     "output_type": "stream",
     "text": [
      "Train Epoch 89/500: 100%|██████████| 177/177 [00:01<00:00, 104.65batches/s]\n",
      "Train Accuracy Epoch 89/500: 100%|██████████| 177/177 [00:01<00:00, 172.40batches/s]\n",
      "Val Accuracy Epoch 89/500: 100%|██████████| 20/20 [00:00<00:00, 238.48batches/s]\n",
      "Train Epoch 90/500:   0%|          | 0/177 [00:00<?, ?batches/s]"
     ]
    },
    {
     "name": "stdout",
     "output_type": "stream",
     "text": [
      "epoch 88, val accuracy: 0.94312675337924\n"
     ]
    },
    {
     "name": "stderr",
     "output_type": "stream",
     "text": [
      "Train Epoch 90/500: 100%|██████████| 177/177 [00:01<00:00, 104.96batches/s]\n",
      "Train Accuracy Epoch 90/500: 100%|██████████| 177/177 [00:01<00:00, 175.54batches/s]\n",
      "Val Accuracy Epoch 90/500: 100%|██████████| 20/20 [00:00<00:00, 243.26batches/s]\n",
      "Train Epoch 91/500:   0%|          | 0/177 [00:00<?, ?batches/s]"
     ]
    },
    {
     "name": "stdout",
     "output_type": "stream",
     "text": [
      "epoch 89, val accuracy: 0.9637847487885743\n"
     ]
    },
    {
     "name": "stderr",
     "output_type": "stream",
     "text": [
      "Train Epoch 91/500: 100%|██████████| 177/177 [00:01<00:00, 105.04batches/s]\n",
      "Train Accuracy Epoch 91/500: 100%|██████████| 177/177 [00:01<00:00, 175.90batches/s]\n",
      "Val Accuracy Epoch 91/500: 100%|██████████| 20/20 [00:00<00:00, 245.04batches/s]\n",
      "Train Epoch 92/500:   0%|          | 0/177 [00:00<?, ?batches/s]"
     ]
    },
    {
     "name": "stdout",
     "output_type": "stream",
     "text": [
      "epoch 90, val accuracy: 0.9630196378474879\n"
     ]
    },
    {
     "name": "stderr",
     "output_type": "stream",
     "text": [
      "Train Epoch 92/500: 100%|██████████| 177/177 [00:01<00:00, 105.38batches/s]\n",
      "Train Accuracy Epoch 92/500: 100%|██████████| 177/177 [00:01<00:00, 174.11batches/s]\n",
      "Val Accuracy Epoch 92/500: 100%|██████████| 20/20 [00:00<00:00, 238.89batches/s]\n",
      "Train Epoch 93/500:   0%|          | 0/177 [00:00<?, ?batches/s]"
     ]
    },
    {
     "name": "stdout",
     "output_type": "stream",
     "text": [
      "epoch 91, val accuracy: 0.9658250446314716\n"
     ]
    },
    {
     "name": "stderr",
     "output_type": "stream",
     "text": [
      "Train Epoch 93/500: 100%|██████████| 177/177 [00:01<00:00, 106.67batches/s]\n",
      "Train Accuracy Epoch 93/500: 100%|██████████| 177/177 [00:01<00:00, 175.32batches/s]\n",
      "Val Accuracy Epoch 93/500: 100%|██████████| 20/20 [00:00<00:00, 244.92batches/s]\n",
      "Train Epoch 94/500:   0%|          | 0/177 [00:00<?, ?batches/s]"
     ]
    },
    {
     "name": "stdout",
     "output_type": "stream",
     "text": [
      "epoch 92, val accuracy: 0.9681203774547309\n"
     ]
    },
    {
     "name": "stderr",
     "output_type": "stream",
     "text": [
      "Train Epoch 94/500: 100%|██████████| 177/177 [00:01<00:00, 106.81batches/s]\n",
      "Train Accuracy Epoch 94/500: 100%|██████████| 177/177 [00:00<00:00, 177.17batches/s]\n",
      "Val Accuracy Epoch 94/500: 100%|██████████| 20/20 [00:00<00:00, 247.04batches/s]\n",
      "Train Epoch 95/500:   0%|          | 0/177 [00:00<?, ?batches/s]"
     ]
    },
    {
     "name": "stdout",
     "output_type": "stream",
     "text": [
      "epoch 93, val accuracy: 0.9681203774547309\n"
     ]
    },
    {
     "name": "stderr",
     "output_type": "stream",
     "text": [
      "Train Epoch 95/500: 100%|██████████| 177/177 [00:01<00:00, 105.53batches/s]\n",
      "Train Accuracy Epoch 95/500: 100%|██████████| 177/177 [00:01<00:00, 169.26batches/s]\n",
      "Val Accuracy Epoch 95/500: 100%|██████████| 20/20 [00:00<00:00, 244.38batches/s]\n",
      "Train Epoch 96/500:   0%|          | 0/177 [00:00<?, ?batches/s]"
     ]
    },
    {
     "name": "stdout",
     "output_type": "stream",
     "text": [
      "epoch 94, val accuracy: 0.9671002295332823\n"
     ]
    },
    {
     "name": "stderr",
     "output_type": "stream",
     "text": [
      "Train Epoch 96/500: 100%|██████████| 177/177 [00:01<00:00, 105.77batches/s]\n",
      "Train Accuracy Epoch 96/500: 100%|██████████| 177/177 [00:01<00:00, 175.85batches/s]\n",
      "Val Accuracy Epoch 96/500: 100%|██████████| 20/20 [00:00<00:00, 247.21batches/s]\n",
      "Train Epoch 97/500:   0%|          | 0/177 [00:00<?, ?batches/s]"
     ]
    },
    {
     "name": "stdout",
     "output_type": "stream",
     "text": [
      "epoch 95, val accuracy: 0.9622545269064015\n"
     ]
    },
    {
     "name": "stderr",
     "output_type": "stream",
     "text": [
      "Train Epoch 97/500: 100%|██████████| 177/177 [00:01<00:00, 106.50batches/s]\n",
      "Train Accuracy Epoch 97/500: 100%|██████████| 177/177 [00:01<00:00, 176.13batches/s]\n",
      "Val Accuracy Epoch 97/500: 100%|██████████| 20/20 [00:00<00:00, 242.82batches/s]\n",
      "Train Epoch 98/500:   0%|          | 0/177 [00:00<?, ?batches/s]"
     ]
    },
    {
     "name": "stdout",
     "output_type": "stream",
     "text": [
      "epoch 96, val accuracy: 0.9546034174955369\n"
     ]
    },
    {
     "name": "stderr",
     "output_type": "stream",
     "text": [
      "Train Epoch 98/500: 100%|██████████| 177/177 [00:01<00:00, 106.03batches/s]\n",
      "Train Accuracy Epoch 98/500: 100%|██████████| 177/177 [00:01<00:00, 175.34batches/s]\n",
      "Val Accuracy Epoch 98/500: 100%|██████████| 20/20 [00:00<00:00, 245.65batches/s]\n",
      "Train Epoch 99/500:   0%|          | 0/177 [00:00<?, ?batches/s]"
     ]
    },
    {
     "name": "stdout",
     "output_type": "stream",
     "text": [
      "epoch 97, val accuracy: 0.9609793420045907\n"
     ]
    },
    {
     "name": "stderr",
     "output_type": "stream",
     "text": [
      "Train Epoch 99/500: 100%|██████████| 177/177 [00:01<00:00, 104.33batches/s]\n",
      "Train Accuracy Epoch 99/500: 100%|██████████| 177/177 [00:01<00:00, 166.02batches/s]\n",
      "Val Accuracy Epoch 99/500: 100%|██████████| 20/20 [00:00<00:00, 240.22batches/s]\n",
      "Train Epoch 100/500:   0%|          | 0/177 [00:00<?, ?batches/s]"
     ]
    },
    {
     "name": "stdout",
     "output_type": "stream",
     "text": [
      "epoch 98, val accuracy: 0.9704157102779903\n"
     ]
    },
    {
     "name": "stderr",
     "output_type": "stream",
     "text": [
      "Train Epoch 100/500: 100%|██████████| 177/177 [00:01<00:00, 104.19batches/s]\n",
      "Train Accuracy Epoch 100/500: 100%|██████████| 177/177 [00:01<00:00, 174.72batches/s]\n",
      "Val Accuracy Epoch 100/500: 100%|██████████| 20/20 [00:00<00:00, 239.01batches/s]\n",
      "Train Epoch 101/500:   0%|          | 0/177 [00:00<?, ?batches/s]"
     ]
    },
    {
     "name": "stdout",
     "output_type": "stream",
     "text": [
      "epoch 99, val accuracy: 0.9642948227492987\n"
     ]
    },
    {
     "name": "stderr",
     "output_type": "stream",
     "text": [
      "Train Epoch 101/500: 100%|██████████| 177/177 [00:01<00:00, 105.20batches/s]\n",
      "Train Accuracy Epoch 101/500: 100%|██████████| 177/177 [00:01<00:00, 175.29batches/s]\n",
      "Val Accuracy Epoch 101/500: 100%|██████████| 20/20 [00:00<00:00, 242.82batches/s]\n",
      "Train Epoch 102/500:   0%|          | 0/177 [00:00<?, ?batches/s]"
     ]
    },
    {
     "name": "stdout",
     "output_type": "stream",
     "text": [
      "epoch 100, val accuracy: 0.9673552665136445\n"
     ]
    },
    {
     "name": "stderr",
     "output_type": "stream",
     "text": [
      "Train Epoch 102/500: 100%|██████████| 177/177 [00:01<00:00, 105.39batches/s]\n",
      "Train Accuracy Epoch 102/500: 100%|██████████| 177/177 [00:01<00:00, 175.41batches/s]\n",
      "Val Accuracy Epoch 102/500: 100%|██████████| 20/20 [00:00<00:00, 243.33batches/s]\n",
      "Train Epoch 103/500:   0%|          | 0/177 [00:00<?, ?batches/s]"
     ]
    },
    {
     "name": "stdout",
     "output_type": "stream",
     "text": [
      "epoch 101, val accuracy: 0.9681203774547309\n"
     ]
    },
    {
     "name": "stderr",
     "output_type": "stream",
     "text": [
      "Train Epoch 103/500: 100%|██████████| 177/177 [00:01<00:00, 104.93batches/s]\n",
      "Train Accuracy Epoch 103/500: 100%|██████████| 177/177 [00:01<00:00, 175.84batches/s]\n",
      "Val Accuracy Epoch 103/500: 100%|██████████| 20/20 [00:00<00:00, 243.58batches/s]\n",
      "Train Epoch 104/500:   0%|          | 0/177 [00:00<?, ?batches/s]"
     ]
    },
    {
     "name": "stdout",
     "output_type": "stream",
     "text": [
      "epoch 102, val accuracy: 0.9676103034940067\n"
     ]
    },
    {
     "name": "stderr",
     "output_type": "stream",
     "text": [
      "Train Epoch 104/500: 100%|██████████| 177/177 [00:01<00:00, 105.71batches/s]\n",
      "Train Accuracy Epoch 104/500: 100%|██████████| 177/177 [00:01<00:00, 176.45batches/s]\n",
      "Val Accuracy Epoch 104/500: 100%|██████████| 20/20 [00:00<00:00, 241.25batches/s]\n",
      "Train Epoch 105/500:   0%|          | 0/177 [00:00<?, ?batches/s]"
     ]
    },
    {
     "name": "stdout",
     "output_type": "stream",
     "text": [
      "epoch 103, val accuracy: 0.9673552665136445\n"
     ]
    },
    {
     "name": "stderr",
     "output_type": "stream",
     "text": [
      "Train Epoch 105/500: 100%|██████████| 177/177 [00:01<00:00, 105.74batches/s]\n",
      "Train Accuracy Epoch 105/500: 100%|██████████| 177/177 [00:01<00:00, 174.88batches/s]\n",
      "Val Accuracy Epoch 105/500: 100%|██████████| 20/20 [00:00<00:00, 242.68batches/s]\n",
      "Train Epoch 106/500:   0%|          | 0/177 [00:00<?, ?batches/s]"
     ]
    },
    {
     "name": "stdout",
     "output_type": "stream",
     "text": [
      "epoch 104, val accuracy: 0.9186432032644734\n"
     ]
    },
    {
     "name": "stderr",
     "output_type": "stream",
     "text": [
      "Train Epoch 106/500: 100%|██████████| 177/177 [00:01<00:00, 106.45batches/s]\n",
      "Train Accuracy Epoch 106/500: 100%|██████████| 177/177 [00:01<00:00, 175.49batches/s]\n",
      "Val Accuracy Epoch 106/500: 100%|██████████| 20/20 [00:00<00:00, 243.54batches/s]\n",
      "Train Epoch 107/500:   0%|          | 0/177 [00:00<?, ?batches/s]"
     ]
    },
    {
     "name": "stdout",
     "output_type": "stream",
     "text": [
      "epoch 105, val accuracy: 0.9663351185921959\n"
     ]
    },
    {
     "name": "stderr",
     "output_type": "stream",
     "text": [
      "Train Epoch 107/500: 100%|██████████| 177/177 [00:01<00:00, 105.31batches/s]\n",
      "Train Accuracy Epoch 107/500: 100%|██████████| 177/177 [00:01<00:00, 175.49batches/s]\n",
      "Val Accuracy Epoch 107/500: 100%|██████████| 20/20 [00:00<00:00, 243.69batches/s]\n",
      "Train Epoch 108/500:   0%|          | 0/177 [00:00<?, ?batches/s]"
     ]
    },
    {
     "name": "stdout",
     "output_type": "stream",
     "text": [
      "epoch 106, val accuracy: 0.9640397857689365\n"
     ]
    },
    {
     "name": "stderr",
     "output_type": "stream",
     "text": [
      "Train Epoch 108/500: 100%|██████████| 177/177 [00:01<00:00, 105.72batches/s]\n",
      "Train Accuracy Epoch 108/500: 100%|██████████| 177/177 [00:01<00:00, 175.54batches/s]\n",
      "Val Accuracy Epoch 108/500: 100%|██████████| 20/20 [00:00<00:00, 246.62batches/s]\n",
      "Train Epoch 109/500:   0%|          | 0/177 [00:00<?, ?batches/s]"
     ]
    },
    {
     "name": "stdout",
     "output_type": "stream",
     "text": [
      "epoch 107, val accuracy: 0.9609793420045907\n"
     ]
    },
    {
     "name": "stderr",
     "output_type": "stream",
     "text": [
      "Train Epoch 109/500: 100%|██████████| 177/177 [00:01<00:00, 105.41batches/s]\n",
      "Train Accuracy Epoch 109/500: 100%|██████████| 177/177 [00:01<00:00, 174.53batches/s]\n",
      "Val Accuracy Epoch 109/500: 100%|██████████| 20/20 [00:00<00:00, 246.94batches/s]\n",
      "Train Epoch 110/500:   0%|          | 0/177 [00:00<?, ?batches/s]"
     ]
    },
    {
     "name": "stdout",
     "output_type": "stream",
     "text": [
      "epoch 108, val accuracy: 0.9574088242795206\n"
     ]
    },
    {
     "name": "stderr",
     "output_type": "stream",
     "text": [
      "Train Epoch 110/500: 100%|██████████| 177/177 [00:01<00:00, 105.29batches/s]\n",
      "Train Accuracy Epoch 110/500: 100%|██████████| 177/177 [00:01<00:00, 175.30batches/s]\n",
      "Val Accuracy Epoch 110/500: 100%|██████████| 20/20 [00:00<00:00, 244.24batches/s]\n",
      "Train Epoch 111/500:   0%|          | 0/177 [00:00<?, ?batches/s]"
     ]
    },
    {
     "name": "stdout",
     "output_type": "stream",
     "text": [
      "epoch 109, val accuracy: 0.9500127518490181\n"
     ]
    },
    {
     "name": "stderr",
     "output_type": "stream",
     "text": [
      "Train Epoch 111/500: 100%|██████████| 177/177 [00:01<00:00, 105.58batches/s]\n",
      "Train Accuracy Epoch 111/500: 100%|██████████| 177/177 [00:01<00:00, 176.58batches/s]\n",
      "Val Accuracy Epoch 111/500: 100%|██████████| 20/20 [00:00<00:00, 249.43batches/s]\n",
      "Train Epoch 112/500:   0%|          | 0/177 [00:00<?, ?batches/s]"
     ]
    },
    {
     "name": "stdout",
     "output_type": "stream",
     "text": [
      "epoch 110, val accuracy: 0.9688854883958173\n"
     ]
    },
    {
     "name": "stderr",
     "output_type": "stream",
     "text": [
      "Train Epoch 112/500: 100%|██████████| 177/177 [00:01<00:00, 105.60batches/s]\n",
      "Train Accuracy Epoch 112/500: 100%|██████████| 177/177 [00:01<00:00, 175.77batches/s]\n",
      "Val Accuracy Epoch 112/500: 100%|██████████| 20/20 [00:00<00:00, 245.85batches/s]\n",
      "Train Epoch 113/500:   0%|          | 0/177 [00:00<?, ?batches/s]"
     ]
    },
    {
     "name": "stdout",
     "output_type": "stream",
     "text": [
      "epoch 111, val accuracy: 0.9658250446314716\n"
     ]
    },
    {
     "name": "stderr",
     "output_type": "stream",
     "text": [
      "Train Epoch 113/500: 100%|██████████| 177/177 [00:01<00:00, 105.55batches/s]\n",
      "Train Accuracy Epoch 113/500: 100%|██████████| 177/177 [00:01<00:00, 175.13batches/s]\n",
      "Val Accuracy Epoch 113/500: 100%|██████████| 20/20 [00:00<00:00, 239.93batches/s]\n",
      "Train Epoch 114/500:   0%|          | 0/177 [00:00<?, ?batches/s]"
     ]
    },
    {
     "name": "stdout",
     "output_type": "stream",
     "text": [
      "epoch 112, val accuracy: 0.9523080846722775\n"
     ]
    },
    {
     "name": "stderr",
     "output_type": "stream",
     "text": [
      "Train Epoch 114/500: 100%|██████████| 177/177 [00:01<00:00, 105.58batches/s]\n",
      "Train Accuracy Epoch 114/500: 100%|██████████| 177/177 [00:01<00:00, 176.09batches/s]\n",
      "Val Accuracy Epoch 114/500: 100%|██████████| 20/20 [00:00<00:00, 239.73batches/s]\n",
      "Train Epoch 115/500:   0%|          | 0/177 [00:00<?, ?batches/s]"
     ]
    },
    {
     "name": "stdout",
     "output_type": "stream",
     "text": [
      "epoch 113, val accuracy: 0.9681203774547309\n"
     ]
    },
    {
     "name": "stderr",
     "output_type": "stream",
     "text": [
      "Train Epoch 115/500: 100%|██████████| 177/177 [00:01<00:00, 105.82batches/s]\n",
      "Train Accuracy Epoch 115/500: 100%|██████████| 177/177 [00:01<00:00, 175.16batches/s]\n",
      "Val Accuracy Epoch 115/500: 100%|██████████| 20/20 [00:00<00:00, 248.40batches/s]\n",
      "Train Epoch 116/500:   0%|          | 0/177 [00:00<?, ?batches/s]"
     ]
    },
    {
     "name": "stdout",
     "output_type": "stream",
     "text": [
      "epoch 114, val accuracy: 0.9673552665136445\n"
     ]
    },
    {
     "name": "stderr",
     "output_type": "stream",
     "text": [
      "Train Epoch 116/500: 100%|██████████| 177/177 [00:01<00:00, 105.61batches/s]\n",
      "Train Accuracy Epoch 116/500: 100%|██████████| 177/177 [00:01<00:00, 175.44batches/s]\n",
      "Val Accuracy Epoch 116/500: 100%|██████████| 20/20 [00:00<00:00, 240.96batches/s]\n",
      "Train Epoch 117/500:   0%|          | 0/177 [00:00<?, ?batches/s]"
     ]
    },
    {
     "name": "stdout",
     "output_type": "stream",
     "text": [
      "epoch 115, val accuracy: 0.9619994899260392\n"
     ]
    },
    {
     "name": "stderr",
     "output_type": "stream",
     "text": [
      "Train Epoch 117/500: 100%|██████████| 177/177 [00:01<00:00, 105.44batches/s]\n",
      "Train Accuracy Epoch 117/500: 100%|██████████| 177/177 [00:01<00:00, 175.61batches/s]\n",
      "Val Accuracy Epoch 117/500: 100%|██████████| 20/20 [00:00<00:00, 243.99batches/s]\n",
      "Train Epoch 118/500:   0%|          | 0/177 [00:00<?, ?batches/s]"
     ]
    },
    {
     "name": "stdout",
     "output_type": "stream",
     "text": [
      "epoch 116, val accuracy: 0.9655700076511095\n"
     ]
    },
    {
     "name": "stderr",
     "output_type": "stream",
     "text": [
      "Train Epoch 118/500: 100%|██████████| 177/177 [00:01<00:00, 105.66batches/s]\n",
      "Train Accuracy Epoch 118/500: 100%|██████████| 177/177 [00:01<00:00, 175.39batches/s]\n",
      "Val Accuracy Epoch 118/500: 100%|██████████| 20/20 [00:00<00:00, 249.24batches/s]\n",
      "Train Epoch 119/500:   0%|          | 0/177 [00:00<?, ?batches/s]"
     ]
    },
    {
     "name": "stdout",
     "output_type": "stream",
     "text": [
      "epoch 117, val accuracy: 0.966590155572558\n"
     ]
    },
    {
     "name": "stderr",
     "output_type": "stream",
     "text": [
      "Train Epoch 119/500: 100%|██████████| 177/177 [00:01<00:00, 105.97batches/s]\n",
      "Train Accuracy Epoch 119/500: 100%|██████████| 177/177 [00:01<00:00, 172.93batches/s]\n",
      "Val Accuracy Epoch 119/500: 100%|██████████| 20/20 [00:00<00:00, 241.09batches/s]\n",
      "Train Epoch 120/500:   0%|          | 0/177 [00:00<?, ?batches/s]"
     ]
    },
    {
     "name": "stdout",
     "output_type": "stream",
     "text": [
      "epoch 118, val accuracy: 0.9676103034940067\n"
     ]
    },
    {
     "name": "stderr",
     "output_type": "stream",
     "text": [
      "Train Epoch 120/500: 100%|██████████| 177/177 [00:01<00:00, 104.82batches/s]\n",
      "Train Accuracy Epoch 120/500: 100%|██████████| 177/177 [00:01<00:00, 160.89batches/s]\n",
      "Val Accuracy Epoch 120/500: 100%|██████████| 20/20 [00:00<00:00, 222.75batches/s]\n"
     ]
    },
    {
     "name": "stdout",
     "output_type": "stream",
     "text": [
      "epoch 119, val accuracy: 0.9691405253761796\n"
     ]
    },
    {
     "name": "stderr",
     "output_type": "stream",
     "text": [
      "Train Epoch 121/500: 100%|██████████| 177/177 [00:01<00:00, 98.69batches/s] \n",
      "Train Accuracy Epoch 121/500: 100%|██████████| 177/177 [00:01<00:00, 167.17batches/s]\n",
      "Val Accuracy Epoch 121/500: 100%|██████████| 20/20 [00:00<00:00, 236.08batches/s]\n",
      "Train Epoch 122/500:   0%|          | 0/177 [00:00<?, ?batches/s]"
     ]
    },
    {
     "name": "stdout",
     "output_type": "stream",
     "text": [
      "epoch 120, val accuracy: 0.964804896710023\n"
     ]
    },
    {
     "name": "stderr",
     "output_type": "stream",
     "text": [
      "Train Epoch 122/500: 100%|██████████| 177/177 [00:01<00:00, 103.14batches/s]\n",
      "Train Accuracy Epoch 122/500: 100%|██████████| 177/177 [00:01<00:00, 171.65batches/s]\n",
      "Val Accuracy Epoch 122/500: 100%|██████████| 20/20 [00:00<00:00, 238.63batches/s]\n",
      "Train Epoch 123/500:   0%|          | 0/177 [00:00<?, ?batches/s]"
     ]
    },
    {
     "name": "stdout",
     "output_type": "stream",
     "text": [
      "epoch 121, val accuracy: 0.9676103034940067\n"
     ]
    },
    {
     "name": "stderr",
     "output_type": "stream",
     "text": [
      "Train Epoch 123/500: 100%|██████████| 177/177 [00:01<00:00, 103.04batches/s]\n",
      "Train Accuracy Epoch 123/500: 100%|██████████| 177/177 [00:01<00:00, 169.21batches/s]\n",
      "Val Accuracy Epoch 123/500: 100%|██████████| 20/20 [00:00<00:00, 233.86batches/s]\n",
      "Train Epoch 124/500:   0%|          | 0/177 [00:00<?, ?batches/s]"
     ]
    },
    {
     "name": "stdout",
     "output_type": "stream",
     "text": [
      "epoch 122, val accuracy: 0.9676103034940067\n"
     ]
    },
    {
     "name": "stderr",
     "output_type": "stream",
     "text": [
      "Train Epoch 124/500: 100%|██████████| 177/177 [00:01<00:00, 100.15batches/s]\n",
      "Train Accuracy Epoch 124/500: 100%|██████████| 177/177 [00:01<00:00, 173.16batches/s]\n",
      "Val Accuracy Epoch 124/500: 100%|██████████| 20/20 [00:00<00:00, 237.97batches/s]\n",
      "Train Epoch 125/500:   0%|          | 0/177 [00:00<?, ?batches/s]"
     ]
    },
    {
     "name": "stdout",
     "output_type": "stream",
     "text": [
      "epoch 123, val accuracy: 0.9663351185921959\n"
     ]
    },
    {
     "name": "stderr",
     "output_type": "stream",
     "text": [
      "Train Epoch 125/500: 100%|██████████| 177/177 [00:01<00:00, 104.00batches/s]\n",
      "Train Accuracy Epoch 125/500: 100%|██████████| 177/177 [00:01<00:00, 174.58batches/s]\n",
      "Val Accuracy Epoch 125/500: 100%|██████████| 20/20 [00:00<00:00, 243.15batches/s]\n",
      "Train Epoch 126/500:   0%|          | 0/177 [00:00<?, ?batches/s]"
     ]
    },
    {
     "name": "stdout",
     "output_type": "stream",
     "text": [
      "epoch 124, val accuracy: 0.9469523080846722\n"
     ]
    },
    {
     "name": "stderr",
     "output_type": "stream",
     "text": [
      "Train Epoch 126/500: 100%|██████████| 177/177 [00:01<00:00, 105.14batches/s]\n",
      "Train Accuracy Epoch 126/500: 100%|██████████| 177/177 [00:01<00:00, 174.44batches/s]\n",
      "Val Accuracy Epoch 126/500: 100%|██████████| 20/20 [00:00<00:00, 241.59batches/s]\n",
      "Train Epoch 127/500:   0%|          | 0/177 [00:00<?, ?batches/s]"
     ]
    },
    {
     "name": "stdout",
     "output_type": "stream",
     "text": [
      "epoch 125, val accuracy: 0.9676103034940067\n"
     ]
    },
    {
     "name": "stderr",
     "output_type": "stream",
     "text": [
      "Train Epoch 127/500: 100%|██████████| 177/177 [00:01<00:00, 105.36batches/s]\n",
      "Train Accuracy Epoch 127/500: 100%|██████████| 177/177 [00:01<00:00, 175.50batches/s]\n",
      "Val Accuracy Epoch 127/500: 100%|██████████| 20/20 [00:00<00:00, 241.68batches/s]\n",
      "Train Epoch 128/500:   0%|          | 0/177 [00:00<?, ?batches/s]"
     ]
    },
    {
     "name": "stdout",
     "output_type": "stream",
     "text": [
      "epoch 126, val accuracy: 0.9678653404743688\n"
     ]
    },
    {
     "name": "stderr",
     "output_type": "stream",
     "text": [
      "Train Epoch 128/500: 100%|██████████| 177/177 [00:01<00:00, 105.64batches/s]\n",
      "Train Accuracy Epoch 128/500: 100%|██████████| 177/177 [00:01<00:00, 175.74batches/s]\n",
      "Val Accuracy Epoch 128/500: 100%|██████████| 20/20 [00:00<00:00, 245.32batches/s]\n",
      "Train Epoch 129/500:   0%|          | 0/177 [00:00<?, ?batches/s]"
     ]
    },
    {
     "name": "stdout",
     "output_type": "stream",
     "text": [
      "epoch 127, val accuracy: 0.9660800816118337\n"
     ]
    },
    {
     "name": "stderr",
     "output_type": "stream",
     "text": [
      "Train Epoch 129/500: 100%|██████████| 177/177 [00:01<00:00, 105.99batches/s]\n",
      "Train Accuracy Epoch 129/500: 100%|██████████| 177/177 [00:01<00:00, 175.17batches/s]\n",
      "Val Accuracy Epoch 129/500: 100%|██████████| 20/20 [00:00<00:00, 244.46batches/s]\n",
      "Train Epoch 130/500:   0%|          | 0/177 [00:00<?, ?batches/s]"
     ]
    },
    {
     "name": "stdout",
     "output_type": "stream",
     "text": [
      "epoch 128, val accuracy: 0.966590155572558\n"
     ]
    },
    {
     "name": "stderr",
     "output_type": "stream",
     "text": [
      "Train Epoch 130/500: 100%|██████████| 177/177 [00:01<00:00, 106.28batches/s]\n",
      "Train Accuracy Epoch 130/500: 100%|██████████| 177/177 [00:01<00:00, 174.41batches/s]\n",
      "Val Accuracy Epoch 130/500: 100%|██████████| 20/20 [00:00<00:00, 239.07batches/s]\n",
      "Train Epoch 131/500:   0%|          | 0/177 [00:00<?, ?batches/s]"
     ]
    },
    {
     "name": "stdout",
     "output_type": "stream",
     "text": [
      "epoch 129, val accuracy: 0.9676103034940067\n"
     ]
    },
    {
     "name": "stderr",
     "output_type": "stream",
     "text": [
      "Train Epoch 131/500: 100%|██████████| 177/177 [00:01<00:00, 106.26batches/s]\n",
      "Train Accuracy Epoch 131/500: 100%|██████████| 177/177 [00:01<00:00, 175.55batches/s]\n",
      "Val Accuracy Epoch 131/500: 100%|██████████| 20/20 [00:00<00:00, 245.49batches/s]\n",
      "Train Epoch 132/500:   0%|          | 0/177 [00:00<?, ?batches/s]"
     ]
    },
    {
     "name": "stdout",
     "output_type": "stream",
     "text": [
      "epoch 130, val accuracy: 0.9691405253761796\n"
     ]
    },
    {
     "name": "stderr",
     "output_type": "stream",
     "text": [
      "Train Epoch 132/500: 100%|██████████| 177/177 [00:01<00:00, 106.74batches/s]\n",
      "Train Accuracy Epoch 132/500: 100%|██████████| 177/177 [00:01<00:00, 176.32batches/s]\n",
      "Val Accuracy Epoch 132/500: 100%|██████████| 20/20 [00:00<00:00, 246.32batches/s]\n",
      "Train Epoch 133/500:   0%|          | 0/177 [00:00<?, ?batches/s]"
     ]
    },
    {
     "name": "stdout",
     "output_type": "stream",
     "text": [
      "epoch 131, val accuracy: 0.961489415965315\n"
     ]
    },
    {
     "name": "stderr",
     "output_type": "stream",
     "text": [
      "Train Epoch 133/500: 100%|██████████| 177/177 [00:01<00:00, 106.79batches/s]\n",
      "Train Accuracy Epoch 133/500: 100%|██████████| 177/177 [00:01<00:00, 176.36batches/s]\n",
      "Val Accuracy Epoch 133/500: 100%|██████████| 20/20 [00:00<00:00, 243.28batches/s]\n",
      "Train Epoch 134/500:   0%|          | 0/177 [00:00<?, ?batches/s]"
     ]
    },
    {
     "name": "stdout",
     "output_type": "stream",
     "text": [
      "epoch 132, val accuracy: 0.9658250446314716\n"
     ]
    },
    {
     "name": "stderr",
     "output_type": "stream",
     "text": [
      "Train Epoch 134/500: 100%|██████████| 177/177 [00:01<00:00, 105.46batches/s]\n",
      "Train Accuracy Epoch 134/500: 100%|██████████| 177/177 [00:01<00:00, 174.71batches/s]\n",
      "Val Accuracy Epoch 134/500: 100%|██████████| 20/20 [00:00<00:00, 242.91batches/s]\n",
      "Train Epoch 135/500:   0%|          | 0/177 [00:00<?, ?batches/s]"
     ]
    },
    {
     "name": "stdout",
     "output_type": "stream",
     "text": [
      "epoch 133, val accuracy: 0.9645498597296608\n"
     ]
    },
    {
     "name": "stderr",
     "output_type": "stream",
     "text": [
      "Train Epoch 135/500: 100%|██████████| 177/177 [00:01<00:00, 104.52batches/s]\n",
      "Train Accuracy Epoch 135/500: 100%|██████████| 177/177 [00:01<00:00, 174.57batches/s]\n",
      "Val Accuracy Epoch 135/500: 100%|██████████| 20/20 [00:00<00:00, 242.90batches/s]\n",
      "Train Epoch 136/500:   0%|          | 0/177 [00:00<?, ?batches/s]"
     ]
    },
    {
     "name": "stdout",
     "output_type": "stream",
     "text": [
      "epoch 134, val accuracy: 0.948227492986483\n"
     ]
    },
    {
     "name": "stderr",
     "output_type": "stream",
     "text": [
      "Train Epoch 136/500: 100%|██████████| 177/177 [00:01<00:00, 106.04batches/s]\n",
      "Train Accuracy Epoch 136/500: 100%|██████████| 177/177 [00:01<00:00, 174.93batches/s]\n",
      "Val Accuracy Epoch 136/500: 100%|██████████| 20/20 [00:00<00:00, 241.22batches/s]\n",
      "Train Epoch 137/500:   0%|          | 0/177 [00:00<?, ?batches/s]"
     ]
    },
    {
     "name": "stdout",
     "output_type": "stream",
     "text": [
      "epoch 135, val accuracy: 0.9706707472583525\n"
     ]
    },
    {
     "name": "stderr",
     "output_type": "stream",
     "text": [
      "Train Epoch 137/500: 100%|██████████| 177/177 [00:01<00:00, 105.45batches/s]\n",
      "Train Accuracy Epoch 137/500: 100%|██████████| 177/177 [00:01<00:00, 175.33batches/s]\n",
      "Val Accuracy Epoch 137/500: 100%|██████████| 20/20 [00:00<00:00, 244.91batches/s]\n",
      "Train Epoch 138/500:   0%|          | 0/177 [00:00<?, ?batches/s]"
     ]
    },
    {
     "name": "stdout",
     "output_type": "stream",
     "text": [
      "epoch 136, val accuracy: 0.9693955623565417\n"
     ]
    },
    {
     "name": "stderr",
     "output_type": "stream",
     "text": [
      "Train Epoch 138/500: 100%|██████████| 177/177 [00:01<00:00, 105.51batches/s]\n",
      "Train Accuracy Epoch 138/500: 100%|██████████| 177/177 [00:01<00:00, 173.96batches/s]\n",
      "Val Accuracy Epoch 138/500: 100%|██████████| 20/20 [00:00<00:00, 245.15batches/s]\n",
      "Train Epoch 139/500:   0%|          | 0/177 [00:00<?, ?batches/s]"
     ]
    },
    {
     "name": "stdout",
     "output_type": "stream",
     "text": [
      "epoch 137, val accuracy: 0.9520530476919153\n"
     ]
    },
    {
     "name": "stderr",
     "output_type": "stream",
     "text": [
      "Train Epoch 139/500: 100%|██████████| 177/177 [00:01<00:00, 106.17batches/s]\n",
      "Train Accuracy Epoch 139/500: 100%|██████████| 177/177 [00:01<00:00, 174.81batches/s]\n",
      "Val Accuracy Epoch 139/500: 100%|██████████| 20/20 [00:00<00:00, 236.25batches/s]\n",
      "Train Epoch 140/500:   0%|          | 0/177 [00:00<?, ?batches/s]"
     ]
    },
    {
     "name": "stdout",
     "output_type": "stream",
     "text": [
      "epoch 138, val accuracy: 0.9553685284366233\n"
     ]
    },
    {
     "name": "stderr",
     "output_type": "stream",
     "text": [
      "Train Epoch 140/500: 100%|██████████| 177/177 [00:01<00:00, 105.22batches/s]\n",
      "Train Accuracy Epoch 140/500: 100%|██████████| 177/177 [00:01<00:00, 174.32batches/s]\n",
      "Val Accuracy Epoch 140/500: 100%|██████████| 20/20 [00:00<00:00, 241.51batches/s]\n",
      "Train Epoch 141/500:   0%|          | 0/177 [00:00<?, ?batches/s]"
     ]
    },
    {
     "name": "stdout",
     "output_type": "stream",
     "text": [
      "epoch 139, val accuracy: 0.9602142310635042\n"
     ]
    },
    {
     "name": "stderr",
     "output_type": "stream",
     "text": [
      "Train Epoch 141/500: 100%|██████████| 177/177 [00:01<00:00, 106.06batches/s]\n",
      "Train Accuracy Epoch 141/500: 100%|██████████| 177/177 [00:01<00:00, 175.46batches/s]\n",
      "Val Accuracy Epoch 141/500: 100%|██████████| 20/20 [00:00<00:00, 239.70batches/s]\n",
      "Train Epoch 142/500:   0%|          | 0/177 [00:00<?, ?batches/s]"
     ]
    },
    {
     "name": "stdout",
     "output_type": "stream",
     "text": [
      "epoch 140, val accuracy: 0.9637847487885743\n"
     ]
    },
    {
     "name": "stderr",
     "output_type": "stream",
     "text": [
      "Train Epoch 142/500: 100%|██████████| 177/177 [00:01<00:00, 106.16batches/s]\n",
      "Train Accuracy Epoch 142/500: 100%|██████████| 177/177 [00:01<00:00, 176.30batches/s]\n",
      "Val Accuracy Epoch 142/500: 100%|██████████| 20/20 [00:00<00:00, 241.47batches/s]\n",
      "Train Epoch 143/500:   0%|          | 0/177 [00:00<?, ?batches/s]"
     ]
    },
    {
     "name": "stdout",
     "output_type": "stream",
     "text": [
      "epoch 141, val accuracy: 0.9681203774547309\n"
     ]
    },
    {
     "name": "stderr",
     "output_type": "stream",
     "text": [
      "Train Epoch 143/500: 100%|██████████| 177/177 [00:01<00:00, 105.66batches/s]\n",
      "Train Accuracy Epoch 143/500: 100%|██████████| 177/177 [00:01<00:00, 174.77batches/s]\n",
      "Val Accuracy Epoch 143/500: 100%|██████████| 20/20 [00:00<00:00, 242.63batches/s]\n",
      "Train Epoch 144/500:   0%|          | 0/177 [00:00<?, ?batches/s]"
     ]
    },
    {
     "name": "stdout",
     "output_type": "stream",
     "text": [
      "epoch 142, val accuracy: 0.9671002295332823\n"
     ]
    },
    {
     "name": "stderr",
     "output_type": "stream",
     "text": [
      "Train Epoch 144/500: 100%|██████████| 177/177 [00:01<00:00, 106.11batches/s]\n",
      "Train Accuracy Epoch 144/500: 100%|██████████| 177/177 [00:01<00:00, 174.68batches/s]\n",
      "Val Accuracy Epoch 144/500: 100%|██████████| 20/20 [00:00<00:00, 240.40batches/s]\n",
      "Train Epoch 145/500:   0%|          | 0/177 [00:00<?, ?batches/s]"
     ]
    },
    {
     "name": "stdout",
     "output_type": "stream",
     "text": [
      "epoch 143, val accuracy: 0.9563886763580719\n"
     ]
    },
    {
     "name": "stderr",
     "output_type": "stream",
     "text": [
      "Train Epoch 145/500: 100%|██████████| 177/177 [00:01<00:00, 106.14batches/s]\n",
      "Train Accuracy Epoch 145/500: 100%|██████████| 177/177 [00:01<00:00, 176.13batches/s]\n",
      "Val Accuracy Epoch 145/500: 100%|██████████| 20/20 [00:00<00:00, 237.31batches/s]\n",
      "Train Epoch 146/500:   0%|          | 0/177 [00:00<?, ?batches/s]"
     ]
    },
    {
     "name": "stdout",
     "output_type": "stream",
     "text": [
      "epoch 144, val accuracy: 0.9645498597296608\n"
     ]
    },
    {
     "name": "stderr",
     "output_type": "stream",
     "text": [
      "Train Epoch 146/500: 100%|██████████| 177/177 [00:01<00:00, 106.03batches/s]\n",
      "Train Accuracy Epoch 146/500: 100%|██████████| 177/177 [00:01<00:00, 175.36batches/s]\n",
      "Val Accuracy Epoch 146/500: 100%|██████████| 20/20 [00:00<00:00, 243.26batches/s]\n",
      "Train Epoch 147/500:   0%|          | 0/177 [00:00<?, ?batches/s]"
     ]
    },
    {
     "name": "stdout",
     "output_type": "stream",
     "text": [
      "epoch 145, val accuracy: 0.9709257842387146\n"
     ]
    },
    {
     "name": "stderr",
     "output_type": "stream",
     "text": [
      "Train Epoch 147/500: 100%|██████████| 177/177 [00:01<00:00, 105.75batches/s]\n",
      "Train Accuracy Epoch 147/500: 100%|██████████| 177/177 [00:01<00:00, 174.73batches/s]\n",
      "Val Accuracy Epoch 147/500: 100%|██████████| 20/20 [00:00<00:00, 241.10batches/s]\n",
      "Train Epoch 148/500:   0%|          | 0/177 [00:00<?, ?batches/s]"
     ]
    },
    {
     "name": "stdout",
     "output_type": "stream",
     "text": [
      "epoch 146, val accuracy: 0.9653149706707472\n"
     ]
    },
    {
     "name": "stderr",
     "output_type": "stream",
     "text": [
      "Train Epoch 148/500: 100%|██████████| 177/177 [00:01<00:00, 105.88batches/s]\n",
      "Train Accuracy Epoch 148/500: 100%|██████████| 177/177 [00:01<00:00, 174.88batches/s]\n",
      "Val Accuracy Epoch 148/500: 100%|██████████| 20/20 [00:00<00:00, 240.36batches/s]\n",
      "Train Epoch 149/500:   0%|          | 0/177 [00:00<?, ?batches/s]"
     ]
    },
    {
     "name": "stdout",
     "output_type": "stream",
     "text": [
      "epoch 147, val accuracy: 0.9701606732976281\n"
     ]
    },
    {
     "name": "stderr",
     "output_type": "stream",
     "text": [
      "Train Epoch 149/500: 100%|██████████| 177/177 [00:01<00:00, 105.77batches/s]\n",
      "Train Accuracy Epoch 149/500: 100%|██████████| 177/177 [00:01<00:00, 174.75batches/s]\n",
      "Val Accuracy Epoch 149/500: 100%|██████████| 20/20 [00:00<00:00, 244.65batches/s]\n",
      "Train Epoch 150/500:   0%|          | 0/177 [00:00<?, ?batches/s]"
     ]
    },
    {
     "name": "stdout",
     "output_type": "stream",
     "text": [
      "epoch 148, val accuracy: 0.9683754144350931\n"
     ]
    },
    {
     "name": "stderr",
     "output_type": "stream",
     "text": [
      "Train Epoch 150/500: 100%|██████████| 177/177 [00:01<00:00, 106.15batches/s]\n",
      "Train Accuracy Epoch 150/500: 100%|██████████| 177/177 [00:01<00:00, 175.42batches/s]\n",
      "Val Accuracy Epoch 150/500: 100%|██████████| 20/20 [00:00<00:00, 240.20batches/s]\n",
      "Train Epoch 151/500:   0%|          | 0/177 [00:00<?, ?batches/s]"
     ]
    },
    {
     "name": "stdout",
     "output_type": "stream",
     "text": [
      "epoch 149, val accuracy: 0.966590155572558\n"
     ]
    },
    {
     "name": "stderr",
     "output_type": "stream",
     "text": [
      "Train Epoch 151/500: 100%|██████████| 177/177 [00:01<00:00, 105.66batches/s]\n",
      "Train Accuracy Epoch 151/500: 100%|██████████| 177/177 [00:01<00:00, 176.11batches/s]\n",
      "Val Accuracy Epoch 151/500: 100%|██████████| 20/20 [00:00<00:00, 246.15batches/s]\n",
      "Train Epoch 152/500:   0%|          | 0/177 [00:00<?, ?batches/s]"
     ]
    },
    {
     "name": "stdout",
     "output_type": "stream",
     "text": [
      "epoch 150, val accuracy: 0.9711808212190768\n"
     ]
    },
    {
     "name": "stderr",
     "output_type": "stream",
     "text": [
      "Train Epoch 152/500: 100%|██████████| 177/177 [00:01<00:00, 106.11batches/s]\n",
      "Train Accuracy Epoch 152/500: 100%|██████████| 177/177 [00:01<00:00, 175.03batches/s]\n",
      "Val Accuracy Epoch 152/500: 100%|██████████| 20/20 [00:00<00:00, 241.94batches/s]\n",
      "Train Epoch 153/500:   0%|          | 0/177 [00:00<?, ?batches/s]"
     ]
    },
    {
     "name": "stdout",
     "output_type": "stream",
     "text": [
      "epoch 151, val accuracy: 0.9683754144350931\n"
     ]
    },
    {
     "name": "stderr",
     "output_type": "stream",
     "text": [
      "Train Epoch 153/500: 100%|██████████| 177/177 [00:01<00:00, 106.07batches/s]\n",
      "Train Accuracy Epoch 153/500: 100%|██████████| 177/177 [00:01<00:00, 176.07batches/s]\n",
      "Val Accuracy Epoch 153/500: 100%|██████████| 20/20 [00:00<00:00, 244.90batches/s]\n",
      "Train Epoch 154/500:   0%|          | 0/177 [00:00<?, ?batches/s]"
     ]
    },
    {
     "name": "stdout",
     "output_type": "stream",
     "text": [
      "epoch 152, val accuracy: 0.9683754144350931\n"
     ]
    },
    {
     "name": "stderr",
     "output_type": "stream",
     "text": [
      "Train Epoch 154/500: 100%|██████████| 177/177 [00:01<00:00, 106.08batches/s]\n",
      "Train Accuracy Epoch 154/500: 100%|██████████| 177/177 [00:01<00:00, 175.66batches/s]\n",
      "Val Accuracy Epoch 154/500: 100%|██████████| 20/20 [00:00<00:00, 246.46batches/s]\n",
      "Train Epoch 155/500:   0%|          | 0/177 [00:00<?, ?batches/s]"
     ]
    },
    {
     "name": "stdout",
     "output_type": "stream",
     "text": [
      "epoch 153, val accuracy: 0.9546034174955369\n"
     ]
    },
    {
     "name": "stderr",
     "output_type": "stream",
     "text": [
      "Train Epoch 155/500: 100%|██████████| 177/177 [00:01<00:00, 105.48batches/s]\n",
      "Train Accuracy Epoch 155/500: 100%|██████████| 177/177 [00:01<00:00, 176.23batches/s]\n",
      "Val Accuracy Epoch 155/500: 100%|██████████| 20/20 [00:00<00:00, 244.42batches/s]\n",
      "Train Epoch 156/500:   0%|          | 0/177 [00:00<?, ?batches/s]"
     ]
    },
    {
     "name": "stdout",
     "output_type": "stream",
     "text": [
      "epoch 154, val accuracy: 0.9686304514154552\n"
     ]
    },
    {
     "name": "stderr",
     "output_type": "stream",
     "text": [
      "Train Epoch 156/500: 100%|██████████| 177/177 [00:01<00:00, 105.67batches/s]\n",
      "Train Accuracy Epoch 156/500: 100%|██████████| 177/177 [00:01<00:00, 176.15batches/s]\n",
      "Val Accuracy Epoch 156/500: 100%|██████████| 20/20 [00:00<00:00, 245.46batches/s]\n",
      "Train Epoch 157/500:   0%|          | 0/177 [00:00<?, ?batches/s]"
     ]
    },
    {
     "name": "stdout",
     "output_type": "stream",
     "text": [
      "epoch 155, val accuracy: 0.9691405253761796\n"
     ]
    },
    {
     "name": "stderr",
     "output_type": "stream",
     "text": [
      "Train Epoch 157/500: 100%|██████████| 177/177 [00:01<00:00, 105.51batches/s]\n",
      "Train Accuracy Epoch 157/500: 100%|██████████| 177/177 [00:01<00:00, 176.13batches/s]\n",
      "Val Accuracy Epoch 157/500: 100%|██████████| 20/20 [00:00<00:00, 246.35batches/s]\n",
      "Train Epoch 158/500:   0%|          | 0/177 [00:00<?, ?batches/s]"
     ]
    },
    {
     "name": "stdout",
     "output_type": "stream",
     "text": [
      "epoch 156, val accuracy: 0.9683754144350931\n"
     ]
    },
    {
     "name": "stderr",
     "output_type": "stream",
     "text": [
      "Train Epoch 158/500: 100%|██████████| 177/177 [00:01<00:00, 105.16batches/s]\n",
      "Train Accuracy Epoch 158/500: 100%|██████████| 177/177 [00:01<00:00, 174.37batches/s]\n",
      "Val Accuracy Epoch 158/500: 100%|██████████| 20/20 [00:00<00:00, 240.35batches/s]\n",
      "Train Epoch 159/500:   0%|          | 0/177 [00:00<?, ?batches/s]"
     ]
    },
    {
     "name": "stdout",
     "output_type": "stream",
     "text": [
      "epoch 157, val accuracy: 0.9520530476919153\n"
     ]
    },
    {
     "name": "stderr",
     "output_type": "stream",
     "text": [
      "Train Epoch 159/500: 100%|██████████| 177/177 [00:01<00:00, 104.40batches/s]\n",
      "Train Accuracy Epoch 159/500: 100%|██████████| 177/177 [00:01<00:00, 175.01batches/s]\n",
      "Val Accuracy Epoch 159/500: 100%|██████████| 20/20 [00:00<00:00, 243.00batches/s]\n",
      "Train Epoch 160/500:   0%|          | 0/177 [00:00<?, ?batches/s]"
     ]
    },
    {
     "name": "stdout",
     "output_type": "stream",
     "text": [
      "epoch 158, val accuracy: 0.9597041571027799\n"
     ]
    },
    {
     "name": "stderr",
     "output_type": "stream",
     "text": [
      "Train Epoch 160/500: 100%|██████████| 177/177 [00:01<00:00, 104.75batches/s]\n",
      "Train Accuracy Epoch 160/500: 100%|██████████| 177/177 [00:01<00:00, 173.27batches/s]\n",
      "Val Accuracy Epoch 160/500: 100%|██████████| 20/20 [00:00<00:00, 237.50batches/s]\n",
      "Train Epoch 161/500:   0%|          | 0/177 [00:00<?, ?batches/s]"
     ]
    },
    {
     "name": "stdout",
     "output_type": "stream",
     "text": [
      "epoch 159, val accuracy: 0.9681203774547309\n"
     ]
    },
    {
     "name": "stderr",
     "output_type": "stream",
     "text": [
      "Train Epoch 161/500: 100%|██████████| 177/177 [00:01<00:00, 105.24batches/s]\n",
      "Train Accuracy Epoch 161/500: 100%|██████████| 177/177 [00:01<00:00, 173.06batches/s]\n",
      "Val Accuracy Epoch 161/500: 100%|██████████| 20/20 [00:00<00:00, 241.06batches/s]\n",
      "Train Epoch 162/500:   0%|          | 0/177 [00:00<?, ?batches/s]"
     ]
    },
    {
     "name": "stdout",
     "output_type": "stream",
     "text": [
      "epoch 160, val accuracy: 0.969905636317266\n"
     ]
    },
    {
     "name": "stderr",
     "output_type": "stream",
     "text": [
      "Train Epoch 162/500: 100%|██████████| 177/177 [00:01<00:00, 105.59batches/s]\n",
      "Train Accuracy Epoch 162/500: 100%|██████████| 177/177 [00:01<00:00, 173.70batches/s]\n",
      "Val Accuracy Epoch 162/500: 100%|██████████| 20/20 [00:00<00:00, 241.66batches/s]\n",
      "Train Epoch 163/500:   0%|          | 0/177 [00:00<?, ?batches/s]"
     ]
    },
    {
     "name": "stdout",
     "output_type": "stream",
     "text": [
      "epoch 161, val accuracy: 0.9714358581994389\n"
     ]
    },
    {
     "name": "stderr",
     "output_type": "stream",
     "text": [
      "Train Epoch 163/500: 100%|██████████| 177/177 [00:01<00:00, 104.89batches/s]\n",
      "Train Accuracy Epoch 163/500: 100%|██████████| 177/177 [00:01<00:00, 173.41batches/s]\n",
      "Val Accuracy Epoch 163/500: 100%|██████████| 20/20 [00:00<00:00, 239.12batches/s]\n",
      "Train Epoch 164/500:   0%|          | 0/177 [00:00<?, ?batches/s]"
     ]
    },
    {
     "name": "stdout",
     "output_type": "stream",
     "text": [
      "epoch 162, val accuracy: 0.9691405253761796\n"
     ]
    },
    {
     "name": "stderr",
     "output_type": "stream",
     "text": [
      "Train Epoch 164/500: 100%|██████████| 177/177 [00:01<00:00, 105.32batches/s]\n",
      "Train Accuracy Epoch 164/500: 100%|██████████| 177/177 [00:01<00:00, 172.77batches/s]\n",
      "Val Accuracy Epoch 164/500: 100%|██████████| 20/20 [00:00<00:00, 240.00batches/s]\n",
      "Train Epoch 165/500:   0%|          | 0/177 [00:00<?, ?batches/s]"
     ]
    },
    {
     "name": "stdout",
     "output_type": "stream",
     "text": [
      "epoch 163, val accuracy: 0.9505228258097425\n"
     ]
    },
    {
     "name": "stderr",
     "output_type": "stream",
     "text": [
      "Train Epoch 165/500: 100%|██████████| 177/177 [00:01<00:00, 105.59batches/s]\n",
      "Train Accuracy Epoch 165/500: 100%|██████████| 177/177 [00:01<00:00, 172.41batches/s]\n",
      "Val Accuracy Epoch 165/500: 100%|██████████| 20/20 [00:00<00:00, 237.34batches/s]\n",
      "Train Epoch 166/500:   0%|          | 0/177 [00:00<?, ?batches/s]"
     ]
    },
    {
     "name": "stdout",
     "output_type": "stream",
     "text": [
      "epoch 164, val accuracy: 0.9400663096148941\n"
     ]
    },
    {
     "name": "stderr",
     "output_type": "stream",
     "text": [
      "Train Epoch 166/500: 100%|██████████| 177/177 [00:01<00:00, 104.85batches/s]\n",
      "Train Accuracy Epoch 166/500: 100%|██████████| 177/177 [00:01<00:00, 171.05batches/s]\n",
      "Val Accuracy Epoch 166/500: 100%|██████████| 20/20 [00:00<00:00, 244.39batches/s]\n",
      "Train Epoch 167/500:   0%|          | 0/177 [00:00<?, ?batches/s]"
     ]
    },
    {
     "name": "stdout",
     "output_type": "stream",
     "text": [
      "epoch 165, val accuracy: 0.9671002295332823\n"
     ]
    },
    {
     "name": "stderr",
     "output_type": "stream",
     "text": [
      "Train Epoch 167/500: 100%|██████████| 177/177 [00:01<00:00, 104.96batches/s]\n",
      "Train Accuracy Epoch 167/500: 100%|██████████| 177/177 [00:01<00:00, 175.78batches/s]\n",
      "Val Accuracy Epoch 167/500: 100%|██████████| 20/20 [00:00<00:00, 241.26batches/s]\n",
      "Train Epoch 168/500:   0%|          | 0/177 [00:00<?, ?batches/s]"
     ]
    },
    {
     "name": "stdout",
     "output_type": "stream",
     "text": [
      "epoch 166, val accuracy: 0.9660800816118337\n"
     ]
    },
    {
     "name": "stderr",
     "output_type": "stream",
     "text": [
      "Train Epoch 168/500: 100%|██████████| 177/177 [00:01<00:00, 105.36batches/s]\n",
      "Train Accuracy Epoch 168/500: 100%|██████████| 177/177 [00:01<00:00, 176.14batches/s]\n",
      "Val Accuracy Epoch 168/500: 100%|██████████| 20/20 [00:00<00:00, 239.06batches/s]\n",
      "Train Epoch 169/500:   0%|          | 0/177 [00:00<?, ?batches/s]"
     ]
    },
    {
     "name": "stdout",
     "output_type": "stream",
     "text": [
      "epoch 167, val accuracy: 0.9701606732976281\n"
     ]
    },
    {
     "name": "stderr",
     "output_type": "stream",
     "text": [
      "Train Epoch 169/500: 100%|██████████| 177/177 [00:01<00:00, 105.52batches/s]\n",
      "Train Accuracy Epoch 169/500: 100%|██████████| 177/177 [00:01<00:00, 175.81batches/s]\n",
      "Val Accuracy Epoch 169/500: 100%|██████████| 20/20 [00:00<00:00, 244.05batches/s]\n",
      "Train Epoch 170/500:   0%|          | 0/177 [00:00<?, ?batches/s]"
     ]
    },
    {
     "name": "stdout",
     "output_type": "stream",
     "text": [
      "epoch 168, val accuracy: 0.9507778627901046\n"
     ]
    },
    {
     "name": "stderr",
     "output_type": "stream",
     "text": [
      "Train Epoch 170/500: 100%|██████████| 177/177 [00:01<00:00, 105.75batches/s]\n",
      "Train Accuracy Epoch 170/500: 100%|██████████| 177/177 [00:01<00:00, 176.18batches/s]\n",
      "Val Accuracy Epoch 170/500: 100%|██████████| 20/20 [00:00<00:00, 242.35batches/s]\n",
      "Train Epoch 171/500:   0%|          | 0/177 [00:00<?, ?batches/s]"
     ]
    },
    {
     "name": "stdout",
     "output_type": "stream",
     "text": [
      "epoch 169, val accuracy: 0.9696505993369039\n"
     ]
    },
    {
     "name": "stderr",
     "output_type": "stream",
     "text": [
      "Train Epoch 171/500: 100%|██████████| 177/177 [00:01<00:00, 105.53batches/s]\n",
      "Train Accuracy Epoch 171/500: 100%|██████████| 177/177 [00:01<00:00, 176.26batches/s]\n",
      "Val Accuracy Epoch 171/500: 100%|██████████| 20/20 [00:00<00:00, 243.83batches/s]\n",
      "Train Epoch 172/500:   0%|          | 0/177 [00:00<?, ?batches/s]"
     ]
    },
    {
     "name": "stdout",
     "output_type": "stream",
     "text": [
      "epoch 170, val accuracy: 0.9691405253761796\n"
     ]
    },
    {
     "name": "stderr",
     "output_type": "stream",
     "text": [
      "Train Epoch 172/500: 100%|██████████| 177/177 [00:01<00:00, 105.84batches/s]\n",
      "Train Accuracy Epoch 172/500: 100%|██████████| 177/177 [00:01<00:00, 174.93batches/s]\n",
      "Val Accuracy Epoch 172/500: 100%|██████████| 20/20 [00:00<00:00, 244.98batches/s]\n",
      "Train Epoch 173/500:   0%|          | 0/177 [00:00<?, ?batches/s]"
     ]
    },
    {
     "name": "stdout",
     "output_type": "stream",
     "text": [
      "epoch 171, val accuracy: 0.9683754144350931\n"
     ]
    },
    {
     "name": "stderr",
     "output_type": "stream",
     "text": [
      "Train Epoch 173/500: 100%|██████████| 177/177 [00:01<00:00, 105.23batches/s]\n",
      "Train Accuracy Epoch 173/500: 100%|██████████| 177/177 [00:01<00:00, 176.08batches/s]\n",
      "Val Accuracy Epoch 173/500: 100%|██████████| 20/20 [00:00<00:00, 242.93batches/s]\n",
      "Train Epoch 174/500:   0%|          | 0/177 [00:00<?, ?batches/s]"
     ]
    },
    {
     "name": "stdout",
     "output_type": "stream",
     "text": [
      "epoch 172, val accuracy: 0.9688854883958173\n"
     ]
    },
    {
     "name": "stderr",
     "output_type": "stream",
     "text": [
      "Train Epoch 174/500: 100%|██████████| 177/177 [00:01<00:00, 105.62batches/s]\n",
      "Train Accuracy Epoch 174/500: 100%|██████████| 177/177 [00:01<00:00, 176.00batches/s]\n",
      "Val Accuracy Epoch 174/500: 100%|██████████| 20/20 [00:00<00:00, 246.88batches/s]\n",
      "Train Epoch 175/500:   0%|          | 0/177 [00:00<?, ?batches/s]"
     ]
    },
    {
     "name": "stdout",
     "output_type": "stream",
     "text": [
      "epoch 173, val accuracy: 0.9586840091813313\n"
     ]
    },
    {
     "name": "stderr",
     "output_type": "stream",
     "text": [
      "Train Epoch 175/500: 100%|██████████| 177/177 [00:01<00:00, 105.52batches/s]\n",
      "Train Accuracy Epoch 175/500: 100%|██████████| 177/177 [00:01<00:00, 176.01batches/s]\n",
      "Val Accuracy Epoch 175/500: 100%|██████████| 20/20 [00:00<00:00, 248.34batches/s]\n",
      "Train Epoch 176/500:   0%|          | 0/177 [00:00<?, ?batches/s]"
     ]
    },
    {
     "name": "stdout",
     "output_type": "stream",
     "text": [
      "epoch 174, val accuracy: 0.9696505993369039\n"
     ]
    },
    {
     "name": "stderr",
     "output_type": "stream",
     "text": [
      "Train Epoch 176/500: 100%|██████████| 177/177 [00:01<00:00, 104.66batches/s]\n",
      "Train Accuracy Epoch 176/500: 100%|██████████| 177/177 [00:01<00:00, 172.32batches/s]\n",
      "Val Accuracy Epoch 176/500: 100%|██████████| 20/20 [00:00<00:00, 228.55batches/s]\n",
      "Train Epoch 177/500:   0%|          | 0/177 [00:00<?, ?batches/s]"
     ]
    },
    {
     "name": "stdout",
     "output_type": "stream",
     "text": [
      "epoch 175, val accuracy: 0.9714358581994389\n"
     ]
    },
    {
     "name": "stderr",
     "output_type": "stream",
     "text": [
      "Train Epoch 177/500: 100%|██████████| 177/177 [00:01<00:00, 105.12batches/s]\n",
      "Train Accuracy Epoch 177/500: 100%|██████████| 177/177 [00:01<00:00, 170.80batches/s]\n",
      "Val Accuracy Epoch 177/500: 100%|██████████| 20/20 [00:00<00:00, 226.23batches/s]\n",
      "Train Epoch 178/500:   0%|          | 0/177 [00:00<?, ?batches/s]"
     ]
    },
    {
     "name": "stdout",
     "output_type": "stream",
     "text": [
      "epoch 176, val accuracy: 0.9709257842387146\n"
     ]
    },
    {
     "name": "stderr",
     "output_type": "stream",
     "text": [
      "Train Epoch 178/500: 100%|██████████| 177/177 [00:01<00:00, 104.01batches/s]\n",
      "Train Accuracy Epoch 178/500: 100%|██████████| 177/177 [00:01<00:00, 169.75batches/s]\n",
      "Val Accuracy Epoch 178/500: 100%|██████████| 20/20 [00:00<00:00, 240.07batches/s]\n",
      "Train Epoch 179/500:   0%|          | 0/177 [00:00<?, ?batches/s]"
     ]
    },
    {
     "name": "stdout",
     "output_type": "stream",
     "text": [
      "epoch 177, val accuracy: 0.954858454475899\n"
     ]
    },
    {
     "name": "stderr",
     "output_type": "stream",
     "text": [
      "Train Epoch 179/500: 100%|██████████| 177/177 [00:01<00:00, 100.78batches/s]\n",
      "Train Accuracy Epoch 179/500: 100%|██████████| 177/177 [00:01<00:00, 164.64batches/s]\n",
      "Val Accuracy Epoch 179/500: 100%|██████████| 20/20 [00:00<00:00, 233.37batches/s]\n",
      "Train Epoch 180/500:   0%|          | 0/177 [00:00<?, ?batches/s]"
     ]
    },
    {
     "name": "stdout",
     "output_type": "stream",
     "text": [
      "epoch 178, val accuracy: 0.9696505993369039\n"
     ]
    },
    {
     "name": "stderr",
     "output_type": "stream",
     "text": [
      "Train Epoch 180/500: 100%|██████████| 177/177 [00:01<00:00, 102.02batches/s]\n",
      "Train Accuracy Epoch 180/500: 100%|██████████| 177/177 [00:01<00:00, 171.23batches/s]\n",
      "Val Accuracy Epoch 180/500: 100%|██████████| 20/20 [00:00<00:00, 234.64batches/s]\n",
      "Train Epoch 181/500:   0%|          | 0/177 [00:00<?, ?batches/s]"
     ]
    },
    {
     "name": "stdout",
     "output_type": "stream",
     "text": [
      "epoch 179, val accuracy: 0.9637847487885743\n"
     ]
    },
    {
     "name": "stderr",
     "output_type": "stream",
     "text": [
      "Train Epoch 181/500: 100%|██████████| 177/177 [00:01<00:00, 104.37batches/s]\n",
      "Train Accuracy Epoch 181/500: 100%|██████████| 177/177 [00:01<00:00, 173.18batches/s]\n",
      "Val Accuracy Epoch 181/500: 100%|██████████| 20/20 [00:00<00:00, 238.37batches/s]\n",
      "Train Epoch 182/500:   0%|          | 0/177 [00:00<?, ?batches/s]"
     ]
    },
    {
     "name": "stdout",
     "output_type": "stream",
     "text": [
      "epoch 180, val accuracy: 0.9704157102779903\n"
     ]
    },
    {
     "name": "stderr",
     "output_type": "stream",
     "text": [
      "Train Epoch 182/500: 100%|██████████| 177/177 [00:01<00:00, 103.90batches/s]\n",
      "Train Accuracy Epoch 182/500: 100%|██████████| 177/177 [00:01<00:00, 172.17batches/s]\n",
      "Val Accuracy Epoch 182/500: 100%|██████████| 20/20 [00:00<00:00, 237.84batches/s]\n",
      "Train Epoch 183/500:   0%|          | 0/177 [00:00<?, ?batches/s]"
     ]
    },
    {
     "name": "stdout",
     "output_type": "stream",
     "text": [
      "epoch 181, val accuracy: 0.9683754144350931\n"
     ]
    },
    {
     "name": "stderr",
     "output_type": "stream",
     "text": [
      "Train Epoch 183/500: 100%|██████████| 177/177 [00:01<00:00, 104.65batches/s]\n",
      "Train Accuracy Epoch 183/500: 100%|██████████| 177/177 [00:01<00:00, 172.57batches/s]\n",
      "Val Accuracy Epoch 183/500: 100%|██████████| 20/20 [00:00<00:00, 238.00batches/s]\n",
      "Train Epoch 184/500:   0%|          | 0/177 [00:00<?, ?batches/s]"
     ]
    },
    {
     "name": "stdout",
     "output_type": "stream",
     "text": [
      "epoch 182, val accuracy: 0.9627646008671258\n"
     ]
    },
    {
     "name": "stderr",
     "output_type": "stream",
     "text": [
      "Train Epoch 184/500: 100%|██████████| 177/177 [00:01<00:00, 101.86batches/s]\n",
      "Train Accuracy Epoch 184/500: 100%|██████████| 177/177 [00:01<00:00, 160.85batches/s]\n",
      "Val Accuracy Epoch 184/500: 100%|██████████| 20/20 [00:00<00:00, 226.92batches/s]\n",
      "Train Epoch 185/500:   0%|          | 0/177 [00:00<?, ?batches/s]"
     ]
    },
    {
     "name": "stdout",
     "output_type": "stream",
     "text": [
      "epoch 183, val accuracy: 0.9693955623565417\n"
     ]
    },
    {
     "name": "stderr",
     "output_type": "stream",
     "text": [
      "Train Epoch 185/500: 100%|██████████| 177/177 [00:01<00:00, 97.67batches/s]\n",
      "Train Accuracy Epoch 185/500: 100%|██████████| 177/177 [00:01<00:00, 166.16batches/s]\n",
      "Val Accuracy Epoch 185/500: 100%|██████████| 20/20 [00:00<00:00, 226.86batches/s]\n",
      "Train Epoch 186/500:   0%|          | 0/177 [00:00<?, ?batches/s]"
     ]
    },
    {
     "name": "stdout",
     "output_type": "stream",
     "text": [
      "epoch 184, val accuracy: 0.966590155572558\n"
     ]
    },
    {
     "name": "stderr",
     "output_type": "stream",
     "text": [
      "Train Epoch 186/500: 100%|██████████| 177/177 [00:01<00:00, 103.17batches/s]\n",
      "Train Accuracy Epoch 186/500: 100%|██████████| 177/177 [00:01<00:00, 164.39batches/s]\n",
      "Val Accuracy Epoch 186/500: 100%|██████████| 20/20 [00:00<00:00, 226.29batches/s]\n",
      "Train Epoch 187/500:   0%|          | 0/177 [00:00<?, ?batches/s]"
     ]
    },
    {
     "name": "stdout",
     "output_type": "stream",
     "text": [
      "epoch 185, val accuracy: 0.9691405253761796\n"
     ]
    },
    {
     "name": "stderr",
     "output_type": "stream",
     "text": [
      "Train Epoch 187/500: 100%|██████████| 177/177 [00:01<00:00, 97.54batches/s]\n",
      "Train Accuracy Epoch 187/500: 100%|██████████| 177/177 [00:01<00:00, 160.43batches/s]\n",
      "Val Accuracy Epoch 187/500: 100%|██████████| 20/20 [00:00<00:00, 220.47batches/s]\n",
      "Train Epoch 188/500:   0%|          | 0/177 [00:00<?, ?batches/s]"
     ]
    },
    {
     "name": "stdout",
     "output_type": "stream",
     "text": [
      "epoch 186, val accuracy: 0.9701606732976281\n"
     ]
    },
    {
     "name": "stderr",
     "output_type": "stream",
     "text": [
      "Train Epoch 188/500: 100%|██████████| 177/177 [00:01<00:00, 97.65batches/s]\n",
      "Train Accuracy Epoch 188/500: 100%|██████████| 177/177 [00:01<00:00, 160.67batches/s]\n",
      "Val Accuracy Epoch 188/500: 100%|██████████| 20/20 [00:00<00:00, 223.62batches/s]\n",
      "Train Epoch 189/500:   0%|          | 0/177 [00:00<?, ?batches/s]"
     ]
    },
    {
     "name": "stdout",
     "output_type": "stream",
     "text": [
      "epoch 187, val accuracy: 0.928079571537873\n"
     ]
    },
    {
     "name": "stderr",
     "output_type": "stream",
     "text": [
      "Train Epoch 189/500: 100%|██████████| 177/177 [00:01<00:00, 98.06batches/s]\n",
      "Train Accuracy Epoch 189/500: 100%|██████████| 177/177 [00:01<00:00, 159.91batches/s]\n",
      "Val Accuracy Epoch 189/500: 100%|██████████| 20/20 [00:00<00:00, 215.33batches/s]\n",
      "Train Epoch 190/500:   0%|          | 0/177 [00:00<?, ?batches/s]"
     ]
    },
    {
     "name": "stdout",
     "output_type": "stream",
     "text": [
      "epoch 188, val accuracy: 0.9719459321601632\n"
     ]
    },
    {
     "name": "stderr",
     "output_type": "stream",
     "text": [
      "Train Epoch 190/500: 100%|██████████| 177/177 [00:01<00:00, 97.48batches/s]\n",
      "Train Accuracy Epoch 190/500: 100%|██████████| 177/177 [00:01<00:00, 161.77batches/s]\n",
      "Val Accuracy Epoch 190/500: 100%|██████████| 20/20 [00:00<00:00, 223.09batches/s]\n",
      "Train Epoch 191/500:   0%|          | 0/177 [00:00<?, ?batches/s]"
     ]
    },
    {
     "name": "stdout",
     "output_type": "stream",
     "text": [
      "epoch 189, val accuracy: 0.958173935220607\n"
     ]
    },
    {
     "name": "stderr",
     "output_type": "stream",
     "text": [
      "Train Epoch 191/500: 100%|██████████| 177/177 [00:01<00:00, 99.24batches/s]\n",
      "Train Accuracy Epoch 191/500: 100%|██████████| 177/177 [00:01<00:00, 166.67batches/s]\n",
      "Val Accuracy Epoch 191/500: 100%|██████████| 20/20 [00:00<00:00, 231.16batches/s]\n",
      "Train Epoch 192/500:   0%|          | 0/177 [00:00<?, ?batches/s]"
     ]
    },
    {
     "name": "stdout",
     "output_type": "stream",
     "text": [
      "epoch 190, val accuracy: 0.9714358581994389\n"
     ]
    },
    {
     "name": "stderr",
     "output_type": "stream",
     "text": [
      "Train Epoch 192/500: 100%|██████████| 177/177 [00:01<00:00, 101.01batches/s]\n",
      "Train Accuracy Epoch 192/500: 100%|██████████| 177/177 [00:01<00:00, 170.14batches/s]\n",
      "Val Accuracy Epoch 192/500: 100%|██████████| 20/20 [00:00<00:00, 230.89batches/s]\n",
      "Train Epoch 193/500:   0%|          | 0/177 [00:00<?, ?batches/s]"
     ]
    },
    {
     "name": "stdout",
     "output_type": "stream",
     "text": [
      "epoch 191, val accuracy: 0.9671002295332823\n"
     ]
    },
    {
     "name": "stderr",
     "output_type": "stream",
     "text": [
      "Train Epoch 193/500: 100%|██████████| 177/177 [00:01<00:00, 104.81batches/s]\n",
      "Train Accuracy Epoch 193/500: 100%|██████████| 177/177 [00:01<00:00, 172.56batches/s]\n",
      "Val Accuracy Epoch 193/500: 100%|██████████| 20/20 [00:00<00:00, 240.99batches/s]\n",
      "Train Epoch 194/500:   0%|          | 0/177 [00:00<?, ?batches/s]"
     ]
    },
    {
     "name": "stdout",
     "output_type": "stream",
     "text": [
      "epoch 192, val accuracy: 0.9655700076511095\n"
     ]
    },
    {
     "name": "stderr",
     "output_type": "stream",
     "text": [
      "Train Epoch 194/500: 100%|██████████| 177/177 [00:01<00:00, 105.34batches/s]\n",
      "Train Accuracy Epoch 194/500: 100%|██████████| 177/177 [00:01<00:00, 172.20batches/s]\n",
      "Val Accuracy Epoch 194/500: 100%|██████████| 20/20 [00:00<00:00, 236.54batches/s]\n",
      "Train Epoch 195/500:   0%|          | 0/177 [00:00<?, ?batches/s]"
     ]
    },
    {
     "name": "stdout",
     "output_type": "stream",
     "text": [
      "epoch 193, val accuracy: 0.9686304514154552\n"
     ]
    },
    {
     "name": "stderr",
     "output_type": "stream",
     "text": [
      "Train Epoch 195/500: 100%|██████████| 177/177 [00:01<00:00, 103.74batches/s]\n",
      "Train Accuracy Epoch 195/500: 100%|██████████| 177/177 [00:01<00:00, 170.08batches/s]\n",
      "Val Accuracy Epoch 195/500: 100%|██████████| 20/20 [00:00<00:00, 236.25batches/s]\n",
      "Train Epoch 196/500:   0%|          | 0/177 [00:00<?, ?batches/s]"
     ]
    },
    {
     "name": "stdout",
     "output_type": "stream",
     "text": [
      "epoch 194, val accuracy: 0.9693955623565417\n"
     ]
    },
    {
     "name": "stderr",
     "output_type": "stream",
     "text": [
      "Train Epoch 196/500: 100%|██████████| 177/177 [00:01<00:00, 104.47batches/s]\n",
      "Train Accuracy Epoch 196/500: 100%|██████████| 177/177 [00:01<00:00, 174.16batches/s]\n",
      "Val Accuracy Epoch 196/500: 100%|██████████| 20/20 [00:00<00:00, 235.56batches/s]\n",
      "Train Epoch 197/500:   0%|          | 0/177 [00:00<?, ?batches/s]"
     ]
    },
    {
     "name": "stdout",
     "output_type": "stream",
     "text": [
      "epoch 195, val accuracy: 0.9683754144350931\n"
     ]
    },
    {
     "name": "stderr",
     "output_type": "stream",
     "text": [
      "Train Epoch 197/500: 100%|██████████| 177/177 [00:01<00:00, 104.71batches/s]\n",
      "Train Accuracy Epoch 197/500: 100%|██████████| 177/177 [00:01<00:00, 172.64batches/s]\n",
      "Val Accuracy Epoch 197/500: 100%|██████████| 20/20 [00:00<00:00, 237.73batches/s]\n",
      "Train Epoch 198/500:   0%|          | 0/177 [00:00<?, ?batches/s]"
     ]
    },
    {
     "name": "stdout",
     "output_type": "stream",
     "text": [
      "epoch 196, val accuracy: 0.9688854883958173\n"
     ]
    },
    {
     "name": "stderr",
     "output_type": "stream",
     "text": [
      "Train Epoch 198/500: 100%|██████████| 177/177 [00:01<00:00, 104.62batches/s]\n",
      "Train Accuracy Epoch 198/500: 100%|██████████| 177/177 [00:01<00:00, 173.46batches/s]\n",
      "Val Accuracy Epoch 198/500: 100%|██████████| 20/20 [00:00<00:00, 227.89batches/s]\n",
      "Train Epoch 199/500:   0%|          | 0/177 [00:00<?, ?batches/s]"
     ]
    },
    {
     "name": "stdout",
     "output_type": "stream",
     "text": [
      "epoch 197, val accuracy: 0.9704157102779903\n"
     ]
    },
    {
     "name": "stderr",
     "output_type": "stream",
     "text": [
      "Train Epoch 199/500: 100%|██████████| 177/177 [00:01<00:00, 104.17batches/s]\n",
      "Train Accuracy Epoch 199/500: 100%|██████████| 177/177 [00:01<00:00, 173.92batches/s]\n",
      "Val Accuracy Epoch 199/500: 100%|██████████| 20/20 [00:00<00:00, 235.81batches/s]\n",
      "Train Epoch 200/500:   0%|          | 0/177 [00:00<?, ?batches/s]"
     ]
    },
    {
     "name": "stdout",
     "output_type": "stream",
     "text": [
      "epoch 198, val accuracy: 0.969905636317266\n"
     ]
    },
    {
     "name": "stderr",
     "output_type": "stream",
     "text": [
      "Train Epoch 200/500: 100%|██████████| 177/177 [00:01<00:00, 103.18batches/s]\n",
      "Train Accuracy Epoch 200/500: 100%|██████████| 177/177 [00:01<00:00, 174.04batches/s]\n",
      "Val Accuracy Epoch 200/500: 100%|██████████| 20/20 [00:00<00:00, 236.92batches/s]\n",
      "Train Epoch 201/500:   0%|          | 0/177 [00:00<?, ?batches/s]"
     ]
    },
    {
     "name": "stdout",
     "output_type": "stream",
     "text": [
      "epoch 199, val accuracy: 0.9683754144350931\n"
     ]
    },
    {
     "name": "stderr",
     "output_type": "stream",
     "text": [
      "Train Epoch 201/500: 100%|██████████| 177/177 [00:01<00:00, 103.64batches/s]\n",
      "Train Accuracy Epoch 201/500: 100%|██████████| 177/177 [00:01<00:00, 173.78batches/s]\n",
      "Val Accuracy Epoch 201/500: 100%|██████████| 20/20 [00:00<00:00, 242.71batches/s]\n",
      "Train Epoch 202/500:   0%|          | 0/177 [00:00<?, ?batches/s]"
     ]
    },
    {
     "name": "stdout",
     "output_type": "stream",
     "text": [
      "epoch 200, val accuracy: 0.9704157102779903\n"
     ]
    },
    {
     "name": "stderr",
     "output_type": "stream",
     "text": [
      "Train Epoch 202/500: 100%|██████████| 177/177 [00:01<00:00, 102.50batches/s]\n",
      "Train Accuracy Epoch 202/500: 100%|██████████| 177/177 [00:01<00:00, 169.32batches/s]\n",
      "Val Accuracy Epoch 202/500: 100%|██████████| 20/20 [00:00<00:00, 235.02batches/s]\n",
      "Train Epoch 203/500:   0%|          | 0/177 [00:00<?, ?batches/s]"
     ]
    },
    {
     "name": "stdout",
     "output_type": "stream",
     "text": [
      "epoch 201, val accuracy: 0.9688854883958173\n"
     ]
    },
    {
     "name": "stderr",
     "output_type": "stream",
     "text": [
      "Train Epoch 203/500: 100%|██████████| 177/177 [00:01<00:00, 101.43batches/s]\n",
      "Train Accuracy Epoch 203/500: 100%|██████████| 177/177 [00:01<00:00, 168.04batches/s]\n",
      "Val Accuracy Epoch 203/500: 100%|██████████| 20/20 [00:00<00:00, 223.00batches/s]\n",
      "Train Epoch 204/500:   0%|          | 0/177 [00:00<?, ?batches/s]"
     ]
    },
    {
     "name": "stdout",
     "output_type": "stream",
     "text": [
      "epoch 202, val accuracy: 0.9484825299668452\n"
     ]
    },
    {
     "name": "stderr",
     "output_type": "stream",
     "text": [
      "Train Epoch 204/500: 100%|██████████| 177/177 [00:01<00:00, 104.06batches/s]\n",
      "Train Accuracy Epoch 204/500: 100%|██████████| 177/177 [00:01<00:00, 166.82batches/s]\n",
      "Val Accuracy Epoch 204/500: 100%|██████████| 20/20 [00:00<00:00, 232.48batches/s]\n",
      "Train Epoch 205/500:   0%|          | 0/177 [00:00<?, ?batches/s]"
     ]
    },
    {
     "name": "stdout",
     "output_type": "stream",
     "text": [
      "epoch 203, val accuracy: 0.9704157102779903\n"
     ]
    },
    {
     "name": "stderr",
     "output_type": "stream",
     "text": [
      "Train Epoch 205/500: 100%|██████████| 177/177 [00:01<00:00, 102.56batches/s]\n",
      "Train Accuracy Epoch 205/500: 100%|██████████| 177/177 [00:01<00:00, 165.80batches/s]\n",
      "Val Accuracy Epoch 205/500: 100%|██████████| 20/20 [00:00<00:00, 220.56batches/s]\n",
      "Train Epoch 206/500:   0%|          | 0/177 [00:00<?, ?batches/s]"
     ]
    },
    {
     "name": "stdout",
     "output_type": "stream",
     "text": [
      "epoch 204, val accuracy: 0.9696505993369039\n"
     ]
    },
    {
     "name": "stderr",
     "output_type": "stream",
     "text": [
      "Train Epoch 206/500: 100%|██████████| 177/177 [00:01<00:00, 101.80batches/s]\n",
      "Train Accuracy Epoch 206/500: 100%|██████████| 177/177 [00:01<00:00, 169.85batches/s]\n",
      "Val Accuracy Epoch 206/500: 100%|██████████| 20/20 [00:00<00:00, 234.73batches/s]\n",
      "Train Epoch 207/500:   0%|          | 0/177 [00:00<?, ?batches/s]"
     ]
    },
    {
     "name": "stdout",
     "output_type": "stream",
     "text": [
      "epoch 205, val accuracy: 0.9701606732976281\n"
     ]
    },
    {
     "name": "stderr",
     "output_type": "stream",
     "text": [
      "Train Epoch 207/500: 100%|██████████| 177/177 [00:01<00:00, 104.34batches/s]\n",
      "Train Accuracy Epoch 207/500: 100%|██████████| 177/177 [00:01<00:00, 168.94batches/s]\n",
      "Val Accuracy Epoch 207/500: 100%|██████████| 20/20 [00:00<00:00, 233.26batches/s]\n",
      "Train Epoch 208/500:   0%|          | 0/177 [00:00<?, ?batches/s]"
     ]
    },
    {
     "name": "stdout",
     "output_type": "stream",
     "text": [
      "epoch 206, val accuracy: 0.9673552665136445\n"
     ]
    },
    {
     "name": "stderr",
     "output_type": "stream",
     "text": [
      "Train Epoch 208/500: 100%|██████████| 177/177 [00:01<00:00, 103.56batches/s]\n",
      "Train Accuracy Epoch 208/500: 100%|██████████| 177/177 [00:01<00:00, 172.83batches/s]\n",
      "Val Accuracy Epoch 208/500: 100%|██████████| 20/20 [00:00<00:00, 229.11batches/s]\n",
      "Train Epoch 209/500:   0%|          | 0/177 [00:00<?, ?batches/s]"
     ]
    },
    {
     "name": "stdout",
     "output_type": "stream",
     "text": [
      "epoch 207, val accuracy: 0.9693955623565417\n"
     ]
    },
    {
     "name": "stderr",
     "output_type": "stream",
     "text": [
      "Train Epoch 209/500: 100%|██████████| 177/177 [00:01<00:00, 104.26batches/s]\n",
      "Train Accuracy Epoch 209/500: 100%|██████████| 177/177 [00:01<00:00, 174.64batches/s]\n",
      "Val Accuracy Epoch 209/500: 100%|██████████| 20/20 [00:00<00:00, 232.68batches/s]\n",
      "Train Epoch 210/500:   0%|          | 0/177 [00:00<?, ?batches/s]"
     ]
    },
    {
     "name": "stdout",
     "output_type": "stream",
     "text": [
      "epoch 208, val accuracy: 0.9619994899260392\n"
     ]
    },
    {
     "name": "stderr",
     "output_type": "stream",
     "text": [
      "Train Epoch 210/500: 100%|██████████| 177/177 [00:01<00:00, 105.11batches/s]\n",
      "Train Accuracy Epoch 210/500: 100%|██████████| 177/177 [00:01<00:00, 175.57batches/s]\n",
      "Val Accuracy Epoch 210/500: 100%|██████████| 20/20 [00:00<00:00, 240.91batches/s]\n",
      "Train Epoch 211/500:   0%|          | 0/177 [00:00<?, ?batches/s]"
     ]
    },
    {
     "name": "stdout",
     "output_type": "stream",
     "text": [
      "epoch 209, val accuracy: 0.9625095638867636\n"
     ]
    },
    {
     "name": "stderr",
     "output_type": "stream",
     "text": [
      "Train Epoch 211/500: 100%|██████████| 177/177 [00:01<00:00, 105.10batches/s]\n",
      "Train Accuracy Epoch 211/500: 100%|██████████| 177/177 [00:01<00:00, 175.56batches/s]\n",
      "Val Accuracy Epoch 211/500: 100%|██████████| 20/20 [00:00<00:00, 241.74batches/s]\n",
      "Train Epoch 212/500:   0%|          | 0/177 [00:00<?, ?batches/s]"
     ]
    },
    {
     "name": "stdout",
     "output_type": "stream",
     "text": [
      "epoch 210, val accuracy: 0.9691405253761796\n"
     ]
    },
    {
     "name": "stderr",
     "output_type": "stream",
     "text": [
      "Train Epoch 212/500: 100%|██████████| 177/177 [00:01<00:00, 105.63batches/s]\n",
      "Train Accuracy Epoch 212/500: 100%|██████████| 177/177 [00:01<00:00, 175.51batches/s]\n",
      "Val Accuracy Epoch 212/500: 100%|██████████| 20/20 [00:00<00:00, 240.42batches/s]\n",
      "Train Epoch 213/500:   0%|          | 0/177 [00:00<?, ?batches/s]"
     ]
    },
    {
     "name": "stdout",
     "output_type": "stream",
     "text": [
      "epoch 211, val accuracy: 0.9696505993369039\n"
     ]
    },
    {
     "name": "stderr",
     "output_type": "stream",
     "text": [
      "Train Epoch 213/500: 100%|██████████| 177/177 [00:01<00:00, 105.18batches/s]\n",
      "Train Accuracy Epoch 213/500: 100%|██████████| 177/177 [00:01<00:00, 175.59batches/s]\n",
      "Val Accuracy Epoch 213/500: 100%|██████████| 20/20 [00:00<00:00, 238.73batches/s]\n",
      "Train Epoch 214/500:   0%|          | 0/177 [00:00<?, ?batches/s]"
     ]
    },
    {
     "name": "stdout",
     "output_type": "stream",
     "text": [
      "epoch 212, val accuracy: 0.9688854883958173\n"
     ]
    },
    {
     "name": "stderr",
     "output_type": "stream",
     "text": [
      "Train Epoch 214/500: 100%|██████████| 177/177 [00:01<00:00, 104.78batches/s]\n",
      "Train Accuracy Epoch 214/500: 100%|██████████| 177/177 [00:01<00:00, 176.92batches/s]\n",
      "Val Accuracy Epoch 214/500: 100%|██████████| 20/20 [00:00<00:00, 239.49batches/s]\n",
      "Train Epoch 215/500:   0%|          | 0/177 [00:00<?, ?batches/s]"
     ]
    },
    {
     "name": "stdout",
     "output_type": "stream",
     "text": [
      "epoch 213, val accuracy: 0.9673552665136445\n"
     ]
    },
    {
     "name": "stderr",
     "output_type": "stream",
     "text": [
      "Train Epoch 215/500: 100%|██████████| 177/177 [00:01<00:00, 104.85batches/s]\n",
      "Train Accuracy Epoch 215/500: 100%|██████████| 177/177 [00:01<00:00, 174.83batches/s]\n",
      "Val Accuracy Epoch 215/500: 100%|██████████| 20/20 [00:00<00:00, 237.70batches/s]\n",
      "Train Epoch 216/500:   0%|          | 0/177 [00:00<?, ?batches/s]"
     ]
    },
    {
     "name": "stdout",
     "output_type": "stream",
     "text": [
      "epoch 214, val accuracy: 0.9678653404743688\n"
     ]
    },
    {
     "name": "stderr",
     "output_type": "stream",
     "text": [
      "Train Epoch 216/500: 100%|██████████| 177/177 [00:01<00:00, 104.16batches/s]\n",
      "Train Accuracy Epoch 216/500: 100%|██████████| 177/177 [00:01<00:00, 175.58batches/s]\n",
      "Val Accuracy Epoch 216/500: 100%|██████████| 20/20 [00:00<00:00, 241.42batches/s]\n",
      "Train Epoch 217/500:   0%|          | 0/177 [00:00<?, ?batches/s]"
     ]
    },
    {
     "name": "stdout",
     "output_type": "stream",
     "text": [
      "epoch 215, val accuracy: 0.9704157102779903\n"
     ]
    },
    {
     "name": "stderr",
     "output_type": "stream",
     "text": [
      "Train Epoch 217/500: 100%|██████████| 177/177 [00:01<00:00, 105.19batches/s]\n",
      "Train Accuracy Epoch 217/500: 100%|██████████| 177/177 [00:01<00:00, 175.57batches/s]\n",
      "Val Accuracy Epoch 217/500: 100%|██████████| 20/20 [00:00<00:00, 238.49batches/s]\n",
      "Train Epoch 218/500:   0%|          | 0/177 [00:00<?, ?batches/s]"
     ]
    },
    {
     "name": "stdout",
     "output_type": "stream",
     "text": [
      "epoch 216, val accuracy: 0.9683754144350931\n"
     ]
    },
    {
     "name": "stderr",
     "output_type": "stream",
     "text": [
      "Train Epoch 218/500: 100%|██████████| 177/177 [00:01<00:00, 104.03batches/s]\n",
      "Train Accuracy Epoch 218/500: 100%|██████████| 177/177 [00:01<00:00, 173.25batches/s]\n",
      "Val Accuracy Epoch 218/500: 100%|██████████| 20/20 [00:00<00:00, 236.91batches/s]\n",
      "Train Epoch 219/500:   0%|          | 0/177 [00:00<?, ?batches/s]"
     ]
    },
    {
     "name": "stdout",
     "output_type": "stream",
     "text": [
      "epoch 217, val accuracy: 0.9701606732976281\n"
     ]
    },
    {
     "name": "stderr",
     "output_type": "stream",
     "text": [
      "Train Epoch 219/500: 100%|██████████| 177/177 [00:01<00:00, 104.95batches/s]\n",
      "Train Accuracy Epoch 219/500: 100%|██████████| 177/177 [00:01<00:00, 174.57batches/s]\n",
      "Val Accuracy Epoch 219/500: 100%|██████████| 20/20 [00:00<00:00, 239.12batches/s]\n",
      "Train Epoch 220/500:   0%|          | 0/177 [00:00<?, ?batches/s]"
     ]
    },
    {
     "name": "stdout",
     "output_type": "stream",
     "text": [
      "epoch 218, val accuracy: 0.9701606732976281\n"
     ]
    },
    {
     "name": "stderr",
     "output_type": "stream",
     "text": [
      "Train Epoch 220/500: 100%|██████████| 177/177 [00:01<00:00, 103.95batches/s]\n",
      "Train Accuracy Epoch 220/500: 100%|██████████| 177/177 [00:01<00:00, 170.03batches/s]\n",
      "Val Accuracy Epoch 220/500: 100%|██████████| 20/20 [00:00<00:00, 235.83batches/s]\n",
      "Train Epoch 221/500:   0%|          | 0/177 [00:00<?, ?batches/s]"
     ]
    },
    {
     "name": "stdout",
     "output_type": "stream",
     "text": [
      "epoch 219, val accuracy: 0.969905636317266\n"
     ]
    },
    {
     "name": "stderr",
     "output_type": "stream",
     "text": [
      "Train Epoch 221/500: 100%|██████████| 177/177 [00:01<00:00, 103.87batches/s]\n",
      "Train Accuracy Epoch 221/500: 100%|██████████| 177/177 [00:00<00:00, 177.75batches/s]\n",
      "Val Accuracy Epoch 221/500: 100%|██████████| 20/20 [00:00<00:00, 244.71batches/s]\n",
      "Train Epoch 222/500:   0%|          | 0/177 [00:00<?, ?batches/s]"
     ]
    },
    {
     "name": "stdout",
     "output_type": "stream",
     "text": [
      "epoch 220, val accuracy: 0.9497577148686559\n"
     ]
    },
    {
     "name": "stderr",
     "output_type": "stream",
     "text": [
      "Train Epoch 222/500: 100%|██████████| 177/177 [00:01<00:00, 105.12batches/s]\n",
      "Train Accuracy Epoch 222/500: 100%|██████████| 177/177 [00:01<00:00, 175.94batches/s]\n",
      "Val Accuracy Epoch 222/500: 100%|██████████| 20/20 [00:00<00:00, 242.51batches/s]\n",
      "Train Epoch 223/500:   0%|          | 0/177 [00:00<?, ?batches/s]"
     ]
    },
    {
     "name": "stdout",
     "output_type": "stream",
     "text": [
      "epoch 221, val accuracy: 0.9696505993369039\n"
     ]
    },
    {
     "name": "stderr",
     "output_type": "stream",
     "text": [
      "Train Epoch 223/500: 100%|██████████| 177/177 [00:01<00:00, 104.47batches/s]\n",
      "Train Accuracy Epoch 223/500: 100%|██████████| 177/177 [00:01<00:00, 175.63batches/s]\n",
      "Val Accuracy Epoch 223/500: 100%|██████████| 20/20 [00:00<00:00, 242.48batches/s]\n",
      "Train Epoch 224/500:   0%|          | 0/177 [00:00<?, ?batches/s]"
     ]
    },
    {
     "name": "stdout",
     "output_type": "stream",
     "text": [
      "epoch 222, val accuracy: 0.9678653404743688\n"
     ]
    },
    {
     "name": "stderr",
     "output_type": "stream",
     "text": [
      "Train Epoch 224/500: 100%|██████████| 177/177 [00:01<00:00, 105.13batches/s]\n",
      "Train Accuracy Epoch 224/500: 100%|██████████| 177/177 [00:01<00:00, 175.17batches/s]\n",
      "Val Accuracy Epoch 224/500: 100%|██████████| 20/20 [00:00<00:00, 242.72batches/s]\n",
      "Train Epoch 225/500:   0%|          | 0/177 [00:00<?, ?batches/s]"
     ]
    },
    {
     "name": "stdout",
     "output_type": "stream",
     "text": [
      "epoch 223, val accuracy: 0.969905636317266\n"
     ]
    },
    {
     "name": "stderr",
     "output_type": "stream",
     "text": [
      "Train Epoch 225/500: 100%|██████████| 177/177 [00:01<00:00, 104.33batches/s]\n",
      "Train Accuracy Epoch 225/500: 100%|██████████| 177/177 [00:01<00:00, 176.10batches/s]\n",
      "Val Accuracy Epoch 225/500: 100%|██████████| 20/20 [00:00<00:00, 244.56batches/s]\n",
      "Train Epoch 226/500:   0%|          | 0/177 [00:00<?, ?batches/s]"
     ]
    },
    {
     "name": "stdout",
     "output_type": "stream",
     "text": [
      "epoch 224, val accuracy: 0.9714358581994389\n"
     ]
    },
    {
     "name": "stderr",
     "output_type": "stream",
     "text": [
      "Train Epoch 226/500: 100%|██████████| 177/177 [00:01<00:00, 104.99batches/s]\n",
      "Train Accuracy Epoch 226/500: 100%|██████████| 177/177 [00:01<00:00, 175.63batches/s]\n",
      "Val Accuracy Epoch 226/500: 100%|██████████| 20/20 [00:00<00:00, 237.75batches/s]\n",
      "Train Epoch 227/500:   0%|          | 0/177 [00:00<?, ?batches/s]"
     ]
    },
    {
     "name": "stdout",
     "output_type": "stream",
     "text": [
      "epoch 225, val accuracy: 0.9714358581994389\n"
     ]
    },
    {
     "name": "stderr",
     "output_type": "stream",
     "text": [
      "Train Epoch 227/500: 100%|██████████| 177/177 [00:01<00:00, 104.56batches/s]\n",
      "Train Accuracy Epoch 227/500: 100%|██████████| 177/177 [00:01<00:00, 175.41batches/s]\n",
      "Val Accuracy Epoch 227/500: 100%|██████████| 20/20 [00:00<00:00, 240.24batches/s]\n",
      "Train Epoch 228/500:   0%|          | 0/177 [00:00<?, ?batches/s]"
     ]
    },
    {
     "name": "stdout",
     "output_type": "stream",
     "text": [
      "epoch 226, val accuracy: 0.9676103034940067\n"
     ]
    },
    {
     "name": "stderr",
     "output_type": "stream",
     "text": [
      "Train Epoch 228/500: 100%|██████████| 177/177 [00:01<00:00, 104.27batches/s]\n",
      "Train Accuracy Epoch 228/500: 100%|██████████| 177/177 [00:01<00:00, 175.33batches/s]\n",
      "Val Accuracy Epoch 228/500: 100%|██████████| 20/20 [00:00<00:00, 239.91batches/s]\n",
      "Train Epoch 229/500:   0%|          | 0/177 [00:00<?, ?batches/s]"
     ]
    },
    {
     "name": "stdout",
     "output_type": "stream",
     "text": [
      "epoch 227, val accuracy: 0.9678653404743688\n"
     ]
    },
    {
     "name": "stderr",
     "output_type": "stream",
     "text": [
      "Train Epoch 229/500: 100%|██████████| 177/177 [00:01<00:00, 104.74batches/s]\n",
      "Train Accuracy Epoch 229/500: 100%|██████████| 177/177 [00:01<00:00, 174.92batches/s]\n",
      "Val Accuracy Epoch 229/500: 100%|██████████| 20/20 [00:00<00:00, 235.76batches/s]\n",
      "Train Epoch 230/500:   0%|          | 0/177 [00:00<?, ?batches/s]"
     ]
    },
    {
     "name": "stdout",
     "output_type": "stream",
     "text": [
      "epoch 228, val accuracy: 0.9701606732976281\n"
     ]
    },
    {
     "name": "stderr",
     "output_type": "stream",
     "text": [
      "Train Epoch 230/500: 100%|██████████| 177/177 [00:01<00:00, 102.86batches/s]\n",
      "Train Accuracy Epoch 230/500: 100%|██████████| 177/177 [00:01<00:00, 172.62batches/s]\n",
      "Val Accuracy Epoch 230/500: 100%|██████████| 20/20 [00:00<00:00, 243.26batches/s]\n",
      "Train Epoch 231/500:   0%|          | 0/177 [00:00<?, ?batches/s]"
     ]
    },
    {
     "name": "stdout",
     "output_type": "stream",
     "text": [
      "epoch 229, val accuracy: 0.9686304514154552\n"
     ]
    },
    {
     "name": "stderr",
     "output_type": "stream",
     "text": [
      "Train Epoch 231/500: 100%|██████████| 177/177 [00:01<00:00, 102.99batches/s]\n",
      "Train Accuracy Epoch 231/500: 100%|██████████| 177/177 [00:01<00:00, 167.01batches/s]\n",
      "Val Accuracy Epoch 231/500: 100%|██████████| 20/20 [00:00<00:00, 229.46batches/s]\n",
      "Train Epoch 232/500:   0%|          | 0/177 [00:00<?, ?batches/s]"
     ]
    },
    {
     "name": "stdout",
     "output_type": "stream",
     "text": [
      "epoch 230, val accuracy: 0.951542973731191\n"
     ]
    },
    {
     "name": "stderr",
     "output_type": "stream",
     "text": [
      "Train Epoch 232/500: 100%|██████████| 177/177 [00:01<00:00, 102.70batches/s]\n",
      "Train Accuracy Epoch 232/500: 100%|██████████| 177/177 [00:01<00:00, 168.14batches/s]\n",
      "Val Accuracy Epoch 232/500: 100%|██████████| 20/20 [00:00<00:00, 232.18batches/s]\n",
      "Train Epoch 233/500:   0%|          | 0/177 [00:00<?, ?batches/s]"
     ]
    },
    {
     "name": "stdout",
     "output_type": "stream",
     "text": [
      "epoch 231, val accuracy: 0.9704157102779903\n"
     ]
    },
    {
     "name": "stderr",
     "output_type": "stream",
     "text": [
      "Train Epoch 233/500: 100%|██████████| 177/177 [00:01<00:00, 103.21batches/s]\n",
      "Train Accuracy Epoch 233/500: 100%|██████████| 177/177 [00:01<00:00, 173.76batches/s]\n",
      "Val Accuracy Epoch 233/500: 100%|██████████| 20/20 [00:00<00:00, 241.33batches/s]\n",
      "Train Epoch 234/500:   0%|          | 0/177 [00:00<?, ?batches/s]"
     ]
    },
    {
     "name": "stdout",
     "output_type": "stream",
     "text": [
      "epoch 232, val accuracy: 0.9709257842387146\n"
     ]
    },
    {
     "name": "stderr",
     "output_type": "stream",
     "text": [
      "Train Epoch 234/500: 100%|██████████| 177/177 [00:01<00:00, 99.62batches/s]\n",
      "Train Accuracy Epoch 234/500: 100%|██████████| 177/177 [00:01<00:00, 165.78batches/s]\n",
      "Val Accuracy Epoch 234/500: 100%|██████████| 20/20 [00:00<00:00, 232.15batches/s]\n"
     ]
    },
    {
     "name": "stdout",
     "output_type": "stream",
     "text": [
      "epoch 233, val accuracy: 0.9612343789849528\n"
     ]
    },
    {
     "name": "stderr",
     "output_type": "stream",
     "text": [
      "Train Epoch 235/500: 100%|██████████| 177/177 [00:01<00:00, 102.74batches/s]\n",
      "Train Accuracy Epoch 235/500: 100%|██████████| 177/177 [00:01<00:00, 172.37batches/s]\n",
      "Val Accuracy Epoch 235/500: 100%|██████████| 20/20 [00:00<00:00, 238.59batches/s]\n",
      "Train Epoch 236/500:   0%|          | 0/177 [00:00<?, ?batches/s]"
     ]
    },
    {
     "name": "stdout",
     "output_type": "stream",
     "text": [
      "epoch 234, val accuracy: 0.9714358581994389\n"
     ]
    },
    {
     "name": "stderr",
     "output_type": "stream",
     "text": [
      "Train Epoch 236/500: 100%|██████████| 177/177 [00:01<00:00, 103.71batches/s]\n",
      "Train Accuracy Epoch 236/500: 100%|██████████| 177/177 [00:01<00:00, 172.31batches/s]\n",
      "Val Accuracy Epoch 236/500: 100%|██████████| 20/20 [00:00<00:00, 240.62batches/s]\n",
      "Train Epoch 237/500:   0%|          | 0/177 [00:00<?, ?batches/s]"
     ]
    },
    {
     "name": "stdout",
     "output_type": "stream",
     "text": [
      "epoch 235, val accuracy: 0.9693955623565417\n"
     ]
    },
    {
     "name": "stderr",
     "output_type": "stream",
     "text": [
      "Train Epoch 237/500: 100%|██████████| 177/177 [00:01<00:00, 103.29batches/s]\n",
      "Train Accuracy Epoch 237/500: 100%|██████████| 177/177 [00:01<00:00, 172.14batches/s]\n",
      "Val Accuracy Epoch 237/500: 100%|██████████| 20/20 [00:00<00:00, 240.37batches/s]\n",
      "Train Epoch 238/500:   0%|          | 0/177 [00:00<?, ?batches/s]"
     ]
    },
    {
     "name": "stdout",
     "output_type": "stream",
     "text": [
      "epoch 236, val accuracy: 0.9704157102779903\n"
     ]
    },
    {
     "name": "stderr",
     "output_type": "stream",
     "text": [
      "Train Epoch 238/500: 100%|██████████| 177/177 [00:01<00:00, 103.94batches/s]\n",
      "Train Accuracy Epoch 238/500: 100%|██████████| 177/177 [00:01<00:00, 174.66batches/s]\n",
      "Val Accuracy Epoch 238/500: 100%|██████████| 20/20 [00:00<00:00, 244.59batches/s]\n",
      "Train Epoch 239/500:   0%|          | 0/177 [00:00<?, ?batches/s]"
     ]
    },
    {
     "name": "stdout",
     "output_type": "stream",
     "text": [
      "epoch 237, val accuracy: 0.9678653404743688\n"
     ]
    },
    {
     "name": "stderr",
     "output_type": "stream",
     "text": [
      "Train Epoch 239/500: 100%|██████████| 177/177 [00:01<00:00, 105.41batches/s]\n",
      "Train Accuracy Epoch 239/500: 100%|██████████| 177/177 [00:01<00:00, 175.67batches/s]\n",
      "Val Accuracy Epoch 239/500: 100%|██████████| 20/20 [00:00<00:00, 244.28batches/s]\n",
      "Train Epoch 240/500:   0%|          | 0/177 [00:00<?, ?batches/s]"
     ]
    },
    {
     "name": "stdout",
     "output_type": "stream",
     "text": [
      "epoch 238, val accuracy: 0.9704157102779903\n"
     ]
    },
    {
     "name": "stderr",
     "output_type": "stream",
     "text": [
      "Train Epoch 240/500: 100%|██████████| 177/177 [00:01<00:00, 105.72batches/s]\n",
      "Train Accuracy Epoch 240/500: 100%|██████████| 177/177 [00:01<00:00, 175.87batches/s]\n",
      "Val Accuracy Epoch 240/500: 100%|██████████| 20/20 [00:00<00:00, 241.39batches/s]\n",
      "Train Epoch 241/500:   0%|          | 0/177 [00:00<?, ?batches/s]"
     ]
    },
    {
     "name": "stdout",
     "output_type": "stream",
     "text": [
      "epoch 239, val accuracy: 0.9704157102779903\n"
     ]
    },
    {
     "name": "stderr",
     "output_type": "stream",
     "text": [
      "Train Epoch 241/500: 100%|██████████| 177/177 [00:01<00:00, 105.80batches/s]\n",
      "Train Accuracy Epoch 241/500: 100%|██████████| 177/177 [00:01<00:00, 176.11batches/s]\n",
      "Val Accuracy Epoch 241/500: 100%|██████████| 20/20 [00:00<00:00, 245.02batches/s]\n",
      "Train Epoch 242/500:   0%|          | 0/177 [00:00<?, ?batches/s]"
     ]
    },
    {
     "name": "stdout",
     "output_type": "stream",
     "text": [
      "epoch 240, val accuracy: 0.9671002295332823\n"
     ]
    },
    {
     "name": "stderr",
     "output_type": "stream",
     "text": [
      "Train Epoch 242/500: 100%|██████████| 177/177 [00:01<00:00, 104.27batches/s]\n",
      "Train Accuracy Epoch 242/500: 100%|██████████| 177/177 [00:01<00:00, 168.77batches/s]\n",
      "Val Accuracy Epoch 242/500: 100%|██████████| 20/20 [00:00<00:00, 237.14batches/s]\n",
      "Train Epoch 243/500:   0%|          | 0/177 [00:00<?, ?batches/s]"
     ]
    },
    {
     "name": "stdout",
     "output_type": "stream",
     "text": [
      "epoch 241, val accuracy: 0.9709257842387146\n"
     ]
    },
    {
     "name": "stderr",
     "output_type": "stream",
     "text": [
      "Train Epoch 243/500: 100%|██████████| 177/177 [00:01<00:00, 103.78batches/s]\n",
      "Train Accuracy Epoch 243/500: 100%|██████████| 177/177 [00:01<00:00, 167.99batches/s]\n",
      "Val Accuracy Epoch 243/500: 100%|██████████| 20/20 [00:00<00:00, 239.45batches/s]\n",
      "Train Epoch 244/500:   0%|          | 0/177 [00:00<?, ?batches/s]"
     ]
    },
    {
     "name": "stdout",
     "output_type": "stream",
     "text": [
      "epoch 242, val accuracy: 0.9716908951798011\n"
     ]
    },
    {
     "name": "stderr",
     "output_type": "stream",
     "text": [
      "Train Epoch 244/500: 100%|██████████| 177/177 [00:01<00:00, 103.01batches/s]\n",
      "Train Accuracy Epoch 244/500: 100%|██████████| 177/177 [00:01<00:00, 171.37batches/s]\n",
      "Val Accuracy Epoch 244/500: 100%|██████████| 20/20 [00:00<00:00, 231.67batches/s]\n",
      "Train Epoch 245/500:   0%|          | 0/177 [00:00<?, ?batches/s]"
     ]
    },
    {
     "name": "stdout",
     "output_type": "stream",
     "text": [
      "epoch 243, val accuracy: 0.9704157102779903\n"
     ]
    },
    {
     "name": "stderr",
     "output_type": "stream",
     "text": [
      "Train Epoch 245/500: 100%|██████████| 177/177 [00:01<00:00, 102.94batches/s]\n",
      "Train Accuracy Epoch 245/500: 100%|██████████| 177/177 [00:01<00:00, 170.20batches/s]\n",
      "Val Accuracy Epoch 245/500: 100%|██████████| 20/20 [00:00<00:00, 236.62batches/s]\n",
      "Train Epoch 246/500:   0%|          | 0/177 [00:00<?, ?batches/s]"
     ]
    },
    {
     "name": "stdout",
     "output_type": "stream",
     "text": [
      "epoch 244, val accuracy: 0.9617444529456771\n"
     ]
    },
    {
     "name": "stderr",
     "output_type": "stream",
     "text": [
      "Train Epoch 246/500: 100%|██████████| 177/177 [00:01<00:00, 104.80batches/s]\n",
      "Train Accuracy Epoch 246/500: 100%|██████████| 177/177 [00:01<00:00, 172.52batches/s]\n",
      "Val Accuracy Epoch 246/500: 100%|██████████| 20/20 [00:00<00:00, 241.86batches/s]\n",
      "Train Epoch 247/500:   0%|          | 0/177 [00:00<?, ?batches/s]"
     ]
    },
    {
     "name": "stdout",
     "output_type": "stream",
     "text": [
      "epoch 245, val accuracy: 0.9645498597296608\n"
     ]
    },
    {
     "name": "stderr",
     "output_type": "stream",
     "text": [
      "Train Epoch 247/500: 100%|██████████| 177/177 [00:01<00:00, 104.74batches/s]\n",
      "Train Accuracy Epoch 247/500: 100%|██████████| 177/177 [00:01<00:00, 172.22batches/s]\n",
      "Val Accuracy Epoch 247/500: 100%|██████████| 20/20 [00:00<00:00, 245.31batches/s]\n",
      "Train Epoch 248/500:   0%|          | 0/177 [00:00<?, ?batches/s]"
     ]
    },
    {
     "name": "stdout",
     "output_type": "stream",
     "text": [
      "epoch 246, val accuracy: 0.9704157102779903\n"
     ]
    },
    {
     "name": "stderr",
     "output_type": "stream",
     "text": [
      "Train Epoch 248/500: 100%|██████████| 177/177 [00:01<00:00, 105.01batches/s]\n",
      "Train Accuracy Epoch 248/500: 100%|██████████| 177/177 [00:01<00:00, 175.01batches/s]\n",
      "Val Accuracy Epoch 248/500: 100%|██████████| 20/20 [00:00<00:00, 243.56batches/s]\n",
      "Train Epoch 249/500:   0%|          | 0/177 [00:00<?, ?batches/s]"
     ]
    },
    {
     "name": "stdout",
     "output_type": "stream",
     "text": [
      "epoch 247, val accuracy: 0.9704157102779903\n"
     ]
    },
    {
     "name": "stderr",
     "output_type": "stream",
     "text": [
      "Train Epoch 249/500: 100%|██████████| 177/177 [00:01<00:00, 105.25batches/s]\n",
      "Train Accuracy Epoch 249/500: 100%|██████████| 177/177 [00:01<00:00, 174.61batches/s]\n",
      "Val Accuracy Epoch 249/500: 100%|██████████| 20/20 [00:00<00:00, 243.40batches/s]\n",
      "Train Epoch 250/500:   0%|          | 0/177 [00:00<?, ?batches/s]"
     ]
    },
    {
     "name": "stdout",
     "output_type": "stream",
     "text": [
      "epoch 248, val accuracy: 0.9640397857689365\n"
     ]
    },
    {
     "name": "stderr",
     "output_type": "stream",
     "text": [
      "Train Epoch 250/500: 100%|██████████| 177/177 [00:01<00:00, 102.48batches/s]\n",
      "Train Accuracy Epoch 250/500: 100%|██████████| 177/177 [00:01<00:00, 173.84batches/s]\n",
      "Val Accuracy Epoch 250/500: 100%|██████████| 20/20 [00:00<00:00, 243.09batches/s]\n",
      "Train Epoch 251/500:   0%|          | 0/177 [00:00<?, ?batches/s]"
     ]
    },
    {
     "name": "stdout",
     "output_type": "stream",
     "text": [
      "epoch 249, val accuracy: 0.9716908951798011\n"
     ]
    },
    {
     "name": "stderr",
     "output_type": "stream",
     "text": [
      "Train Epoch 251/500: 100%|██████████| 177/177 [00:01<00:00, 105.08batches/s]\n",
      "Train Accuracy Epoch 251/500: 100%|██████████| 177/177 [00:01<00:00, 172.99batches/s]\n",
      "Val Accuracy Epoch 251/500: 100%|██████████| 20/20 [00:00<00:00, 240.37batches/s]\n",
      "Train Epoch 252/500:   0%|          | 0/177 [00:00<?, ?batches/s]"
     ]
    },
    {
     "name": "stdout",
     "output_type": "stream",
     "text": [
      "epoch 250, val accuracy: 0.9668451925529201\n"
     ]
    },
    {
     "name": "stderr",
     "output_type": "stream",
     "text": [
      "Train Epoch 252/500: 100%|██████████| 177/177 [00:01<00:00, 103.54batches/s]\n",
      "Train Accuracy Epoch 252/500: 100%|██████████| 177/177 [00:01<00:00, 172.89batches/s]\n",
      "Val Accuracy Epoch 252/500: 100%|██████████| 20/20 [00:00<00:00, 234.26batches/s]\n",
      "Train Epoch 253/500:   0%|          | 0/177 [00:00<?, ?batches/s]"
     ]
    },
    {
     "name": "stdout",
     "output_type": "stream",
     "text": [
      "epoch 251, val accuracy: 0.9645498597296608\n"
     ]
    },
    {
     "name": "stderr",
     "output_type": "stream",
     "text": [
      "Train Epoch 253/500: 100%|██████████| 177/177 [00:01<00:00, 104.78batches/s]\n",
      "Train Accuracy Epoch 253/500: 100%|██████████| 177/177 [00:01<00:00, 172.96batches/s]\n",
      "Val Accuracy Epoch 253/500: 100%|██████████| 20/20 [00:00<00:00, 240.26batches/s]\n",
      "Train Epoch 254/500:   0%|          | 0/177 [00:00<?, ?batches/s]"
     ]
    },
    {
     "name": "stdout",
     "output_type": "stream",
     "text": [
      "epoch 252, val accuracy: 0.9688854883958173\n"
     ]
    },
    {
     "name": "stderr",
     "output_type": "stream",
     "text": [
      "Train Epoch 254/500: 100%|██████████| 177/177 [00:01<00:00, 105.07batches/s]\n",
      "Train Accuracy Epoch 254/500: 100%|██████████| 177/177 [00:01<00:00, 174.05batches/s]\n",
      "Val Accuracy Epoch 254/500: 100%|██████████| 20/20 [00:00<00:00, 235.90batches/s]\n",
      "Train Epoch 255/500:   0%|          | 0/177 [00:00<?, ?batches/s]"
     ]
    },
    {
     "name": "stdout",
     "output_type": "stream",
     "text": [
      "epoch 253, val accuracy: 0.9711808212190768\n"
     ]
    },
    {
     "name": "stderr",
     "output_type": "stream",
     "text": [
      "Train Epoch 255/500: 100%|██████████| 177/177 [00:01<00:00, 105.24batches/s]\n",
      "Train Accuracy Epoch 255/500: 100%|██████████| 177/177 [00:01<00:00, 167.39batches/s]\n",
      "Val Accuracy Epoch 255/500: 100%|██████████| 20/20 [00:00<00:00, 241.94batches/s]\n",
      "Train Epoch 256/500:   0%|          | 0/177 [00:00<?, ?batches/s]"
     ]
    },
    {
     "name": "stdout",
     "output_type": "stream",
     "text": [
      "epoch 254, val accuracy: 0.9668451925529201\n"
     ]
    },
    {
     "name": "stderr",
     "output_type": "stream",
     "text": [
      "Train Epoch 256/500: 100%|██████████| 177/177 [00:01<00:00, 104.62batches/s]\n",
      "Train Accuracy Epoch 256/500: 100%|██████████| 177/177 [00:01<00:00, 174.17batches/s]\n",
      "Val Accuracy Epoch 256/500: 100%|██████████| 20/20 [00:00<00:00, 238.88batches/s]\n",
      "Train Epoch 257/500:   0%|          | 0/177 [00:00<?, ?batches/s]"
     ]
    },
    {
     "name": "stdout",
     "output_type": "stream",
     "text": [
      "epoch 255, val accuracy: 0.9714358581994389\n"
     ]
    },
    {
     "name": "stderr",
     "output_type": "stream",
     "text": [
      "Train Epoch 257/500: 100%|██████████| 177/177 [00:01<00:00, 104.88batches/s]\n",
      "Train Accuracy Epoch 257/500: 100%|██████████| 177/177 [00:01<00:00, 174.70batches/s]\n",
      "Val Accuracy Epoch 257/500: 100%|██████████| 20/20 [00:00<00:00, 242.65batches/s]\n",
      "Train Epoch 258/500:   0%|          | 0/177 [00:00<?, ?batches/s]"
     ]
    },
    {
     "name": "stdout",
     "output_type": "stream",
     "text": [
      "epoch 256, val accuracy: 0.9678653404743688\n"
     ]
    },
    {
     "name": "stderr",
     "output_type": "stream",
     "text": [
      "Train Epoch 258/500: 100%|██████████| 177/177 [00:01<00:00, 105.56batches/s]\n",
      "Train Accuracy Epoch 258/500: 100%|██████████| 177/177 [00:01<00:00, 175.86batches/s]\n",
      "Val Accuracy Epoch 258/500: 100%|██████████| 20/20 [00:00<00:00, 246.79batches/s]\n",
      "Train Epoch 259/500:   0%|          | 0/177 [00:00<?, ?batches/s]"
     ]
    },
    {
     "name": "stdout",
     "output_type": "stream",
     "text": [
      "epoch 257, val accuracy: 0.9706707472583525\n"
     ]
    },
    {
     "name": "stderr",
     "output_type": "stream",
     "text": [
      "Train Epoch 259/500: 100%|██████████| 177/177 [00:01<00:00, 105.32batches/s]\n",
      "Train Accuracy Epoch 259/500: 100%|██████████| 177/177 [00:01<00:00, 176.24batches/s]\n",
      "Val Accuracy Epoch 259/500: 100%|██████████| 20/20 [00:00<00:00, 244.76batches/s]\n",
      "Train Epoch 260/500:   0%|          | 0/177 [00:00<?, ?batches/s]"
     ]
    },
    {
     "name": "stdout",
     "output_type": "stream",
     "text": [
      "epoch 258, val accuracy: 0.969905636317266\n"
     ]
    },
    {
     "name": "stderr",
     "output_type": "stream",
     "text": [
      "Train Epoch 260/500: 100%|██████████| 177/177 [00:01<00:00, 105.94batches/s]\n",
      "Train Accuracy Epoch 260/500: 100%|██████████| 177/177 [00:01<00:00, 175.45batches/s]\n",
      "Val Accuracy Epoch 260/500: 100%|██████████| 20/20 [00:00<00:00, 247.52batches/s]\n",
      "Train Epoch 261/500:   0%|          | 0/177 [00:00<?, ?batches/s]"
     ]
    },
    {
     "name": "stdout",
     "output_type": "stream",
     "text": [
      "epoch 259, val accuracy: 0.9711808212190768\n"
     ]
    },
    {
     "name": "stderr",
     "output_type": "stream",
     "text": [
      "Train Epoch 261/500: 100%|██████████| 177/177 [00:01<00:00, 105.56batches/s]\n",
      "Train Accuracy Epoch 261/500: 100%|██████████| 177/177 [00:01<00:00, 176.70batches/s]\n",
      "Val Accuracy Epoch 261/500: 100%|██████████| 20/20 [00:00<00:00, 243.36batches/s]\n",
      "Train Epoch 262/500:   0%|          | 0/177 [00:00<?, ?batches/s]"
     ]
    },
    {
     "name": "stdout",
     "output_type": "stream",
     "text": [
      "epoch 260, val accuracy: 0.9696505993369039\n"
     ]
    },
    {
     "name": "stderr",
     "output_type": "stream",
     "text": [
      "Train Epoch 262/500: 100%|██████████| 177/177 [00:01<00:00, 105.53batches/s]\n",
      "Train Accuracy Epoch 262/500: 100%|██████████| 177/177 [00:01<00:00, 175.48batches/s]\n",
      "Val Accuracy Epoch 262/500: 100%|██████████| 20/20 [00:00<00:00, 244.34batches/s]\n",
      "Train Epoch 263/500:   0%|          | 0/177 [00:00<?, ?batches/s]"
     ]
    },
    {
     "name": "stdout",
     "output_type": "stream",
     "text": [
      "epoch 261, val accuracy: 0.9706707472583525\n"
     ]
    },
    {
     "name": "stderr",
     "output_type": "stream",
     "text": [
      "Train Epoch 263/500: 100%|██████████| 177/177 [00:01<00:00, 105.51batches/s]\n",
      "Train Accuracy Epoch 263/500: 100%|██████████| 177/177 [00:01<00:00, 169.03batches/s]\n",
      "Val Accuracy Epoch 263/500: 100%|██████████| 20/20 [00:00<00:00, 241.40batches/s]\n",
      "Train Epoch 264/500:   0%|          | 0/177 [00:00<?, ?batches/s]"
     ]
    },
    {
     "name": "stdout",
     "output_type": "stream",
     "text": [
      "epoch 262, val accuracy: 0.969905636317266\n"
     ]
    },
    {
     "name": "stderr",
     "output_type": "stream",
     "text": [
      "Train Epoch 264/500: 100%|██████████| 177/177 [00:01<00:00, 103.15batches/s]\n",
      "Train Accuracy Epoch 264/500: 100%|██████████| 177/177 [00:01<00:00, 173.61batches/s]\n",
      "Val Accuracy Epoch 264/500: 100%|██████████| 20/20 [00:00<00:00, 237.84batches/s]\n",
      "Train Epoch 265/500:   0%|          | 0/177 [00:00<?, ?batches/s]"
     ]
    },
    {
     "name": "stdout",
     "output_type": "stream",
     "text": [
      "epoch 263, val accuracy: 0.9706707472583525\n"
     ]
    },
    {
     "name": "stderr",
     "output_type": "stream",
     "text": [
      "Train Epoch 265/500: 100%|██████████| 177/177 [00:01<00:00, 103.91batches/s]\n",
      "Train Accuracy Epoch 265/500: 100%|██████████| 177/177 [00:01<00:00, 173.52batches/s]\n",
      "Val Accuracy Epoch 265/500: 100%|██████████| 20/20 [00:00<00:00, 240.41batches/s]\n",
      "Train Epoch 266/500:   0%|          | 0/177 [00:00<?, ?batches/s]"
     ]
    },
    {
     "name": "stdout",
     "output_type": "stream",
     "text": [
      "epoch 264, val accuracy: 0.9676103034940067\n"
     ]
    },
    {
     "name": "stderr",
     "output_type": "stream",
     "text": [
      "Train Epoch 266/500: 100%|██████████| 177/177 [00:01<00:00, 104.65batches/s]\n",
      "Train Accuracy Epoch 266/500: 100%|██████████| 177/177 [00:01<00:00, 166.50batches/s]\n",
      "Val Accuracy Epoch 266/500: 100%|██████████| 20/20 [00:00<00:00, 238.06batches/s]\n",
      "Train Epoch 267/500:   0%|          | 0/177 [00:00<?, ?batches/s]"
     ]
    },
    {
     "name": "stdout",
     "output_type": "stream",
     "text": [
      "epoch 265, val accuracy: 0.9711808212190768\n"
     ]
    },
    {
     "name": "stderr",
     "output_type": "stream",
     "text": [
      "Train Epoch 267/500: 100%|██████████| 177/177 [00:01<00:00, 103.58batches/s]\n",
      "Train Accuracy Epoch 267/500: 100%|██████████| 177/177 [00:01<00:00, 172.24batches/s]\n",
      "Val Accuracy Epoch 267/500: 100%|██████████| 20/20 [00:00<00:00, 238.52batches/s]\n",
      "Train Epoch 268/500:   0%|          | 0/177 [00:00<?, ?batches/s]"
     ]
    },
    {
     "name": "stdout",
     "output_type": "stream",
     "text": [
      "epoch 266, val accuracy: 0.9655700076511095\n"
     ]
    },
    {
     "name": "stderr",
     "output_type": "stream",
     "text": [
      "Train Epoch 268/500: 100%|██████████| 177/177 [00:01<00:00, 101.50batches/s]\n",
      "Train Accuracy Epoch 268/500: 100%|██████████| 177/177 [00:01<00:00, 169.72batches/s]\n",
      "Val Accuracy Epoch 268/500: 100%|██████████| 20/20 [00:00<00:00, 228.94batches/s]\n",
      "Train Epoch 269/500:   0%|          | 0/177 [00:00<?, ?batches/s]"
     ]
    },
    {
     "name": "stdout",
     "output_type": "stream",
     "text": [
      "epoch 267, val accuracy: 0.9691405253761796\n"
     ]
    },
    {
     "name": "stderr",
     "output_type": "stream",
     "text": [
      "Train Epoch 269/500: 100%|██████████| 177/177 [00:01<00:00, 103.65batches/s]\n",
      "Train Accuracy Epoch 269/500: 100%|██████████| 177/177 [00:01<00:00, 171.35batches/s]\n",
      "Val Accuracy Epoch 269/500: 100%|██████████| 20/20 [00:00<00:00, 241.31batches/s]\n",
      "Train Epoch 270/500:   0%|          | 0/177 [00:00<?, ?batches/s]"
     ]
    },
    {
     "name": "stdout",
     "output_type": "stream",
     "text": [
      "epoch 268, val accuracy: 0.9716908951798011\n"
     ]
    },
    {
     "name": "stderr",
     "output_type": "stream",
     "text": [
      "Train Epoch 270/500: 100%|██████████| 177/177 [00:01<00:00, 103.87batches/s]\n",
      "Train Accuracy Epoch 270/500: 100%|██████████| 177/177 [00:01<00:00, 173.44batches/s]\n",
      "Val Accuracy Epoch 270/500: 100%|██████████| 20/20 [00:00<00:00, 235.01batches/s]\n",
      "Train Epoch 271/500:   0%|          | 0/177 [00:00<?, ?batches/s]"
     ]
    },
    {
     "name": "stdout",
     "output_type": "stream",
     "text": [
      "epoch 269, val accuracy: 0.9704157102779903\n"
     ]
    },
    {
     "name": "stderr",
     "output_type": "stream",
     "text": [
      "Train Epoch 271/500: 100%|██████████| 177/177 [00:01<00:00, 104.45batches/s]\n",
      "Train Accuracy Epoch 271/500: 100%|██████████| 177/177 [00:01<00:00, 172.60batches/s]\n",
      "Val Accuracy Epoch 271/500: 100%|██████████| 20/20 [00:00<00:00, 238.00batches/s]\n",
      "Train Epoch 272/500:   0%|          | 0/177 [00:00<?, ?batches/s]"
     ]
    },
    {
     "name": "stdout",
     "output_type": "stream",
     "text": [
      "epoch 270, val accuracy: 0.9693955623565417\n"
     ]
    },
    {
     "name": "stderr",
     "output_type": "stream",
     "text": [
      "Train Epoch 272/500: 100%|██████████| 177/177 [00:01<00:00, 103.85batches/s]\n",
      "Train Accuracy Epoch 272/500: 100%|██████████| 177/177 [00:01<00:00, 169.72batches/s]\n",
      "Val Accuracy Epoch 272/500: 100%|██████████| 20/20 [00:00<00:00, 231.84batches/s]\n",
      "Train Epoch 273/500:   0%|          | 0/177 [00:00<?, ?batches/s]"
     ]
    },
    {
     "name": "stdout",
     "output_type": "stream",
     "text": [
      "epoch 271, val accuracy: 0.9701606732976281\n"
     ]
    },
    {
     "name": "stderr",
     "output_type": "stream",
     "text": [
      "Train Epoch 273/500: 100%|██████████| 177/177 [00:01<00:00, 103.14batches/s]\n",
      "Train Accuracy Epoch 273/500: 100%|██████████| 177/177 [00:01<00:00, 173.73batches/s]\n",
      "Val Accuracy Epoch 273/500: 100%|██████████| 20/20 [00:00<00:00, 241.66batches/s]\n",
      "Train Epoch 274/500:   0%|          | 0/177 [00:00<?, ?batches/s]"
     ]
    },
    {
     "name": "stdout",
     "output_type": "stream",
     "text": [
      "epoch 272, val accuracy: 0.9693955623565417\n"
     ]
    },
    {
     "name": "stderr",
     "output_type": "stream",
     "text": [
      "Train Epoch 274/500: 100%|██████████| 177/177 [00:01<00:00, 104.24batches/s]\n",
      "Train Accuracy Epoch 274/500: 100%|██████████| 177/177 [00:01<00:00, 172.24batches/s]\n",
      "Val Accuracy Epoch 274/500: 100%|██████████| 20/20 [00:00<00:00, 242.39batches/s]\n",
      "Train Epoch 275/500:   0%|          | 0/177 [00:00<?, ?batches/s]"
     ]
    },
    {
     "name": "stdout",
     "output_type": "stream",
     "text": [
      "epoch 273, val accuracy: 0.9571537872991583\n"
     ]
    },
    {
     "name": "stderr",
     "output_type": "stream",
     "text": [
      "Train Epoch 275/500: 100%|██████████| 177/177 [00:01<00:00, 104.59batches/s]\n",
      "Train Accuracy Epoch 275/500: 100%|██████████| 177/177 [00:01<00:00, 168.34batches/s]\n",
      "Val Accuracy Epoch 275/500: 100%|██████████| 20/20 [00:00<00:00, 237.75batches/s]\n"
     ]
    },
    {
     "name": "stdout",
     "output_type": "stream",
     "text": [
      "epoch 274, val accuracy: 0.9410864575363428\n"
     ]
    },
    {
     "name": "stderr",
     "output_type": "stream",
     "text": [
      "Train Epoch 276/500: 100%|██████████| 177/177 [00:01<00:00, 101.21batches/s]\n",
      "Train Accuracy Epoch 276/500: 100%|██████████| 177/177 [00:01<00:00, 172.39batches/s]\n",
      "Val Accuracy Epoch 276/500: 100%|██████████| 20/20 [00:00<00:00, 237.72batches/s]\n",
      "Train Epoch 277/500:   0%|          | 0/177 [00:00<?, ?batches/s]"
     ]
    },
    {
     "name": "stdout",
     "output_type": "stream",
     "text": [
      "epoch 275, val accuracy: 0.9673552665136445\n"
     ]
    },
    {
     "name": "stderr",
     "output_type": "stream",
     "text": [
      "Train Epoch 277/500: 100%|██████████| 177/177 [00:01<00:00, 104.00batches/s]\n",
      "Train Accuracy Epoch 277/500: 100%|██████████| 177/177 [00:01<00:00, 173.94batches/s]\n",
      "Val Accuracy Epoch 277/500: 100%|██████████| 20/20 [00:00<00:00, 241.89batches/s]\n"
     ]
    },
    {
     "name": "stdout",
     "output_type": "stream",
     "text": [
      "epoch 276, val accuracy: 0.9711808212190768\n"
     ]
    },
    {
     "name": "stderr",
     "output_type": "stream",
     "text": [
      "Train Epoch 278/500: 100%|██████████| 177/177 [00:01<00:00, 104.08batches/s]\n",
      "Train Accuracy Epoch 278/500: 100%|██████████| 177/177 [00:01<00:00, 170.67batches/s]\n",
      "Val Accuracy Epoch 278/500: 100%|██████████| 20/20 [00:00<00:00, 234.65batches/s]\n",
      "Train Epoch 279/500:   0%|          | 0/177 [00:00<?, ?batches/s]"
     ]
    },
    {
     "name": "stdout",
     "output_type": "stream",
     "text": [
      "epoch 277, val accuracy: 0.9701606732976281\n"
     ]
    },
    {
     "name": "stderr",
     "output_type": "stream",
     "text": [
      "Train Epoch 279/500: 100%|██████████| 177/177 [00:01<00:00, 101.60batches/s]\n",
      "Train Accuracy Epoch 279/500: 100%|██████████| 177/177 [00:01<00:00, 171.03batches/s]\n",
      "Val Accuracy Epoch 279/500: 100%|██████████| 20/20 [00:00<00:00, 240.85batches/s]\n",
      "Train Epoch 280/500:   0%|          | 0/177 [00:00<?, ?batches/s]"
     ]
    },
    {
     "name": "stdout",
     "output_type": "stream",
     "text": [
      "epoch 278, val accuracy: 0.9701606732976281\n"
     ]
    },
    {
     "name": "stderr",
     "output_type": "stream",
     "text": [
      "Train Epoch 280/500: 100%|██████████| 177/177 [00:01<00:00, 102.95batches/s]\n",
      "Train Accuracy Epoch 280/500: 100%|██████████| 177/177 [00:01<00:00, 173.64batches/s]\n",
      "Val Accuracy Epoch 280/500: 100%|██████████| 20/20 [00:00<00:00, 238.88batches/s]\n",
      "Train Epoch 281/500:   0%|          | 0/177 [00:00<?, ?batches/s]"
     ]
    },
    {
     "name": "stdout",
     "output_type": "stream",
     "text": [
      "epoch 279, val accuracy: 0.9714358581994389\n"
     ]
    },
    {
     "name": "stderr",
     "output_type": "stream",
     "text": [
      "Train Epoch 281/500: 100%|██████████| 177/177 [00:01<00:00, 102.80batches/s]\n",
      "Train Accuracy Epoch 281/500: 100%|██████████| 177/177 [00:01<00:00, 171.62batches/s]\n",
      "Val Accuracy Epoch 281/500: 100%|██████████| 20/20 [00:00<00:00, 231.60batches/s]\n",
      "Train Epoch 282/500:   0%|          | 0/177 [00:00<?, ?batches/s]"
     ]
    },
    {
     "name": "stdout",
     "output_type": "stream",
     "text": [
      "epoch 280, val accuracy: 0.9688854883958173\n"
     ]
    },
    {
     "name": "stderr",
     "output_type": "stream",
     "text": [
      "Train Epoch 282/500: 100%|██████████| 177/177 [00:01<00:00, 100.86batches/s]\n",
      "Train Accuracy Epoch 282/500: 100%|██████████| 177/177 [00:01<00:00, 172.15batches/s]\n",
      "Val Accuracy Epoch 282/500: 100%|██████████| 20/20 [00:00<00:00, 237.60batches/s]\n",
      "Train Epoch 283/500:   0%|          | 0/177 [00:00<?, ?batches/s]"
     ]
    },
    {
     "name": "stdout",
     "output_type": "stream",
     "text": [
      "epoch 281, val accuracy: 0.9706707472583525\n"
     ]
    },
    {
     "name": "stderr",
     "output_type": "stream",
     "text": [
      "Train Epoch 283/500: 100%|██████████| 177/177 [00:01<00:00, 101.11batches/s]\n",
      "Train Accuracy Epoch 283/500: 100%|██████████| 177/177 [00:01<00:00, 169.25batches/s]\n",
      "Val Accuracy Epoch 283/500: 100%|██████████| 20/20 [00:00<00:00, 243.98batches/s]\n",
      "Train Epoch 284/500:   0%|          | 0/177 [00:00<?, ?batches/s]"
     ]
    },
    {
     "name": "stdout",
     "output_type": "stream",
     "text": [
      "epoch 282, val accuracy: 0.9709257842387146\n"
     ]
    },
    {
     "name": "stderr",
     "output_type": "stream",
     "text": [
      "Train Epoch 284/500: 100%|██████████| 177/177 [00:01<00:00, 102.86batches/s]\n",
      "Train Accuracy Epoch 284/500: 100%|██████████| 177/177 [00:01<00:00, 170.07batches/s]\n",
      "Val Accuracy Epoch 284/500: 100%|██████████| 20/20 [00:00<00:00, 241.71batches/s]\n",
      "Train Epoch 285/500:   0%|          | 0/177 [00:00<?, ?batches/s]"
     ]
    },
    {
     "name": "stdout",
     "output_type": "stream",
     "text": [
      "epoch 283, val accuracy: 0.958173935220607\n"
     ]
    },
    {
     "name": "stderr",
     "output_type": "stream",
     "text": [
      "Train Epoch 285/500: 100%|██████████| 177/177 [00:01<00:00, 104.04batches/s]\n",
      "Train Accuracy Epoch 285/500: 100%|██████████| 177/177 [00:01<00:00, 169.06batches/s]\n",
      "Val Accuracy Epoch 285/500: 100%|██████████| 20/20 [00:00<00:00, 235.24batches/s]\n",
      "Train Epoch 286/500:   0%|          | 0/177 [00:00<?, ?batches/s]"
     ]
    },
    {
     "name": "stdout",
     "output_type": "stream",
     "text": [
      "epoch 284, val accuracy: 0.9711808212190768\n"
     ]
    },
    {
     "name": "stderr",
     "output_type": "stream",
     "text": [
      "Train Epoch 286/500: 100%|██████████| 177/177 [00:01<00:00, 102.51batches/s]\n",
      "Train Accuracy Epoch 286/500: 100%|██████████| 177/177 [00:01<00:00, 174.09batches/s]\n",
      "Val Accuracy Epoch 286/500: 100%|██████████| 20/20 [00:00<00:00, 240.97batches/s]\n",
      "Train Epoch 287/500:   0%|          | 0/177 [00:00<?, ?batches/s]"
     ]
    },
    {
     "name": "stdout",
     "output_type": "stream",
     "text": [
      "epoch 285, val accuracy: 0.9701606732976281\n"
     ]
    },
    {
     "name": "stderr",
     "output_type": "stream",
     "text": [
      "Train Epoch 287/500: 100%|██████████| 177/177 [00:01<00:00, 103.55batches/s]\n",
      "Train Accuracy Epoch 287/500: 100%|██████████| 177/177 [00:01<00:00, 167.02batches/s]\n",
      "Val Accuracy Epoch 287/500: 100%|██████████| 20/20 [00:00<00:00, 239.09batches/s]\n",
      "Train Epoch 288/500:   0%|          | 0/177 [00:00<?, ?batches/s]"
     ]
    },
    {
     "name": "stdout",
     "output_type": "stream",
     "text": [
      "epoch 286, val accuracy: 0.9701606732976281\n"
     ]
    },
    {
     "name": "stderr",
     "output_type": "stream",
     "text": [
      "Train Epoch 288/500: 100%|██████████| 177/177 [00:01<00:00, 103.84batches/s]\n",
      "Train Accuracy Epoch 288/500: 100%|██████████| 177/177 [00:01<00:00, 173.40batches/s]\n",
      "Val Accuracy Epoch 288/500: 100%|██████████| 20/20 [00:00<00:00, 240.56batches/s]\n",
      "Train Epoch 289/500:   0%|          | 0/177 [00:00<?, ?batches/s]"
     ]
    },
    {
     "name": "stdout",
     "output_type": "stream",
     "text": [
      "epoch 287, val accuracy: 0.969905636317266\n"
     ]
    },
    {
     "name": "stderr",
     "output_type": "stream",
     "text": [
      "Train Epoch 289/500: 100%|██████████| 177/177 [00:01<00:00, 104.12batches/s]\n",
      "Train Accuracy Epoch 289/500: 100%|██████████| 177/177 [00:01<00:00, 174.18batches/s]\n",
      "Val Accuracy Epoch 289/500: 100%|██████████| 20/20 [00:00<00:00, 243.45batches/s]\n",
      "Train Epoch 290/500:   0%|          | 0/177 [00:00<?, ?batches/s]"
     ]
    },
    {
     "name": "stdout",
     "output_type": "stream",
     "text": [
      "epoch 288, val accuracy: 0.9686304514154552\n"
     ]
    },
    {
     "name": "stderr",
     "output_type": "stream",
     "text": [
      "Train Epoch 290/500: 100%|██████████| 177/177 [00:01<00:00, 105.24batches/s]\n",
      "Train Accuracy Epoch 290/500: 100%|██████████| 177/177 [00:01<00:00, 175.24batches/s]\n",
      "Val Accuracy Epoch 290/500: 100%|██████████| 20/20 [00:00<00:00, 241.96batches/s]\n",
      "Train Epoch 291/500:   0%|          | 0/177 [00:00<?, ?batches/s]"
     ]
    },
    {
     "name": "stdout",
     "output_type": "stream",
     "text": [
      "epoch 289, val accuracy: 0.9678653404743688\n"
     ]
    },
    {
     "name": "stderr",
     "output_type": "stream",
     "text": [
      "Train Epoch 291/500: 100%|██████████| 177/177 [00:01<00:00, 103.70batches/s]\n",
      "Train Accuracy Epoch 291/500: 100%|██████████| 177/177 [00:01<00:00, 172.45batches/s]\n",
      "Val Accuracy Epoch 291/500: 100%|██████████| 20/20 [00:00<00:00, 238.50batches/s]\n",
      "Train Epoch 292/500:   0%|          | 0/177 [00:00<?, ?batches/s]"
     ]
    },
    {
     "name": "stdout",
     "output_type": "stream",
     "text": [
      "epoch 290, val accuracy: 0.9709257842387146\n"
     ]
    },
    {
     "name": "stderr",
     "output_type": "stream",
     "text": [
      "Train Epoch 292/500: 100%|██████████| 177/177 [00:01<00:00, 104.40batches/s]\n",
      "Train Accuracy Epoch 292/500: 100%|██████████| 177/177 [00:01<00:00, 173.43batches/s]\n",
      "Val Accuracy Epoch 292/500: 100%|██████████| 20/20 [00:00<00:00, 237.53batches/s]\n",
      "Train Epoch 293/500:   0%|          | 0/177 [00:00<?, ?batches/s]"
     ]
    },
    {
     "name": "stdout",
     "output_type": "stream",
     "text": [
      "epoch 291, val accuracy: 0.9704157102779903\n"
     ]
    },
    {
     "name": "stderr",
     "output_type": "stream",
     "text": [
      "Train Epoch 293/500: 100%|██████████| 177/177 [00:01<00:00, 104.59batches/s]\n",
      "Train Accuracy Epoch 293/500: 100%|██████████| 177/177 [00:01<00:00, 173.61batches/s]\n",
      "Val Accuracy Epoch 293/500: 100%|██████████| 20/20 [00:00<00:00, 242.11batches/s]\n",
      "Train Epoch 294/500:   0%|          | 0/177 [00:00<?, ?batches/s]"
     ]
    },
    {
     "name": "stdout",
     "output_type": "stream",
     "text": [
      "epoch 292, val accuracy: 0.9711808212190768\n"
     ]
    },
    {
     "name": "stderr",
     "output_type": "stream",
     "text": [
      "Train Epoch 294/500: 100%|██████████| 177/177 [00:01<00:00, 104.97batches/s]\n",
      "Train Accuracy Epoch 294/500: 100%|██████████| 177/177 [00:01<00:00, 174.04batches/s]\n",
      "Val Accuracy Epoch 294/500: 100%|██████████| 20/20 [00:00<00:00, 241.86batches/s]\n",
      "Train Epoch 295/500:   0%|          | 0/177 [00:00<?, ?batches/s]"
     ]
    },
    {
     "name": "stdout",
     "output_type": "stream",
     "text": [
      "epoch 293, val accuracy: 0.9691405253761796\n"
     ]
    },
    {
     "name": "stderr",
     "output_type": "stream",
     "text": [
      "Train Epoch 295/500: 100%|██████████| 177/177 [00:01<00:00, 104.29batches/s]\n",
      "Train Accuracy Epoch 295/500: 100%|██████████| 177/177 [00:01<00:00, 165.67batches/s]\n",
      "Val Accuracy Epoch 295/500: 100%|██████████| 20/20 [00:00<00:00, 237.90batches/s]\n",
      "Train Epoch 296/500:   0%|          | 0/177 [00:00<?, ?batches/s]"
     ]
    },
    {
     "name": "stdout",
     "output_type": "stream",
     "text": [
      "epoch 294, val accuracy: 0.9660800816118337\n"
     ]
    },
    {
     "name": "stderr",
     "output_type": "stream",
     "text": [
      "Train Epoch 296/500: 100%|██████████| 177/177 [00:01<00:00, 103.31batches/s]\n",
      "Train Accuracy Epoch 296/500: 100%|██████████| 177/177 [00:01<00:00, 173.12batches/s]\n",
      "Val Accuracy Epoch 296/500: 100%|██████████| 20/20 [00:00<00:00, 237.45batches/s]\n",
      "Train Epoch 297/500:   0%|          | 0/177 [00:00<?, ?batches/s]"
     ]
    },
    {
     "name": "stdout",
     "output_type": "stream",
     "text": [
      "epoch 295, val accuracy: 0.9688854883958173\n"
     ]
    },
    {
     "name": "stderr",
     "output_type": "stream",
     "text": [
      "Train Epoch 297/500: 100%|██████████| 177/177 [00:01<00:00, 105.06batches/s]\n",
      "Train Accuracy Epoch 297/500: 100%|██████████| 177/177 [00:01<00:00, 173.62batches/s]\n",
      "Val Accuracy Epoch 297/500: 100%|██████████| 20/20 [00:00<00:00, 241.17batches/s]\n",
      "Train Epoch 298/500:   0%|          | 0/177 [00:00<?, ?batches/s]"
     ]
    },
    {
     "name": "stdout",
     "output_type": "stream",
     "text": [
      "epoch 296, val accuracy: 0.9706707472583525\n"
     ]
    },
    {
     "name": "stderr",
     "output_type": "stream",
     "text": [
      "Train Epoch 298/500: 100%|██████████| 177/177 [00:01<00:00, 105.08batches/s]\n",
      "Train Accuracy Epoch 298/500: 100%|██████████| 177/177 [00:01<00:00, 174.49batches/s]\n",
      "Val Accuracy Epoch 298/500: 100%|██████████| 20/20 [00:00<00:00, 241.43batches/s]\n",
      "Train Epoch 299/500:   0%|          | 0/177 [00:00<?, ?batches/s]"
     ]
    },
    {
     "name": "stdout",
     "output_type": "stream",
     "text": [
      "epoch 297, val accuracy: 0.9709257842387146\n"
     ]
    },
    {
     "name": "stderr",
     "output_type": "stream",
     "text": [
      "Train Epoch 299/500: 100%|██████████| 177/177 [00:01<00:00, 106.04batches/s]\n",
      "Train Accuracy Epoch 299/500: 100%|██████████| 177/177 [00:01<00:00, 170.87batches/s]\n",
      "Val Accuracy Epoch 299/500: 100%|██████████| 20/20 [00:00<00:00, 233.52batches/s]\n",
      "Train Epoch 300/500:   0%|          | 0/177 [00:00<?, ?batches/s]"
     ]
    },
    {
     "name": "stdout",
     "output_type": "stream",
     "text": [
      "epoch 298, val accuracy: 0.9683754144350931\n"
     ]
    },
    {
     "name": "stderr",
     "output_type": "stream",
     "text": [
      "Train Epoch 300/500: 100%|██████████| 177/177 [00:01<00:00, 105.65batches/s]\n",
      "Train Accuracy Epoch 300/500: 100%|██████████| 177/177 [00:01<00:00, 175.44batches/s]\n",
      "Val Accuracy Epoch 300/500: 100%|██████████| 20/20 [00:00<00:00, 239.64batches/s]\n",
      "Train Epoch 301/500:   0%|          | 0/177 [00:00<?, ?batches/s]"
     ]
    },
    {
     "name": "stdout",
     "output_type": "stream",
     "text": [
      "epoch 299, val accuracy: 0.9711808212190768\n"
     ]
    },
    {
     "name": "stderr",
     "output_type": "stream",
     "text": [
      "Train Epoch 301/500: 100%|██████████| 177/177 [00:01<00:00, 105.89batches/s]\n",
      "Train Accuracy Epoch 301/500: 100%|██████████| 177/177 [00:01<00:00, 174.26batches/s]\n",
      "Val Accuracy Epoch 301/500: 100%|██████████| 20/20 [00:00<00:00, 241.78batches/s]\n",
      "Train Epoch 302/500:   0%|          | 0/177 [00:00<?, ?batches/s]"
     ]
    },
    {
     "name": "stdout",
     "output_type": "stream",
     "text": [
      "epoch 300, val accuracy: 0.9655700076511095\n"
     ]
    },
    {
     "name": "stderr",
     "output_type": "stream",
     "text": [
      "Train Epoch 302/500: 100%|██████████| 177/177 [00:01<00:00, 105.87batches/s]\n",
      "Train Accuracy Epoch 302/500: 100%|██████████| 177/177 [00:01<00:00, 174.77batches/s]\n",
      "Val Accuracy Epoch 302/500: 100%|██████████| 20/20 [00:00<00:00, 235.51batches/s]\n",
      "Train Epoch 303/500:   0%|          | 0/177 [00:00<?, ?batches/s]"
     ]
    },
    {
     "name": "stdout",
     "output_type": "stream",
     "text": [
      "epoch 301, val accuracy: 0.9688854883958173\n"
     ]
    },
    {
     "name": "stderr",
     "output_type": "stream",
     "text": [
      "Train Epoch 303/500: 100%|██████████| 177/177 [00:01<00:00, 105.51batches/s]\n",
      "Train Accuracy Epoch 303/500: 100%|██████████| 177/177 [00:01<00:00, 172.76batches/s]\n",
      "Val Accuracy Epoch 303/500: 100%|██████████| 20/20 [00:00<00:00, 234.90batches/s]\n",
      "Train Epoch 304/500:   0%|          | 0/177 [00:00<?, ?batches/s]"
     ]
    },
    {
     "name": "stdout",
     "output_type": "stream",
     "text": [
      "epoch 302, val accuracy: 0.9709257842387146\n"
     ]
    },
    {
     "name": "stderr",
     "output_type": "stream",
     "text": [
      "Train Epoch 304/500: 100%|██████████| 177/177 [00:01<00:00, 105.52batches/s]\n",
      "Train Accuracy Epoch 304/500: 100%|██████████| 177/177 [00:01<00:00, 173.42batches/s]\n",
      "Val Accuracy Epoch 304/500: 100%|██████████| 20/20 [00:00<00:00, 236.59batches/s]\n",
      "Train Epoch 305/500:   0%|          | 0/177 [00:00<?, ?batches/s]"
     ]
    },
    {
     "name": "stdout",
     "output_type": "stream",
     "text": [
      "epoch 303, val accuracy: 0.9696505993369039\n"
     ]
    },
    {
     "name": "stderr",
     "output_type": "stream",
     "text": [
      "Train Epoch 305/500: 100%|██████████| 177/177 [00:01<00:00, 105.60batches/s]\n",
      "Train Accuracy Epoch 305/500: 100%|██████████| 177/177 [00:01<00:00, 173.86batches/s]\n",
      "Val Accuracy Epoch 305/500: 100%|██████████| 20/20 [00:00<00:00, 241.82batches/s]\n",
      "Train Epoch 306/500:   0%|          | 0/177 [00:00<?, ?batches/s]"
     ]
    },
    {
     "name": "stdout",
     "output_type": "stream",
     "text": [
      "epoch 304, val accuracy: 0.9706707472583525\n"
     ]
    },
    {
     "name": "stderr",
     "output_type": "stream",
     "text": [
      "Train Epoch 306/500: 100%|██████████| 177/177 [00:01<00:00, 105.55batches/s]\n",
      "Train Accuracy Epoch 306/500: 100%|██████████| 177/177 [00:01<00:00, 174.47batches/s]\n",
      "Val Accuracy Epoch 306/500: 100%|██████████| 20/20 [00:00<00:00, 242.57batches/s]\n",
      "Train Epoch 307/500:   0%|          | 0/177 [00:00<?, ?batches/s]"
     ]
    },
    {
     "name": "stdout",
     "output_type": "stream",
     "text": [
      "epoch 305, val accuracy: 0.9660800816118337\n"
     ]
    },
    {
     "name": "stderr",
     "output_type": "stream",
     "text": [
      "Train Epoch 307/500: 100%|██████████| 177/177 [00:01<00:00, 103.12batches/s]\n",
      "Train Accuracy Epoch 307/500: 100%|██████████| 177/177 [00:01<00:00, 173.76batches/s]\n",
      "Val Accuracy Epoch 307/500: 100%|██████████| 20/20 [00:00<00:00, 240.36batches/s]\n",
      "Train Epoch 308/500:   0%|          | 0/177 [00:00<?, ?batches/s]"
     ]
    },
    {
     "name": "stdout",
     "output_type": "stream",
     "text": [
      "epoch 306, val accuracy: 0.9709257842387146\n"
     ]
    },
    {
     "name": "stderr",
     "output_type": "stream",
     "text": [
      "Train Epoch 308/500: 100%|██████████| 177/177 [00:01<00:00, 104.04batches/s]\n",
      "Train Accuracy Epoch 308/500: 100%|██████████| 177/177 [00:01<00:00, 167.57batches/s]\n",
      "Val Accuracy Epoch 308/500: 100%|██████████| 20/20 [00:00<00:00, 242.12batches/s]\n",
      "Train Epoch 309/500:   0%|          | 0/177 [00:00<?, ?batches/s]"
     ]
    },
    {
     "name": "stdout",
     "output_type": "stream",
     "text": [
      "epoch 307, val accuracy: 0.9683754144350931\n"
     ]
    },
    {
     "name": "stderr",
     "output_type": "stream",
     "text": [
      "Train Epoch 309/500: 100%|██████████| 177/177 [00:01<00:00, 103.35batches/s]\n",
      "Train Accuracy Epoch 309/500: 100%|██████████| 177/177 [00:01<00:00, 173.39batches/s]\n",
      "Val Accuracy Epoch 309/500: 100%|██████████| 20/20 [00:00<00:00, 237.87batches/s]\n",
      "Train Epoch 310/500:   0%|          | 0/177 [00:00<?, ?batches/s]"
     ]
    },
    {
     "name": "stdout",
     "output_type": "stream",
     "text": [
      "epoch 308, val accuracy: 0.9716908951798011\n"
     ]
    },
    {
     "name": "stderr",
     "output_type": "stream",
     "text": [
      "Train Epoch 310/500: 100%|██████████| 177/177 [00:01<00:00, 102.86batches/s]\n",
      "Train Accuracy Epoch 310/500: 100%|██████████| 177/177 [00:01<00:00, 173.75batches/s]\n",
      "Val Accuracy Epoch 310/500: 100%|██████████| 20/20 [00:00<00:00, 235.94batches/s]\n",
      "Train Epoch 311/500:   0%|          | 0/177 [00:00<?, ?batches/s]"
     ]
    },
    {
     "name": "stdout",
     "output_type": "stream",
     "text": [
      "epoch 309, val accuracy: 0.9709257842387146\n"
     ]
    },
    {
     "name": "stderr",
     "output_type": "stream",
     "text": [
      "Train Epoch 311/500: 100%|██████████| 177/177 [00:01<00:00, 103.64batches/s]\n",
      "Train Accuracy Epoch 311/500: 100%|██████████| 177/177 [00:01<00:00, 173.83batches/s]\n",
      "Val Accuracy Epoch 311/500: 100%|██████████| 20/20 [00:00<00:00, 235.54batches/s]\n",
      "Train Epoch 312/500:   0%|          | 0/177 [00:00<?, ?batches/s]"
     ]
    },
    {
     "name": "stdout",
     "output_type": "stream",
     "text": [
      "epoch 310, val accuracy: 0.9686304514154552\n"
     ]
    },
    {
     "name": "stderr",
     "output_type": "stream",
     "text": [
      "Train Epoch 312/500: 100%|██████████| 177/177 [00:01<00:00, 104.06batches/s]\n",
      "Train Accuracy Epoch 312/500: 100%|██████████| 177/177 [00:01<00:00, 170.87batches/s]\n",
      "Val Accuracy Epoch 312/500: 100%|██████████| 20/20 [00:00<00:00, 237.89batches/s]\n",
      "Train Epoch 313/500:   0%|          | 0/177 [00:00<?, ?batches/s]"
     ]
    },
    {
     "name": "stdout",
     "output_type": "stream",
     "text": [
      "epoch 311, val accuracy: 0.9704157102779903\n"
     ]
    },
    {
     "name": "stderr",
     "output_type": "stream",
     "text": [
      "Train Epoch 313/500: 100%|██████████| 177/177 [00:01<00:00, 103.37batches/s]\n",
      "Train Accuracy Epoch 313/500: 100%|██████████| 177/177 [00:01<00:00, 174.13batches/s]\n",
      "Val Accuracy Epoch 313/500: 100%|██████████| 20/20 [00:00<00:00, 243.70batches/s]\n",
      "Train Epoch 314/500:   0%|          | 0/177 [00:00<?, ?batches/s]"
     ]
    },
    {
     "name": "stdout",
     "output_type": "stream",
     "text": [
      "epoch 312, val accuracy: 0.9709257842387146\n"
     ]
    },
    {
     "name": "stderr",
     "output_type": "stream",
     "text": [
      "Train Epoch 314/500: 100%|██████████| 177/177 [00:01<00:00, 103.90batches/s]\n",
      "Train Accuracy Epoch 314/500: 100%|██████████| 177/177 [00:01<00:00, 174.13batches/s]\n",
      "Val Accuracy Epoch 314/500: 100%|██████████| 20/20 [00:00<00:00, 244.90batches/s]\n",
      "Train Epoch 315/500:   0%|          | 0/177 [00:00<?, ?batches/s]"
     ]
    },
    {
     "name": "stdout",
     "output_type": "stream",
     "text": [
      "epoch 313, val accuracy: 0.9701606732976281\n"
     ]
    },
    {
     "name": "stderr",
     "output_type": "stream",
     "text": [
      "Train Epoch 315/500: 100%|██████████| 177/177 [00:01<00:00, 103.69batches/s]\n",
      "Train Accuracy Epoch 315/500: 100%|██████████| 177/177 [00:01<00:00, 172.95batches/s]\n",
      "Val Accuracy Epoch 315/500: 100%|██████████| 20/20 [00:00<00:00, 236.09batches/s]\n",
      "Train Epoch 316/500:   0%|          | 0/177 [00:00<?, ?batches/s]"
     ]
    },
    {
     "name": "stdout",
     "output_type": "stream",
     "text": [
      "epoch 314, val accuracy: 0.9711808212190768\n"
     ]
    },
    {
     "name": "stderr",
     "output_type": "stream",
     "text": [
      "Train Epoch 316/500: 100%|██████████| 177/177 [00:01<00:00, 103.65batches/s]\n",
      "Train Accuracy Epoch 316/500: 100%|██████████| 177/177 [00:01<00:00, 174.33batches/s]\n",
      "Val Accuracy Epoch 316/500: 100%|██████████| 20/20 [00:00<00:00, 237.48batches/s]\n",
      "Train Epoch 317/500:   0%|          | 0/177 [00:00<?, ?batches/s]"
     ]
    },
    {
     "name": "stdout",
     "output_type": "stream",
     "text": [
      "epoch 315, val accuracy: 0.969905636317266\n"
     ]
    },
    {
     "name": "stderr",
     "output_type": "stream",
     "text": [
      "Train Epoch 317/500: 100%|██████████| 177/177 [00:01<00:00, 104.66batches/s]\n",
      "Train Accuracy Epoch 317/500: 100%|██████████| 177/177 [00:01<00:00, 167.09batches/s]\n",
      "Val Accuracy Epoch 317/500: 100%|██████████| 20/20 [00:00<00:00, 243.58batches/s]\n",
      "Train Epoch 318/500:   0%|          | 0/177 [00:00<?, ?batches/s]"
     ]
    },
    {
     "name": "stdout",
     "output_type": "stream",
     "text": [
      "epoch 316, val accuracy: 0.9701606732976281\n"
     ]
    },
    {
     "name": "stderr",
     "output_type": "stream",
     "text": [
      "Train Epoch 318/500: 100%|██████████| 177/177 [00:01<00:00, 102.42batches/s]\n",
      "Train Accuracy Epoch 318/500: 100%|██████████| 177/177 [00:01<00:00, 171.11batches/s]\n",
      "Val Accuracy Epoch 318/500: 100%|██████████| 20/20 [00:00<00:00, 236.56batches/s]\n",
      "Train Epoch 319/500:   0%|          | 0/177 [00:00<?, ?batches/s]"
     ]
    },
    {
     "name": "stdout",
     "output_type": "stream",
     "text": [
      "epoch 317, val accuracy: 0.9714358581994389\n"
     ]
    },
    {
     "name": "stderr",
     "output_type": "stream",
     "text": [
      "Train Epoch 319/500: 100%|██████████| 177/177 [00:01<00:00, 104.22batches/s]\n",
      "Train Accuracy Epoch 319/500: 100%|██████████| 177/177 [00:01<00:00, 171.44batches/s]\n",
      "Val Accuracy Epoch 319/500: 100%|██████████| 20/20 [00:00<00:00, 239.93batches/s]\n",
      "Train Epoch 320/500:   0%|          | 0/177 [00:00<?, ?batches/s]"
     ]
    },
    {
     "name": "stdout",
     "output_type": "stream",
     "text": [
      "epoch 318, val accuracy: 0.948227492986483\n"
     ]
    },
    {
     "name": "stderr",
     "output_type": "stream",
     "text": [
      "Train Epoch 320/500: 100%|██████████| 177/177 [00:01<00:00, 105.59batches/s]\n",
      "Train Accuracy Epoch 320/500: 100%|██████████| 177/177 [00:01<00:00, 172.97batches/s]\n",
      "Val Accuracy Epoch 320/500: 100%|██████████| 20/20 [00:00<00:00, 236.46batches/s]\n",
      "Train Epoch 321/500:   0%|          | 0/177 [00:00<?, ?batches/s]"
     ]
    },
    {
     "name": "stdout",
     "output_type": "stream",
     "text": [
      "epoch 319, val accuracy: 0.9678653404743688\n"
     ]
    },
    {
     "name": "stderr",
     "output_type": "stream",
     "text": [
      "Train Epoch 321/500: 100%|██████████| 177/177 [00:01<00:00, 105.97batches/s]\n",
      "Train Accuracy Epoch 321/500: 100%|██████████| 177/177 [00:01<00:00, 175.11batches/s]\n",
      "Val Accuracy Epoch 321/500: 100%|██████████| 20/20 [00:00<00:00, 243.88batches/s]\n",
      "Train Epoch 322/500:   0%|          | 0/177 [00:00<?, ?batches/s]"
     ]
    },
    {
     "name": "stdout",
     "output_type": "stream",
     "text": [
      "epoch 320, val accuracy: 0.9663351185921959\n"
     ]
    },
    {
     "name": "stderr",
     "output_type": "stream",
     "text": [
      "Train Epoch 322/500: 100%|██████████| 177/177 [00:01<00:00, 106.05batches/s]\n",
      "Train Accuracy Epoch 322/500: 100%|██████████| 177/177 [00:01<00:00, 174.35batches/s]\n",
      "Val Accuracy Epoch 322/500: 100%|██████████| 20/20 [00:00<00:00, 244.37batches/s]\n",
      "Train Epoch 323/500:   0%|          | 0/177 [00:00<?, ?batches/s]"
     ]
    },
    {
     "name": "stdout",
     "output_type": "stream",
     "text": [
      "epoch 321, val accuracy: 0.9688854883958173\n"
     ]
    },
    {
     "name": "stderr",
     "output_type": "stream",
     "text": [
      "Train Epoch 323/500: 100%|██████████| 177/177 [00:01<00:00, 105.86batches/s]\n",
      "Train Accuracy Epoch 323/500: 100%|██████████| 177/177 [00:01<00:00, 174.29batches/s]\n",
      "Val Accuracy Epoch 323/500: 100%|██████████| 20/20 [00:00<00:00, 245.00batches/s]\n",
      "Train Epoch 324/500:   0%|          | 0/177 [00:00<?, ?batches/s]"
     ]
    },
    {
     "name": "stdout",
     "output_type": "stream",
     "text": [
      "epoch 322, val accuracy: 0.9433817903596021\n"
     ]
    },
    {
     "name": "stderr",
     "output_type": "stream",
     "text": [
      "Train Epoch 324/500: 100%|██████████| 177/177 [00:01<00:00, 105.75batches/s]\n",
      "Train Accuracy Epoch 324/500: 100%|██████████| 177/177 [00:01<00:00, 166.17batches/s]\n",
      "Val Accuracy Epoch 324/500: 100%|██████████| 20/20 [00:00<00:00, 242.95batches/s]\n",
      "Train Epoch 325/500:   0%|          | 0/177 [00:00<?, ?batches/s]"
     ]
    },
    {
     "name": "stdout",
     "output_type": "stream",
     "text": [
      "epoch 323, val accuracy: 0.9704157102779903\n"
     ]
    },
    {
     "name": "stderr",
     "output_type": "stream",
     "text": [
      "Train Epoch 325/500: 100%|██████████| 177/177 [00:01<00:00, 105.03batches/s]\n",
      "Train Accuracy Epoch 325/500: 100%|██████████| 177/177 [00:01<00:00, 172.41batches/s]\n",
      "Val Accuracy Epoch 325/500: 100%|██████████| 20/20 [00:00<00:00, 234.09batches/s]\n",
      "Train Epoch 326/500:   0%|          | 0/177 [00:00<?, ?batches/s]"
     ]
    },
    {
     "name": "stdout",
     "output_type": "stream",
     "text": [
      "epoch 324, val accuracy: 0.969905636317266\n"
     ]
    },
    {
     "name": "stderr",
     "output_type": "stream",
     "text": [
      "Train Epoch 326/500: 100%|██████████| 177/177 [00:01<00:00, 105.00batches/s]\n",
      "Train Accuracy Epoch 326/500: 100%|██████████| 177/177 [00:01<00:00, 173.66batches/s]\n",
      "Val Accuracy Epoch 326/500: 100%|██████████| 20/20 [00:00<00:00, 238.62batches/s]\n",
      "Train Epoch 327/500:   0%|          | 0/177 [00:00<?, ?batches/s]"
     ]
    },
    {
     "name": "stdout",
     "output_type": "stream",
     "text": [
      "epoch 325, val accuracy: 0.9701606732976281\n"
     ]
    },
    {
     "name": "stderr",
     "output_type": "stream",
     "text": [
      "Train Epoch 327/500: 100%|██████████| 177/177 [00:01<00:00, 104.73batches/s]\n",
      "Train Accuracy Epoch 327/500: 100%|██████████| 177/177 [00:01<00:00, 172.94batches/s]\n",
      "Val Accuracy Epoch 327/500: 100%|██████████| 20/20 [00:00<00:00, 230.46batches/s]\n",
      "Train Epoch 328/500:   0%|          | 0/177 [00:00<?, ?batches/s]"
     ]
    },
    {
     "name": "stdout",
     "output_type": "stream",
     "text": [
      "epoch 326, val accuracy: 0.9709257842387146\n"
     ]
    },
    {
     "name": "stderr",
     "output_type": "stream",
     "text": [
      "Train Epoch 328/500: 100%|██████████| 177/177 [00:01<00:00, 104.86batches/s]\n",
      "Train Accuracy Epoch 328/500: 100%|██████████| 177/177 [00:01<00:00, 170.56batches/s]\n",
      "Val Accuracy Epoch 328/500: 100%|██████████| 20/20 [00:00<00:00, 241.41batches/s]\n",
      "Train Epoch 329/500:   0%|          | 0/177 [00:00<?, ?batches/s]"
     ]
    },
    {
     "name": "stdout",
     "output_type": "stream",
     "text": [
      "epoch 327, val accuracy: 0.9604692680438663\n"
     ]
    },
    {
     "name": "stderr",
     "output_type": "stream",
     "text": [
      "Train Epoch 329/500: 100%|██████████| 177/177 [00:01<00:00, 104.13batches/s]\n",
      "Train Accuracy Epoch 329/500: 100%|██████████| 177/177 [00:01<00:00, 173.05batches/s]\n",
      "Val Accuracy Epoch 329/500: 100%|██████████| 20/20 [00:00<00:00, 239.97batches/s]\n",
      "Train Epoch 330/500:   0%|          | 0/177 [00:00<?, ?batches/s]"
     ]
    },
    {
     "name": "stdout",
     "output_type": "stream",
     "text": [
      "epoch 328, val accuracy: 0.9696505993369039\n"
     ]
    },
    {
     "name": "stderr",
     "output_type": "stream",
     "text": [
      "Train Epoch 330/500: 100%|██████████| 177/177 [00:01<00:00, 104.47batches/s]\n",
      "Train Accuracy Epoch 330/500: 100%|██████████| 177/177 [00:01<00:00, 173.45batches/s]\n",
      "Val Accuracy Epoch 330/500: 100%|██████████| 20/20 [00:00<00:00, 240.35batches/s]\n",
      "Train Epoch 331/500:   0%|          | 0/177 [00:00<?, ?batches/s]"
     ]
    },
    {
     "name": "stdout",
     "output_type": "stream",
     "text": [
      "epoch 329, val accuracy: 0.94312675337924\n"
     ]
    },
    {
     "name": "stderr",
     "output_type": "stream",
     "text": [
      "Train Epoch 331/500: 100%|██████████| 177/177 [00:01<00:00, 102.78batches/s]\n",
      "Train Accuracy Epoch 331/500: 100%|██████████| 177/177 [00:01<00:00, 173.86batches/s]\n",
      "Val Accuracy Epoch 331/500: 100%|██████████| 20/20 [00:00<00:00, 238.78batches/s]\n",
      "Train Epoch 332/500:   0%|          | 0/177 [00:00<?, ?batches/s]"
     ]
    },
    {
     "name": "stdout",
     "output_type": "stream",
     "text": [
      "epoch 330, val accuracy: 0.9696505993369039\n"
     ]
    },
    {
     "name": "stderr",
     "output_type": "stream",
     "text": [
      "Train Epoch 332/500: 100%|██████████| 177/177 [00:01<00:00, 104.49batches/s]\n",
      "Train Accuracy Epoch 332/500: 100%|██████████| 177/177 [00:01<00:00, 174.60batches/s]\n",
      "Val Accuracy Epoch 332/500: 100%|██████████| 20/20 [00:00<00:00, 242.62batches/s]\n",
      "Train Epoch 333/500:   0%|          | 0/177 [00:00<?, ?batches/s]"
     ]
    },
    {
     "name": "stdout",
     "output_type": "stream",
     "text": [
      "epoch 331, val accuracy: 0.969905636317266\n"
     ]
    },
    {
     "name": "stderr",
     "output_type": "stream",
     "text": [
      "Train Epoch 333/500: 100%|██████████| 177/177 [00:01<00:00, 104.25batches/s]\n",
      "Train Accuracy Epoch 333/500: 100%|██████████| 177/177 [00:01<00:00, 174.49batches/s]\n",
      "Val Accuracy Epoch 333/500: 100%|██████████| 20/20 [00:00<00:00, 244.59batches/s]\n",
      "Train Epoch 334/500:   0%|          | 0/177 [00:00<?, ?batches/s]"
     ]
    },
    {
     "name": "stdout",
     "output_type": "stream",
     "text": [
      "epoch 332, val accuracy: 0.9696505993369039\n"
     ]
    },
    {
     "name": "stderr",
     "output_type": "stream",
     "text": [
      "Train Epoch 334/500: 100%|██████████| 177/177 [00:01<00:00, 104.33batches/s]\n",
      "Train Accuracy Epoch 334/500: 100%|██████████| 177/177 [00:01<00:00, 163.45batches/s]\n",
      "Val Accuracy Epoch 334/500: 100%|██████████| 20/20 [00:00<00:00, 237.25batches/s]\n",
      "Train Epoch 335/500:   0%|          | 0/177 [00:00<?, ?batches/s]"
     ]
    },
    {
     "name": "stdout",
     "output_type": "stream",
     "text": [
      "epoch 333, val accuracy: 0.9696505993369039\n"
     ]
    },
    {
     "name": "stderr",
     "output_type": "stream",
     "text": [
      "Train Epoch 335/500: 100%|██████████| 177/177 [00:01<00:00, 103.73batches/s]\n",
      "Train Accuracy Epoch 335/500: 100%|██████████| 177/177 [00:01<00:00, 168.00batches/s]\n",
      "Val Accuracy Epoch 335/500: 100%|██████████| 20/20 [00:00<00:00, 234.67batches/s]\n",
      "Train Epoch 336/500:   0%|          | 0/177 [00:00<?, ?batches/s]"
     ]
    },
    {
     "name": "stdout",
     "output_type": "stream",
     "text": [
      "epoch 334, val accuracy: 0.9709257842387146\n"
     ]
    },
    {
     "name": "stderr",
     "output_type": "stream",
     "text": [
      "Train Epoch 336/500: 100%|██████████| 177/177 [00:01<00:00, 103.43batches/s]\n",
      "Train Accuracy Epoch 336/500: 100%|██████████| 177/177 [00:01<00:00, 173.82batches/s]\n",
      "Val Accuracy Epoch 336/500: 100%|██████████| 20/20 [00:00<00:00, 240.42batches/s]\n",
      "Train Epoch 337/500:   0%|          | 0/177 [00:00<?, ?batches/s]"
     ]
    },
    {
     "name": "stdout",
     "output_type": "stream",
     "text": [
      "epoch 335, val accuracy: 0.9686304514154552\n"
     ]
    },
    {
     "name": "stderr",
     "output_type": "stream",
     "text": [
      "Train Epoch 337/500: 100%|██████████| 177/177 [00:01<00:00, 104.40batches/s]\n",
      "Train Accuracy Epoch 337/500: 100%|██████████| 177/177 [00:01<00:00, 172.29batches/s]\n",
      "Val Accuracy Epoch 337/500: 100%|██████████| 20/20 [00:00<00:00, 235.61batches/s]\n",
      "Train Epoch 338/500:   0%|          | 0/177 [00:00<?, ?batches/s]"
     ]
    },
    {
     "name": "stdout",
     "output_type": "stream",
     "text": [
      "epoch 336, val accuracy: 0.9701606732976281\n"
     ]
    },
    {
     "name": "stderr",
     "output_type": "stream",
     "text": [
      "Train Epoch 338/500: 100%|██████████| 177/177 [00:01<00:00, 105.24batches/s]\n",
      "Train Accuracy Epoch 338/500: 100%|██████████| 177/177 [00:01<00:00, 171.61batches/s]\n",
      "Val Accuracy Epoch 338/500: 100%|██████████| 20/20 [00:00<00:00, 232.98batches/s]\n",
      "Train Epoch 339/500:   0%|          | 0/177 [00:00<?, ?batches/s]"
     ]
    },
    {
     "name": "stdout",
     "output_type": "stream",
     "text": [
      "epoch 337, val accuracy: 0.9706707472583525\n"
     ]
    },
    {
     "name": "stderr",
     "output_type": "stream",
     "text": [
      "Train Epoch 339/500: 100%|██████████| 177/177 [00:01<00:00, 104.89batches/s]\n",
      "Train Accuracy Epoch 339/500: 100%|██████████| 177/177 [00:01<00:00, 172.01batches/s]\n",
      "Val Accuracy Epoch 339/500: 100%|██████████| 20/20 [00:00<00:00, 233.09batches/s]\n",
      "Train Epoch 340/500:   0%|          | 0/177 [00:00<?, ?batches/s]"
     ]
    },
    {
     "name": "stdout",
     "output_type": "stream",
     "text": [
      "epoch 338, val accuracy: 0.9696505993369039\n"
     ]
    },
    {
     "name": "stderr",
     "output_type": "stream",
     "text": [
      "Train Epoch 340/500: 100%|██████████| 177/177 [00:01<00:00, 103.79batches/s]\n",
      "Train Accuracy Epoch 340/500: 100%|██████████| 177/177 [00:01<00:00, 171.64batches/s]\n",
      "Val Accuracy Epoch 340/500: 100%|██████████| 20/20 [00:00<00:00, 238.14batches/s]\n",
      "Train Epoch 341/500:   0%|          | 0/177 [00:00<?, ?batches/s]"
     ]
    },
    {
     "name": "stdout",
     "output_type": "stream",
     "text": [
      "epoch 339, val accuracy: 0.9553685284366233\n"
     ]
    },
    {
     "name": "stderr",
     "output_type": "stream",
     "text": [
      "Train Epoch 341/500: 100%|██████████| 177/177 [00:01<00:00, 104.27batches/s]\n",
      "Train Accuracy Epoch 341/500: 100%|██████████| 177/177 [00:01<00:00, 169.66batches/s]\n",
      "Val Accuracy Epoch 341/500: 100%|██████████| 20/20 [00:00<00:00, 237.38batches/s]\n",
      "Train Epoch 342/500:   0%|          | 0/177 [00:00<?, ?batches/s]"
     ]
    },
    {
     "name": "stdout",
     "output_type": "stream",
     "text": [
      "epoch 340, val accuracy: 0.9706707472583525\n"
     ]
    },
    {
     "name": "stderr",
     "output_type": "stream",
     "text": [
      "Train Epoch 342/500: 100%|██████████| 177/177 [00:01<00:00, 103.93batches/s]\n",
      "Train Accuracy Epoch 342/500: 100%|██████████| 177/177 [00:01<00:00, 163.26batches/s]\n",
      "Val Accuracy Epoch 342/500: 100%|██████████| 20/20 [00:00<00:00, 218.47batches/s]\n",
      "Train Epoch 343/500:   0%|          | 0/177 [00:00<?, ?batches/s]"
     ]
    },
    {
     "name": "stdout",
     "output_type": "stream",
     "text": [
      "epoch 341, val accuracy: 0.9711808212190768\n"
     ]
    },
    {
     "name": "stderr",
     "output_type": "stream",
     "text": [
      "Train Epoch 343/500: 100%|██████████| 177/177 [00:01<00:00, 103.85batches/s]\n",
      "Train Accuracy Epoch 343/500: 100%|██████████| 177/177 [00:01<00:00, 172.26batches/s]\n",
      "Val Accuracy Epoch 343/500: 100%|██████████| 20/20 [00:00<00:00, 235.57batches/s]\n",
      "Train Epoch 344/500:   0%|          | 0/177 [00:00<?, ?batches/s]"
     ]
    },
    {
     "name": "stdout",
     "output_type": "stream",
     "text": [
      "epoch 342, val accuracy: 0.9716908951798011\n"
     ]
    },
    {
     "name": "stderr",
     "output_type": "stream",
     "text": [
      "Train Epoch 344/500: 100%|██████████| 177/177 [00:01<00:00, 104.59batches/s]\n",
      "Train Accuracy Epoch 344/500: 100%|██████████| 177/177 [00:01<00:00, 174.54batches/s]\n",
      "Val Accuracy Epoch 344/500: 100%|██████████| 20/20 [00:00<00:00, 233.97batches/s]\n",
      "Train Epoch 345/500:   0%|          | 0/177 [00:00<?, ?batches/s]"
     ]
    },
    {
     "name": "stdout",
     "output_type": "stream",
     "text": [
      "epoch 343, val accuracy: 0.9701606732976281\n"
     ]
    },
    {
     "name": "stderr",
     "output_type": "stream",
     "text": [
      "Train Epoch 345/500: 100%|██████████| 177/177 [00:01<00:00, 103.64batches/s]\n",
      "Train Accuracy Epoch 345/500: 100%|██████████| 177/177 [00:01<00:00, 174.79batches/s]\n",
      "Val Accuracy Epoch 345/500: 100%|██████████| 20/20 [00:00<00:00, 241.70batches/s]\n",
      "Train Epoch 346/500:   0%|          | 0/177 [00:00<?, ?batches/s]"
     ]
    },
    {
     "name": "stdout",
     "output_type": "stream",
     "text": [
      "epoch 344, val accuracy: 0.9709257842387146\n"
     ]
    },
    {
     "name": "stderr",
     "output_type": "stream",
     "text": [
      "Train Epoch 346/500: 100%|██████████| 177/177 [00:01<00:00, 103.36batches/s]\n",
      "Train Accuracy Epoch 346/500: 100%|██████████| 177/177 [00:01<00:00, 173.82batches/s]\n",
      "Val Accuracy Epoch 346/500: 100%|██████████| 20/20 [00:00<00:00, 238.72batches/s]\n",
      "Train Epoch 347/500:   0%|          | 0/177 [00:00<?, ?batches/s]"
     ]
    },
    {
     "name": "stdout",
     "output_type": "stream",
     "text": [
      "epoch 345, val accuracy: 0.9716908951798011\n"
     ]
    },
    {
     "name": "stderr",
     "output_type": "stream",
     "text": [
      "Train Epoch 347/500: 100%|██████████| 177/177 [00:01<00:00, 105.03batches/s]\n",
      "Train Accuracy Epoch 347/500: 100%|██████████| 177/177 [00:01<00:00, 175.14batches/s]\n",
      "Val Accuracy Epoch 347/500: 100%|██████████| 20/20 [00:00<00:00, 239.43batches/s]\n",
      "Train Epoch 348/500:   0%|          | 0/177 [00:00<?, ?batches/s]"
     ]
    },
    {
     "name": "stdout",
     "output_type": "stream",
     "text": [
      "epoch 346, val accuracy: 0.9711808212190768\n"
     ]
    },
    {
     "name": "stderr",
     "output_type": "stream",
     "text": [
      "Train Epoch 348/500: 100%|██████████| 177/177 [00:01<00:00, 105.16batches/s]\n",
      "Train Accuracy Epoch 348/500: 100%|██████████| 177/177 [00:01<00:00, 175.78batches/s]\n",
      "Val Accuracy Epoch 348/500: 100%|██████████| 20/20 [00:00<00:00, 243.98batches/s]\n",
      "Train Epoch 349/500:   0%|          | 0/177 [00:00<?, ?batches/s]"
     ]
    },
    {
     "name": "stdout",
     "output_type": "stream",
     "text": [
      "epoch 347, val accuracy: 0.9696505993369039\n"
     ]
    },
    {
     "name": "stderr",
     "output_type": "stream",
     "text": [
      "Train Epoch 349/500: 100%|██████████| 177/177 [00:01<00:00, 105.52batches/s]\n",
      "Train Accuracy Epoch 349/500: 100%|██████████| 177/177 [00:01<00:00, 175.75batches/s]\n",
      "Val Accuracy Epoch 349/500: 100%|██████████| 20/20 [00:00<00:00, 245.00batches/s]\n",
      "Train Epoch 350/500:   0%|          | 0/177 [00:00<?, ?batches/s]"
     ]
    },
    {
     "name": "stdout",
     "output_type": "stream",
     "text": [
      "epoch 348, val accuracy: 0.9704157102779903\n"
     ]
    },
    {
     "name": "stderr",
     "output_type": "stream",
     "text": [
      "Train Epoch 350/500: 100%|██████████| 177/177 [00:01<00:00, 105.56batches/s]\n",
      "Train Accuracy Epoch 350/500: 100%|██████████| 177/177 [00:01<00:00, 174.36batches/s]\n",
      "Val Accuracy Epoch 350/500: 100%|██████████| 20/20 [00:00<00:00, 242.94batches/s]\n",
      "Train Epoch 351/500:   0%|          | 0/177 [00:00<?, ?batches/s]"
     ]
    },
    {
     "name": "stdout",
     "output_type": "stream",
     "text": [
      "epoch 349, val accuracy: 0.9709257842387146\n"
     ]
    },
    {
     "name": "stderr",
     "output_type": "stream",
     "text": [
      "Train Epoch 351/500: 100%|██████████| 177/177 [00:01<00:00, 105.28batches/s]\n",
      "Train Accuracy Epoch 351/500: 100%|██████████| 177/177 [00:01<00:00, 174.87batches/s]\n",
      "Val Accuracy Epoch 351/500: 100%|██████████| 20/20 [00:00<00:00, 240.75batches/s]\n",
      "Train Epoch 352/500:   0%|          | 0/177 [00:00<?, ?batches/s]"
     ]
    },
    {
     "name": "stdout",
     "output_type": "stream",
     "text": [
      "epoch 350, val accuracy: 0.9711808212190768\n"
     ]
    },
    {
     "name": "stderr",
     "output_type": "stream",
     "text": [
      "Train Epoch 352/500: 100%|██████████| 177/177 [00:01<00:00, 105.17batches/s]\n",
      "Train Accuracy Epoch 352/500: 100%|██████████| 177/177 [00:01<00:00, 174.71batches/s]\n",
      "Val Accuracy Epoch 352/500: 100%|██████████| 20/20 [00:00<00:00, 239.35batches/s]\n",
      "Train Epoch 353/500:   0%|          | 0/177 [00:00<?, ?batches/s]"
     ]
    },
    {
     "name": "stdout",
     "output_type": "stream",
     "text": [
      "epoch 351, val accuracy: 0.9701606732976281\n"
     ]
    },
    {
     "name": "stderr",
     "output_type": "stream",
     "text": [
      "Train Epoch 353/500: 100%|██████████| 177/177 [00:01<00:00, 102.77batches/s]\n",
      "Train Accuracy Epoch 353/500: 100%|██████████| 177/177 [00:01<00:00, 173.56batches/s]\n",
      "Val Accuracy Epoch 353/500: 100%|██████████| 20/20 [00:00<00:00, 239.49batches/s]\n",
      "Train Epoch 354/500:   0%|          | 0/177 [00:00<?, ?batches/s]"
     ]
    },
    {
     "name": "stdout",
     "output_type": "stream",
     "text": [
      "epoch 352, val accuracy: 0.9683754144350931\n"
     ]
    },
    {
     "name": "stderr",
     "output_type": "stream",
     "text": [
      "Train Epoch 354/500: 100%|██████████| 177/177 [00:01<00:00, 104.10batches/s]\n",
      "Train Accuracy Epoch 354/500: 100%|██████████| 177/177 [00:01<00:00, 171.41batches/s]\n",
      "Val Accuracy Epoch 354/500: 100%|██████████| 20/20 [00:00<00:00, 238.17batches/s]\n"
     ]
    },
    {
     "name": "stdout",
     "output_type": "stream",
     "text": [
      "epoch 353, val accuracy: 0.9262943126753379\n"
     ]
    },
    {
     "name": "stderr",
     "output_type": "stream",
     "text": [
      "Train Epoch 355/500: 100%|██████████| 177/177 [00:01<00:00, 103.02batches/s]\n",
      "Train Accuracy Epoch 355/500: 100%|██████████| 177/177 [00:01<00:00, 173.25batches/s]\n",
      "Val Accuracy Epoch 355/500: 100%|██████████| 20/20 [00:00<00:00, 239.59batches/s]\n",
      "Train Epoch 356/500:   0%|          | 0/177 [00:00<?, ?batches/s]"
     ]
    },
    {
     "name": "stdout",
     "output_type": "stream",
     "text": [
      "epoch 354, val accuracy: 0.9709257842387146\n"
     ]
    },
    {
     "name": "stderr",
     "output_type": "stream",
     "text": [
      "Train Epoch 356/500: 100%|██████████| 177/177 [00:01<00:00, 103.33batches/s]\n",
      "Train Accuracy Epoch 356/500: 100%|██████████| 177/177 [00:01<00:00, 171.81batches/s]\n",
      "Val Accuracy Epoch 356/500: 100%|██████████| 20/20 [00:00<00:00, 239.17batches/s]\n",
      "Train Epoch 357/500:   0%|          | 0/177 [00:00<?, ?batches/s]"
     ]
    },
    {
     "name": "stdout",
     "output_type": "stream",
     "text": [
      "epoch 355, val accuracy: 0.9704157102779903\n"
     ]
    },
    {
     "name": "stderr",
     "output_type": "stream",
     "text": [
      "Train Epoch 357/500: 100%|██████████| 177/177 [00:01<00:00, 104.89batches/s]\n",
      "Train Accuracy Epoch 357/500: 100%|██████████| 177/177 [00:01<00:00, 173.27batches/s]\n",
      "Val Accuracy Epoch 357/500: 100%|██████████| 20/20 [00:00<00:00, 235.84batches/s]\n",
      "Train Epoch 358/500:   0%|          | 0/177 [00:00<?, ?batches/s]"
     ]
    },
    {
     "name": "stdout",
     "output_type": "stream",
     "text": [
      "epoch 356, val accuracy: 0.9668451925529201\n"
     ]
    },
    {
     "name": "stderr",
     "output_type": "stream",
     "text": [
      "Train Epoch 358/500: 100%|██████████| 177/177 [00:01<00:00, 103.85batches/s]\n",
      "Train Accuracy Epoch 358/500: 100%|██████████| 177/177 [00:01<00:00, 169.31batches/s]\n",
      "Val Accuracy Epoch 358/500: 100%|██████████| 20/20 [00:00<00:00, 236.28batches/s]\n",
      "Train Epoch 359/500:   0%|          | 0/177 [00:00<?, ?batches/s]"
     ]
    },
    {
     "name": "stdout",
     "output_type": "stream",
     "text": [
      "epoch 357, val accuracy: 0.9709257842387146\n"
     ]
    },
    {
     "name": "stderr",
     "output_type": "stream",
     "text": [
      "Train Epoch 359/500: 100%|██████████| 177/177 [00:01<00:00, 103.99batches/s]\n",
      "Train Accuracy Epoch 359/500: 100%|██████████| 177/177 [00:01<00:00, 175.03batches/s]\n",
      "Val Accuracy Epoch 359/500: 100%|██████████| 20/20 [00:00<00:00, 242.09batches/s]\n",
      "Train Epoch 360/500:   0%|          | 0/177 [00:00<?, ?batches/s]"
     ]
    },
    {
     "name": "stdout",
     "output_type": "stream",
     "text": [
      "epoch 358, val accuracy: 0.9706707472583525\n"
     ]
    },
    {
     "name": "stderr",
     "output_type": "stream",
     "text": [
      "Train Epoch 360/500: 100%|██████████| 177/177 [00:01<00:00, 105.04batches/s]\n",
      "Train Accuracy Epoch 360/500: 100%|██████████| 177/177 [00:01<00:00, 172.39batches/s]\n",
      "Val Accuracy Epoch 360/500: 100%|██████████| 20/20 [00:00<00:00, 241.87batches/s]\n",
      "Train Epoch 361/500:   0%|          | 0/177 [00:00<?, ?batches/s]"
     ]
    },
    {
     "name": "stdout",
     "output_type": "stream",
     "text": [
      "epoch 359, val accuracy: 0.9706707472583525\n"
     ]
    },
    {
     "name": "stderr",
     "output_type": "stream",
     "text": [
      "Train Epoch 361/500: 100%|██████████| 177/177 [00:01<00:00, 100.83batches/s]\n",
      "Train Accuracy Epoch 361/500: 100%|██████████| 177/177 [00:01<00:00, 166.20batches/s]\n",
      "Val Accuracy Epoch 361/500: 100%|██████████| 20/20 [00:00<00:00, 235.37batches/s]\n",
      "Train Epoch 362/500:   0%|          | 0/177 [00:00<?, ?batches/s]"
     ]
    },
    {
     "name": "stdout",
     "output_type": "stream",
     "text": [
      "epoch 360, val accuracy: 0.9709257842387146\n"
     ]
    },
    {
     "name": "stderr",
     "output_type": "stream",
     "text": [
      "Train Epoch 362/500: 100%|██████████| 177/177 [00:01<00:00, 103.25batches/s]\n",
      "Train Accuracy Epoch 362/500: 100%|██████████| 177/177 [00:01<00:00, 172.03batches/s]\n",
      "Val Accuracy Epoch 362/500: 100%|██████████| 20/20 [00:00<00:00, 238.74batches/s]\n",
      "Train Epoch 363/500:   0%|          | 0/177 [00:00<?, ?batches/s]"
     ]
    },
    {
     "name": "stdout",
     "output_type": "stream",
     "text": [
      "epoch 361, val accuracy: 0.969905636317266\n"
     ]
    },
    {
     "name": "stderr",
     "output_type": "stream",
     "text": [
      "Train Epoch 363/500: 100%|██████████| 177/177 [00:01<00:00, 104.11batches/s]\n",
      "Train Accuracy Epoch 363/500: 100%|██████████| 177/177 [00:01<00:00, 166.50batches/s]\n",
      "Val Accuracy Epoch 363/500: 100%|██████████| 20/20 [00:00<00:00, 226.39batches/s]\n",
      "Train Epoch 364/500:   0%|          | 0/177 [00:00<?, ?batches/s]"
     ]
    },
    {
     "name": "stdout",
     "output_type": "stream",
     "text": [
      "epoch 362, val accuracy: 0.9617444529456771\n"
     ]
    },
    {
     "name": "stderr",
     "output_type": "stream",
     "text": [
      "Train Epoch 364/500: 100%|██████████| 177/177 [00:01<00:00, 99.82batches/s] \n",
      "Train Accuracy Epoch 364/500: 100%|██████████| 177/177 [00:01<00:00, 164.21batches/s]\n",
      "Val Accuracy Epoch 364/500: 100%|██████████| 20/20 [00:00<00:00, 228.24batches/s]\n",
      "Train Epoch 365/500:   0%|          | 0/177 [00:00<?, ?batches/s]"
     ]
    },
    {
     "name": "stdout",
     "output_type": "stream",
     "text": [
      "epoch 363, val accuracy: 0.9706707472583525\n"
     ]
    },
    {
     "name": "stderr",
     "output_type": "stream",
     "text": [
      "Train Epoch 365/500: 100%|██████████| 177/177 [00:01<00:00, 104.05batches/s]\n",
      "Train Accuracy Epoch 365/500: 100%|██████████| 177/177 [00:01<00:00, 171.59batches/s]\n",
      "Val Accuracy Epoch 365/500: 100%|██████████| 20/20 [00:00<00:00, 241.42batches/s]\n",
      "Train Epoch 366/500:   0%|          | 0/177 [00:00<?, ?batches/s]"
     ]
    },
    {
     "name": "stdout",
     "output_type": "stream",
     "text": [
      "epoch 364, val accuracy: 0.9683754144350931\n"
     ]
    },
    {
     "name": "stderr",
     "output_type": "stream",
     "text": [
      "Train Epoch 366/500: 100%|██████████| 177/177 [00:01<00:00, 104.49batches/s]\n",
      "Train Accuracy Epoch 366/500: 100%|██████████| 177/177 [00:01<00:00, 174.49batches/s]\n",
      "Val Accuracy Epoch 366/500: 100%|██████████| 20/20 [00:00<00:00, 240.91batches/s]\n",
      "Train Epoch 367/500:   0%|          | 0/177 [00:00<?, ?batches/s]"
     ]
    },
    {
     "name": "stdout",
     "output_type": "stream",
     "text": [
      "epoch 365, val accuracy: 0.9711808212190768\n"
     ]
    },
    {
     "name": "stderr",
     "output_type": "stream",
     "text": [
      "Train Epoch 367/500: 100%|██████████| 177/177 [00:01<00:00, 105.20batches/s]\n",
      "Train Accuracy Epoch 367/500: 100%|██████████| 177/177 [00:01<00:00, 174.05batches/s]\n",
      "Val Accuracy Epoch 367/500: 100%|██████████| 20/20 [00:00<00:00, 238.67batches/s]\n",
      "Train Epoch 368/500:   0%|          | 0/177 [00:00<?, ?batches/s]"
     ]
    },
    {
     "name": "stdout",
     "output_type": "stream",
     "text": [
      "epoch 366, val accuracy: 0.9724560061208876\n"
     ]
    },
    {
     "name": "stderr",
     "output_type": "stream",
     "text": [
      "Train Epoch 368/500: 100%|██████████| 177/177 [00:01<00:00, 105.10batches/s]\n",
      "Train Accuracy Epoch 368/500: 100%|██████████| 177/177 [00:01<00:00, 174.23batches/s]\n",
      "Val Accuracy Epoch 368/500: 100%|██████████| 20/20 [00:00<00:00, 238.52batches/s]\n",
      "Train Epoch 369/500:   0%|          | 0/177 [00:00<?, ?batches/s]"
     ]
    },
    {
     "name": "stdout",
     "output_type": "stream",
     "text": [
      "epoch 367, val accuracy: 0.9706707472583525\n"
     ]
    },
    {
     "name": "stderr",
     "output_type": "stream",
     "text": [
      "Train Epoch 369/500: 100%|██████████| 177/177 [00:01<00:00, 105.58batches/s]\n",
      "Train Accuracy Epoch 369/500: 100%|██████████| 177/177 [00:01<00:00, 174.83batches/s]\n",
      "Val Accuracy Epoch 369/500: 100%|██████████| 20/20 [00:00<00:00, 238.77batches/s]\n",
      "Train Epoch 370/500:   0%|          | 0/177 [00:00<?, ?batches/s]"
     ]
    },
    {
     "name": "stdout",
     "output_type": "stream",
     "text": [
      "epoch 368, val accuracy: 0.9706707472583525\n"
     ]
    },
    {
     "name": "stderr",
     "output_type": "stream",
     "text": [
      "Train Epoch 370/500: 100%|██████████| 177/177 [00:01<00:00, 105.41batches/s]\n",
      "Train Accuracy Epoch 370/500: 100%|██████████| 177/177 [00:01<00:00, 175.32batches/s]\n",
      "Val Accuracy Epoch 370/500: 100%|██████████| 20/20 [00:00<00:00, 239.25batches/s]\n",
      "Train Epoch 371/500:   0%|          | 0/177 [00:00<?, ?batches/s]"
     ]
    },
    {
     "name": "stdout",
     "output_type": "stream",
     "text": [
      "epoch 369, val accuracy: 0.958173935220607\n"
     ]
    },
    {
     "name": "stderr",
     "output_type": "stream",
     "text": [
      "Train Epoch 371/500: 100%|██████████| 177/177 [00:01<00:00, 105.55batches/s]\n",
      "Train Accuracy Epoch 371/500: 100%|██████████| 177/177 [00:01<00:00, 174.39batches/s]\n",
      "Val Accuracy Epoch 371/500: 100%|██████████| 20/20 [00:00<00:00, 236.69batches/s]\n",
      "Train Epoch 372/500:   0%|          | 0/177 [00:00<?, ?batches/s]"
     ]
    },
    {
     "name": "stdout",
     "output_type": "stream",
     "text": [
      "epoch 370, val accuracy: 0.9617444529456771\n"
     ]
    },
    {
     "name": "stderr",
     "output_type": "stream",
     "text": [
      "Train Epoch 372/500: 100%|██████████| 177/177 [00:01<00:00, 104.90batches/s]\n",
      "Train Accuracy Epoch 372/500: 100%|██████████| 177/177 [00:01<00:00, 174.21batches/s]\n",
      "Val Accuracy Epoch 372/500: 100%|██████████| 20/20 [00:00<00:00, 234.32batches/s]\n",
      "Train Epoch 373/500:   0%|          | 0/177 [00:00<?, ?batches/s]"
     ]
    },
    {
     "name": "stdout",
     "output_type": "stream",
     "text": [
      "epoch 371, val accuracy: 0.969905636317266\n"
     ]
    },
    {
     "name": "stderr",
     "output_type": "stream",
     "text": [
      "Train Epoch 373/500: 100%|██████████| 177/177 [00:01<00:00, 105.38batches/s]\n",
      "Train Accuracy Epoch 373/500: 100%|██████████| 177/177 [00:01<00:00, 174.21batches/s]\n",
      "Val Accuracy Epoch 373/500: 100%|██████████| 20/20 [00:00<00:00, 239.27batches/s]\n",
      "Train Epoch 374/500:   0%|          | 0/177 [00:00<?, ?batches/s]"
     ]
    },
    {
     "name": "stdout",
     "output_type": "stream",
     "text": [
      "epoch 372, val accuracy: 0.9706707472583525\n"
     ]
    },
    {
     "name": "stderr",
     "output_type": "stream",
     "text": [
      "Train Epoch 374/500: 100%|██████████| 177/177 [00:01<00:00, 105.22batches/s]\n",
      "Train Accuracy Epoch 374/500: 100%|██████████| 177/177 [00:01<00:00, 174.65batches/s]\n",
      "Val Accuracy Epoch 374/500: 100%|██████████| 20/20 [00:00<00:00, 242.03batches/s]\n",
      "Train Epoch 375/500:   0%|          | 0/177 [00:00<?, ?batches/s]"
     ]
    },
    {
     "name": "stdout",
     "output_type": "stream",
     "text": [
      "epoch 373, val accuracy: 0.9658250446314716\n"
     ]
    },
    {
     "name": "stderr",
     "output_type": "stream",
     "text": [
      "Train Epoch 375/500: 100%|██████████| 177/177 [00:01<00:00, 105.10batches/s]\n",
      "Train Accuracy Epoch 375/500: 100%|██████████| 177/177 [00:01<00:00, 174.09batches/s]\n",
      "Val Accuracy Epoch 375/500: 100%|██████████| 20/20 [00:00<00:00, 242.54batches/s]\n",
      "Train Epoch 376/500:   0%|          | 0/177 [00:00<?, ?batches/s]"
     ]
    },
    {
     "name": "stdout",
     "output_type": "stream",
     "text": [
      "epoch 374, val accuracy: 0.9706707472583525\n"
     ]
    },
    {
     "name": "stderr",
     "output_type": "stream",
     "text": [
      "Train Epoch 376/500: 100%|██████████| 177/177 [00:01<00:00, 104.92batches/s]\n",
      "Train Accuracy Epoch 376/500: 100%|██████████| 177/177 [00:01<00:00, 174.20batches/s]\n",
      "Val Accuracy Epoch 376/500: 100%|██████████| 20/20 [00:00<00:00, 240.01batches/s]\n",
      "Train Epoch 377/500:   0%|          | 0/177 [00:00<?, ?batches/s]"
     ]
    },
    {
     "name": "stdout",
     "output_type": "stream",
     "text": [
      "epoch 375, val accuracy: 0.9716908951798011\n"
     ]
    },
    {
     "name": "stderr",
     "output_type": "stream",
     "text": [
      "Train Epoch 377/500: 100%|██████████| 177/177 [00:01<00:00, 105.27batches/s]\n",
      "Train Accuracy Epoch 377/500: 100%|██████████| 177/177 [00:01<00:00, 175.39batches/s]\n",
      "Val Accuracy Epoch 377/500: 100%|██████████| 20/20 [00:00<00:00, 245.47batches/s]\n",
      "Train Epoch 378/500:   0%|          | 0/177 [00:00<?, ?batches/s]"
     ]
    },
    {
     "name": "stdout",
     "output_type": "stream",
     "text": [
      "epoch 376, val accuracy: 0.9716908951798011\n"
     ]
    },
    {
     "name": "stderr",
     "output_type": "stream",
     "text": [
      "Train Epoch 378/500: 100%|██████████| 177/177 [00:01<00:00, 105.52batches/s]\n",
      "Train Accuracy Epoch 378/500: 100%|██████████| 177/177 [00:01<00:00, 175.74batches/s]\n",
      "Val Accuracy Epoch 378/500: 100%|██████████| 20/20 [00:00<00:00, 243.62batches/s]\n",
      "Train Epoch 379/500:   0%|          | 0/177 [00:00<?, ?batches/s]"
     ]
    },
    {
     "name": "stdout",
     "output_type": "stream",
     "text": [
      "epoch 377, val accuracy: 0.9716908951798011\n"
     ]
    },
    {
     "name": "stderr",
     "output_type": "stream",
     "text": [
      "Train Epoch 379/500: 100%|██████████| 177/177 [00:01<00:00, 105.38batches/s]\n",
      "Train Accuracy Epoch 379/500: 100%|██████████| 177/177 [00:01<00:00, 174.79batches/s]\n",
      "Val Accuracy Epoch 379/500: 100%|██████████| 20/20 [00:00<00:00, 239.50batches/s]\n",
      "Train Epoch 380/500:   0%|          | 0/177 [00:00<?, ?batches/s]"
     ]
    },
    {
     "name": "stdout",
     "output_type": "stream",
     "text": [
      "epoch 378, val accuracy: 0.9709257842387146\n"
     ]
    },
    {
     "name": "stderr",
     "output_type": "stream",
     "text": [
      "Train Epoch 380/500: 100%|██████████| 177/177 [00:01<00:00, 104.87batches/s]\n",
      "Train Accuracy Epoch 380/500: 100%|██████████| 177/177 [00:01<00:00, 174.07batches/s]\n",
      "Val Accuracy Epoch 380/500: 100%|██████████| 20/20 [00:00<00:00, 242.76batches/s]\n",
      "Train Epoch 381/500:   0%|          | 0/177 [00:00<?, ?batches/s]"
     ]
    },
    {
     "name": "stdout",
     "output_type": "stream",
     "text": [
      "epoch 379, val accuracy: 0.9719459321601632\n"
     ]
    },
    {
     "name": "stderr",
     "output_type": "stream",
     "text": [
      "Train Epoch 381/500: 100%|██████████| 177/177 [00:01<00:00, 105.31batches/s]\n",
      "Train Accuracy Epoch 381/500: 100%|██████████| 177/177 [00:01<00:00, 175.19batches/s]\n",
      "Val Accuracy Epoch 381/500: 100%|██████████| 20/20 [00:00<00:00, 244.71batches/s]\n",
      "Train Epoch 382/500:   0%|          | 0/177 [00:00<?, ?batches/s]"
     ]
    },
    {
     "name": "stdout",
     "output_type": "stream",
     "text": [
      "epoch 380, val accuracy: 0.9716908951798011\n"
     ]
    },
    {
     "name": "stderr",
     "output_type": "stream",
     "text": [
      "Train Epoch 382/500: 100%|██████████| 177/177 [00:01<00:00, 104.12batches/s]\n",
      "Train Accuracy Epoch 382/500: 100%|██████████| 177/177 [00:01<00:00, 172.11batches/s]\n",
      "Val Accuracy Epoch 382/500: 100%|██████████| 20/20 [00:00<00:00, 241.57batches/s]\n"
     ]
    },
    {
     "name": "stdout",
     "output_type": "stream",
     "text": [
      "epoch 381, val accuracy: 0.9693955623565417\n"
     ]
    },
    {
     "name": "stderr",
     "output_type": "stream",
     "text": [
      "Train Epoch 383/500: 100%|██████████| 177/177 [00:01<00:00, 103.26batches/s]\n",
      "Train Accuracy Epoch 383/500: 100%|██████████| 177/177 [00:01<00:00, 172.66batches/s]\n",
      "Val Accuracy Epoch 383/500: 100%|██████████| 20/20 [00:00<00:00, 239.46batches/s]\n",
      "Train Epoch 384/500:   0%|          | 0/177 [00:00<?, ?batches/s]"
     ]
    },
    {
     "name": "stdout",
     "output_type": "stream",
     "text": [
      "epoch 382, val accuracy: 0.9716908951798011\n"
     ]
    },
    {
     "name": "stderr",
     "output_type": "stream",
     "text": [
      "Train Epoch 384/500: 100%|██████████| 177/177 [00:01<00:00, 102.88batches/s]\n",
      "Train Accuracy Epoch 384/500: 100%|██████████| 177/177 [00:01<00:00, 171.34batches/s]\n",
      "Val Accuracy Epoch 384/500: 100%|██████████| 20/20 [00:00<00:00, 236.30batches/s]\n",
      "Train Epoch 385/500:   0%|          | 0/177 [00:00<?, ?batches/s]"
     ]
    },
    {
     "name": "stdout",
     "output_type": "stream",
     "text": [
      "epoch 383, val accuracy: 0.9709257842387146\n"
     ]
    },
    {
     "name": "stderr",
     "output_type": "stream",
     "text": [
      "Train Epoch 385/500: 100%|██████████| 177/177 [00:01<00:00, 102.84batches/s]\n",
      "Train Accuracy Epoch 385/500: 100%|██████████| 177/177 [00:01<00:00, 170.36batches/s]\n",
      "Val Accuracy Epoch 385/500: 100%|██████████| 20/20 [00:00<00:00, 230.43batches/s]\n",
      "Train Epoch 386/500:   0%|          | 0/177 [00:00<?, ?batches/s]"
     ]
    },
    {
     "name": "stdout",
     "output_type": "stream",
     "text": [
      "epoch 384, val accuracy: 0.9706707472583525\n"
     ]
    },
    {
     "name": "stderr",
     "output_type": "stream",
     "text": [
      "Train Epoch 386/500: 100%|██████████| 177/177 [00:01<00:00, 102.77batches/s]\n",
      "Train Accuracy Epoch 386/500: 100%|██████████| 177/177 [00:01<00:00, 170.78batches/s]\n",
      "Val Accuracy Epoch 386/500: 100%|██████████| 20/20 [00:00<00:00, 240.62batches/s]\n",
      "Train Epoch 387/500:   0%|          | 0/177 [00:00<?, ?batches/s]"
     ]
    },
    {
     "name": "stdout",
     "output_type": "stream",
     "text": [
      "epoch 385, val accuracy: 0.9693955623565417\n"
     ]
    },
    {
     "name": "stderr",
     "output_type": "stream",
     "text": [
      "Train Epoch 387/500: 100%|██████████| 177/177 [00:01<00:00, 103.94batches/s]\n",
      "Train Accuracy Epoch 387/500: 100%|██████████| 177/177 [00:01<00:00, 172.49batches/s]\n",
      "Val Accuracy Epoch 387/500: 100%|██████████| 20/20 [00:00<00:00, 238.01batches/s]\n",
      "Train Epoch 388/500:   0%|          | 0/177 [00:00<?, ?batches/s]"
     ]
    },
    {
     "name": "stdout",
     "output_type": "stream",
     "text": [
      "epoch 386, val accuracy: 0.9711808212190768\n"
     ]
    },
    {
     "name": "stderr",
     "output_type": "stream",
     "text": [
      "Train Epoch 388/500: 100%|██████████| 177/177 [00:01<00:00, 103.59batches/s]\n",
      "Train Accuracy Epoch 388/500: 100%|██████████| 177/177 [00:01<00:00, 173.35batches/s]\n",
      "Val Accuracy Epoch 388/500: 100%|██████████| 20/20 [00:00<00:00, 238.91batches/s]\n",
      "Train Epoch 389/500:   0%|          | 0/177 [00:00<?, ?batches/s]"
     ]
    },
    {
     "name": "stdout",
     "output_type": "stream",
     "text": [
      "epoch 387, val accuracy: 0.9663351185921959\n"
     ]
    },
    {
     "name": "stderr",
     "output_type": "stream",
     "text": [
      "Train Epoch 389/500: 100%|██████████| 177/177 [00:01<00:00, 103.99batches/s]\n",
      "Train Accuracy Epoch 389/500: 100%|██████████| 177/177 [00:01<00:00, 172.57batches/s]\n",
      "Val Accuracy Epoch 389/500: 100%|██████████| 20/20 [00:00<00:00, 236.80batches/s]\n",
      "Train Epoch 390/500:   0%|          | 0/177 [00:00<?, ?batches/s]"
     ]
    },
    {
     "name": "stdout",
     "output_type": "stream",
     "text": [
      "epoch 388, val accuracy: 0.9658250446314716\n"
     ]
    },
    {
     "name": "stderr",
     "output_type": "stream",
     "text": [
      "Train Epoch 390/500: 100%|██████████| 177/177 [00:01<00:00, 104.83batches/s]\n",
      "Train Accuracy Epoch 390/500: 100%|██████████| 177/177 [00:01<00:00, 173.72batches/s]\n",
      "Val Accuracy Epoch 390/500: 100%|██████████| 20/20 [00:00<00:00, 240.43batches/s]\n",
      "Train Epoch 391/500:   0%|          | 0/177 [00:00<?, ?batches/s]"
     ]
    },
    {
     "name": "stdout",
     "output_type": "stream",
     "text": [
      "epoch 389, val accuracy: 0.9681203774547309\n"
     ]
    },
    {
     "name": "stderr",
     "output_type": "stream",
     "text": [
      "Train Epoch 391/500: 100%|██████████| 177/177 [00:01<00:00, 104.31batches/s]\n",
      "Train Accuracy Epoch 391/500: 100%|██████████| 177/177 [00:01<00:00, 173.83batches/s]\n",
      "Val Accuracy Epoch 391/500: 100%|██████████| 20/20 [00:00<00:00, 233.99batches/s]\n",
      "Train Epoch 392/500:   0%|          | 0/177 [00:00<?, ?batches/s]"
     ]
    },
    {
     "name": "stdout",
     "output_type": "stream",
     "text": [
      "epoch 390, val accuracy: 0.969905636317266\n"
     ]
    },
    {
     "name": "stderr",
     "output_type": "stream",
     "text": [
      "Train Epoch 392/500: 100%|██████████| 177/177 [00:01<00:00, 104.91batches/s]\n",
      "Train Accuracy Epoch 392/500: 100%|██████████| 177/177 [00:01<00:00, 173.36batches/s]\n",
      "Val Accuracy Epoch 392/500: 100%|██████████| 20/20 [00:00<00:00, 239.64batches/s]\n",
      "Train Epoch 393/500:   0%|          | 0/177 [00:00<?, ?batches/s]"
     ]
    },
    {
     "name": "stdout",
     "output_type": "stream",
     "text": [
      "epoch 391, val accuracy: 0.9711808212190768\n"
     ]
    },
    {
     "name": "stderr",
     "output_type": "stream",
     "text": [
      "Train Epoch 393/500: 100%|██████████| 177/177 [00:01<00:00, 104.68batches/s]\n",
      "Train Accuracy Epoch 393/500: 100%|██████████| 177/177 [00:01<00:00, 172.86batches/s]\n",
      "Val Accuracy Epoch 393/500: 100%|██████████| 20/20 [00:00<00:00, 244.27batches/s]\n",
      "Train Epoch 394/500:   0%|          | 0/177 [00:00<?, ?batches/s]"
     ]
    },
    {
     "name": "stdout",
     "output_type": "stream",
     "text": [
      "epoch 392, val accuracy: 0.9714358581994389\n"
     ]
    },
    {
     "name": "stderr",
     "output_type": "stream",
     "text": [
      "Train Epoch 394/500: 100%|██████████| 177/177 [00:01<00:00, 104.22batches/s]\n",
      "Train Accuracy Epoch 394/500: 100%|██████████| 177/177 [00:01<00:00, 174.18batches/s]\n",
      "Val Accuracy Epoch 394/500: 100%|██████████| 20/20 [00:00<00:00, 240.93batches/s]\n",
      "Train Epoch 395/500:   0%|          | 0/177 [00:00<?, ?batches/s]"
     ]
    },
    {
     "name": "stdout",
     "output_type": "stream",
     "text": [
      "epoch 393, val accuracy: 0.9716908951798011\n"
     ]
    },
    {
     "name": "stderr",
     "output_type": "stream",
     "text": [
      "Train Epoch 395/500: 100%|██████████| 177/177 [00:01<00:00, 104.45batches/s]\n",
      "Train Accuracy Epoch 395/500: 100%|██████████| 177/177 [00:01<00:00, 173.71batches/s]\n",
      "Val Accuracy Epoch 395/500: 100%|██████████| 20/20 [00:00<00:00, 236.16batches/s]\n",
      "Train Epoch 396/500:   0%|          | 0/177 [00:00<?, ?batches/s]"
     ]
    },
    {
     "name": "stdout",
     "output_type": "stream",
     "text": [
      "epoch 394, val accuracy: 0.9706707472583525\n"
     ]
    },
    {
     "name": "stderr",
     "output_type": "stream",
     "text": [
      "Train Epoch 396/500: 100%|██████████| 177/177 [00:01<00:00, 104.34batches/s]\n",
      "Train Accuracy Epoch 396/500: 100%|██████████| 177/177 [00:01<00:00, 175.05batches/s]\n",
      "Val Accuracy Epoch 396/500: 100%|██████████| 20/20 [00:00<00:00, 243.18batches/s]\n",
      "Train Epoch 397/500:   0%|          | 0/177 [00:00<?, ?batches/s]"
     ]
    },
    {
     "name": "stdout",
     "output_type": "stream",
     "text": [
      "epoch 395, val accuracy: 0.9714358581994389\n"
     ]
    },
    {
     "name": "stderr",
     "output_type": "stream",
     "text": [
      "Train Epoch 397/500: 100%|██████████| 177/177 [00:01<00:00, 104.80batches/s]\n",
      "Train Accuracy Epoch 397/500: 100%|██████████| 177/177 [00:01<00:00, 173.54batches/s]\n",
      "Val Accuracy Epoch 397/500: 100%|██████████| 20/20 [00:00<00:00, 243.61batches/s]\n",
      "Train Epoch 398/500:   0%|          | 0/177 [00:00<?, ?batches/s]"
     ]
    },
    {
     "name": "stdout",
     "output_type": "stream",
     "text": [
      "epoch 396, val accuracy: 0.9706707472583525\n"
     ]
    },
    {
     "name": "stderr",
     "output_type": "stream",
     "text": [
      "Train Epoch 398/500: 100%|██████████| 177/177 [00:01<00:00, 104.43batches/s]\n",
      "Train Accuracy Epoch 398/500: 100%|██████████| 177/177 [00:01<00:00, 174.26batches/s]\n",
      "Val Accuracy Epoch 398/500: 100%|██████████| 20/20 [00:00<00:00, 242.81batches/s]\n",
      "Train Epoch 399/500:   0%|          | 0/177 [00:00<?, ?batches/s]"
     ]
    },
    {
     "name": "stdout",
     "output_type": "stream",
     "text": [
      "epoch 397, val accuracy: 0.9706707472583525\n"
     ]
    },
    {
     "name": "stderr",
     "output_type": "stream",
     "text": [
      "Train Epoch 399/500: 100%|██████████| 177/177 [00:01<00:00, 103.84batches/s]\n",
      "Train Accuracy Epoch 399/500: 100%|██████████| 177/177 [00:01<00:00, 173.99batches/s]\n",
      "Val Accuracy Epoch 399/500: 100%|██████████| 20/20 [00:00<00:00, 242.98batches/s]\n",
      "Train Epoch 400/500:   0%|          | 0/177 [00:00<?, ?batches/s]"
     ]
    },
    {
     "name": "stdout",
     "output_type": "stream",
     "text": [
      "epoch 398, val accuracy: 0.9693955623565417\n"
     ]
    },
    {
     "name": "stderr",
     "output_type": "stream",
     "text": [
      "Train Epoch 400/500: 100%|██████████| 177/177 [00:01<00:00, 104.30batches/s]\n",
      "Train Accuracy Epoch 400/500: 100%|██████████| 177/177 [00:01<00:00, 173.47batches/s]\n",
      "Val Accuracy Epoch 400/500: 100%|██████████| 20/20 [00:00<00:00, 243.45batches/s]\n",
      "Train Epoch 401/500:   0%|          | 0/177 [00:00<?, ?batches/s]"
     ]
    },
    {
     "name": "stdout",
     "output_type": "stream",
     "text": [
      "epoch 399, val accuracy: 0.969905636317266\n"
     ]
    },
    {
     "name": "stderr",
     "output_type": "stream",
     "text": [
      "Train Epoch 401/500: 100%|██████████| 177/177 [00:01<00:00, 104.70batches/s]\n",
      "Train Accuracy Epoch 401/500: 100%|██████████| 177/177 [00:01<00:00, 173.58batches/s]\n",
      "Val Accuracy Epoch 401/500: 100%|██████████| 20/20 [00:00<00:00, 229.34batches/s]\n",
      "Train Epoch 402/500:   0%|          | 0/177 [00:00<?, ?batches/s]"
     ]
    },
    {
     "name": "stdout",
     "output_type": "stream",
     "text": [
      "epoch 400, val accuracy: 0.9706707472583525\n"
     ]
    },
    {
     "name": "stderr",
     "output_type": "stream",
     "text": [
      "Train Epoch 402/500: 100%|██████████| 177/177 [00:01<00:00, 104.75batches/s]\n",
      "Train Accuracy Epoch 402/500: 100%|██████████| 177/177 [00:01<00:00, 174.89batches/s]\n",
      "Val Accuracy Epoch 402/500: 100%|██████████| 20/20 [00:00<00:00, 241.07batches/s]\n",
      "Train Epoch 403/500:   0%|          | 0/177 [00:00<?, ?batches/s]"
     ]
    },
    {
     "name": "stdout",
     "output_type": "stream",
     "text": [
      "epoch 401, val accuracy: 0.9706707472583525\n"
     ]
    },
    {
     "name": "stderr",
     "output_type": "stream",
     "text": [
      "Train Epoch 403/500: 100%|██████████| 177/177 [00:01<00:00, 104.78batches/s]\n",
      "Train Accuracy Epoch 403/500: 100%|██████████| 177/177 [00:01<00:00, 173.80batches/s]\n",
      "Val Accuracy Epoch 403/500: 100%|██████████| 20/20 [00:00<00:00, 243.29batches/s]\n",
      "Train Epoch 404/500:   0%|          | 0/177 [00:00<?, ?batches/s]"
     ]
    },
    {
     "name": "stdout",
     "output_type": "stream",
     "text": [
      "epoch 402, val accuracy: 0.9701606732976281\n"
     ]
    },
    {
     "name": "stderr",
     "output_type": "stream",
     "text": [
      "Train Epoch 404/500: 100%|██████████| 177/177 [00:01<00:00, 105.01batches/s]\n",
      "Train Accuracy Epoch 404/500: 100%|██████████| 177/177 [00:01<00:00, 174.06batches/s]\n",
      "Val Accuracy Epoch 404/500: 100%|██████████| 20/20 [00:00<00:00, 239.42batches/s]\n",
      "Train Epoch 405/500:   0%|          | 0/177 [00:00<?, ?batches/s]"
     ]
    },
    {
     "name": "stdout",
     "output_type": "stream",
     "text": [
      "epoch 403, val accuracy: 0.9645498597296608\n"
     ]
    },
    {
     "name": "stderr",
     "output_type": "stream",
     "text": [
      "Train Epoch 405/500: 100%|██████████| 177/177 [00:01<00:00, 105.46batches/s]\n",
      "Train Accuracy Epoch 405/500: 100%|██████████| 177/177 [00:01<00:00, 173.27batches/s]\n",
      "Val Accuracy Epoch 405/500: 100%|██████████| 20/20 [00:00<00:00, 234.35batches/s]\n",
      "Train Epoch 406/500:   0%|          | 0/177 [00:00<?, ?batches/s]"
     ]
    },
    {
     "name": "stdout",
     "output_type": "stream",
     "text": [
      "epoch 404, val accuracy: 0.9714358581994389\n"
     ]
    },
    {
     "name": "stderr",
     "output_type": "stream",
     "text": [
      "Train Epoch 406/500: 100%|██████████| 177/177 [00:01<00:00, 105.13batches/s]\n",
      "Train Accuracy Epoch 406/500: 100%|██████████| 177/177 [00:01<00:00, 172.37batches/s]\n",
      "Val Accuracy Epoch 406/500: 100%|██████████| 20/20 [00:00<00:00, 239.63batches/s]\n",
      "Train Epoch 407/500:   0%|          | 0/177 [00:00<?, ?batches/s]"
     ]
    },
    {
     "name": "stdout",
     "output_type": "stream",
     "text": [
      "epoch 405, val accuracy: 0.9711808212190768\n"
     ]
    },
    {
     "name": "stderr",
     "output_type": "stream",
     "text": [
      "Train Epoch 407/500: 100%|██████████| 177/177 [00:01<00:00, 105.71batches/s]\n",
      "Train Accuracy Epoch 407/500: 100%|██████████| 177/177 [00:01<00:00, 173.98batches/s]\n",
      "Val Accuracy Epoch 407/500: 100%|██████████| 20/20 [00:00<00:00, 240.65batches/s]\n",
      "Train Epoch 408/500:   0%|          | 0/177 [00:00<?, ?batches/s]"
     ]
    },
    {
     "name": "stdout",
     "output_type": "stream",
     "text": [
      "epoch 406, val accuracy: 0.9706707472583525\n"
     ]
    },
    {
     "name": "stderr",
     "output_type": "stream",
     "text": [
      "Train Epoch 408/500: 100%|██████████| 177/177 [00:01<00:00, 105.49batches/s]\n",
      "Train Accuracy Epoch 408/500: 100%|██████████| 177/177 [00:01<00:00, 174.07batches/s]\n",
      "Val Accuracy Epoch 408/500: 100%|██████████| 20/20 [00:00<00:00, 233.24batches/s]\n",
      "Train Epoch 409/500:   0%|          | 0/177 [00:00<?, ?batches/s]"
     ]
    },
    {
     "name": "stdout",
     "output_type": "stream",
     "text": [
      "epoch 407, val accuracy: 0.9711808212190768\n"
     ]
    },
    {
     "name": "stderr",
     "output_type": "stream",
     "text": [
      "Train Epoch 409/500: 100%|██████████| 177/177 [00:01<00:00, 104.73batches/s]\n",
      "Train Accuracy Epoch 409/500: 100%|██████████| 177/177 [00:01<00:00, 173.23batches/s]\n",
      "Val Accuracy Epoch 409/500: 100%|██████████| 20/20 [00:00<00:00, 239.66batches/s]\n",
      "Train Epoch 410/500:   0%|          | 0/177 [00:00<?, ?batches/s]"
     ]
    },
    {
     "name": "stdout",
     "output_type": "stream",
     "text": [
      "epoch 408, val accuracy: 0.9696505993369039\n"
     ]
    },
    {
     "name": "stderr",
     "output_type": "stream",
     "text": [
      "Train Epoch 410/500: 100%|██████████| 177/177 [00:01<00:00, 105.98batches/s]\n",
      "Train Accuracy Epoch 410/500: 100%|██████████| 177/177 [00:01<00:00, 174.11batches/s]\n",
      "Val Accuracy Epoch 410/500: 100%|██████████| 20/20 [00:00<00:00, 240.38batches/s]\n",
      "Train Epoch 411/500:   0%|          | 0/177 [00:00<?, ?batches/s]"
     ]
    },
    {
     "name": "stdout",
     "output_type": "stream",
     "text": [
      "epoch 409, val accuracy: 0.9701606732976281\n"
     ]
    },
    {
     "name": "stderr",
     "output_type": "stream",
     "text": [
      "Train Epoch 411/500: 100%|██████████| 177/177 [00:01<00:00, 105.33batches/s]\n",
      "Train Accuracy Epoch 411/500: 100%|██████████| 177/177 [00:01<00:00, 172.82batches/s]\n",
      "Val Accuracy Epoch 411/500: 100%|██████████| 20/20 [00:00<00:00, 241.92batches/s]\n",
      "Train Epoch 412/500:   0%|          | 0/177 [00:00<?, ?batches/s]"
     ]
    },
    {
     "name": "stdout",
     "output_type": "stream",
     "text": [
      "epoch 410, val accuracy: 0.9714358581994389\n"
     ]
    },
    {
     "name": "stderr",
     "output_type": "stream",
     "text": [
      "Train Epoch 412/500: 100%|██████████| 177/177 [00:01<00:00, 104.44batches/s]\n",
      "Train Accuracy Epoch 412/500: 100%|██████████| 177/177 [00:01<00:00, 171.93batches/s]\n",
      "Val Accuracy Epoch 412/500: 100%|██████████| 20/20 [00:00<00:00, 240.54batches/s]\n",
      "Train Epoch 413/500:   0%|          | 0/177 [00:00<?, ?batches/s]"
     ]
    },
    {
     "name": "stdout",
     "output_type": "stream",
     "text": [
      "epoch 411, val accuracy: 0.9668451925529201\n"
     ]
    },
    {
     "name": "stderr",
     "output_type": "stream",
     "text": [
      "Train Epoch 413/500: 100%|██████████| 177/177 [00:01<00:00, 105.52batches/s]\n",
      "Train Accuracy Epoch 413/500: 100%|██████████| 177/177 [00:01<00:00, 173.08batches/s]\n",
      "Val Accuracy Epoch 413/500: 100%|██████████| 20/20 [00:00<00:00, 244.35batches/s]\n",
      "Train Epoch 414/500:   0%|          | 0/177 [00:00<?, ?batches/s]"
     ]
    },
    {
     "name": "stdout",
     "output_type": "stream",
     "text": [
      "epoch 412, val accuracy: 0.9706707472583525\n"
     ]
    },
    {
     "name": "stderr",
     "output_type": "stream",
     "text": [
      "Train Epoch 414/500: 100%|██████████| 177/177 [00:01<00:00, 105.76batches/s]\n",
      "Train Accuracy Epoch 414/500: 100%|██████████| 177/177 [00:01<00:00, 175.90batches/s]\n",
      "Val Accuracy Epoch 414/500: 100%|██████████| 20/20 [00:00<00:00, 244.40batches/s]\n",
      "Train Epoch 415/500:   0%|          | 0/177 [00:00<?, ?batches/s]"
     ]
    },
    {
     "name": "stdout",
     "output_type": "stream",
     "text": [
      "epoch 413, val accuracy: 0.9704157102779903\n"
     ]
    },
    {
     "name": "stderr",
     "output_type": "stream",
     "text": [
      "Train Epoch 415/500: 100%|██████████| 177/177 [00:01<00:00, 105.55batches/s]\n",
      "Train Accuracy Epoch 415/500: 100%|██████████| 177/177 [00:01<00:00, 173.52batches/s]\n",
      "Val Accuracy Epoch 415/500: 100%|██████████| 20/20 [00:00<00:00, 243.79batches/s]\n",
      "Train Epoch 416/500:   0%|          | 0/177 [00:00<?, ?batches/s]"
     ]
    },
    {
     "name": "stdout",
     "output_type": "stream",
     "text": [
      "epoch 414, val accuracy: 0.9709257842387146\n"
     ]
    },
    {
     "name": "stderr",
     "output_type": "stream",
     "text": [
      "Train Epoch 416/500: 100%|██████████| 177/177 [00:01<00:00, 105.67batches/s]\n",
      "Train Accuracy Epoch 416/500: 100%|██████████| 177/177 [00:01<00:00, 174.57batches/s]\n",
      "Val Accuracy Epoch 416/500: 100%|██████████| 20/20 [00:00<00:00, 244.02batches/s]\n",
      "Train Epoch 417/500:   0%|          | 0/177 [00:00<?, ?batches/s]"
     ]
    },
    {
     "name": "stdout",
     "output_type": "stream",
     "text": [
      "epoch 415, val accuracy: 0.9711808212190768\n"
     ]
    },
    {
     "name": "stderr",
     "output_type": "stream",
     "text": [
      "Train Epoch 417/500: 100%|██████████| 177/177 [00:01<00:00, 105.29batches/s]\n",
      "Train Accuracy Epoch 417/500: 100%|██████████| 177/177 [00:01<00:00, 173.60batches/s]\n",
      "Val Accuracy Epoch 417/500: 100%|██████████| 20/20 [00:00<00:00, 232.70batches/s]\n",
      "Train Epoch 418/500:   0%|          | 0/177 [00:00<?, ?batches/s]"
     ]
    },
    {
     "name": "stdout",
     "output_type": "stream",
     "text": [
      "epoch 416, val accuracy: 0.9706707472583525\n"
     ]
    },
    {
     "name": "stderr",
     "output_type": "stream",
     "text": [
      "Train Epoch 418/500: 100%|██████████| 177/177 [00:01<00:00, 103.16batches/s]\n",
      "Train Accuracy Epoch 418/500: 100%|██████████| 177/177 [00:01<00:00, 173.63batches/s]\n",
      "Val Accuracy Epoch 418/500: 100%|██████████| 20/20 [00:00<00:00, 228.96batches/s]\n",
      "Train Epoch 419/500:   0%|          | 0/177 [00:00<?, ?batches/s]"
     ]
    },
    {
     "name": "stdout",
     "output_type": "stream",
     "text": [
      "epoch 417, val accuracy: 0.9706707472583525\n"
     ]
    },
    {
     "name": "stderr",
     "output_type": "stream",
     "text": [
      "Train Epoch 419/500: 100%|██████████| 177/177 [00:01<00:00, 103.40batches/s]\n",
      "Train Accuracy Epoch 419/500: 100%|██████████| 177/177 [00:01<00:00, 171.28batches/s]\n",
      "Val Accuracy Epoch 419/500: 100%|██████████| 20/20 [00:00<00:00, 235.10batches/s]\n",
      "Train Epoch 420/500:   0%|          | 0/177 [00:00<?, ?batches/s]"
     ]
    },
    {
     "name": "stdout",
     "output_type": "stream",
     "text": [
      "epoch 418, val accuracy: 0.9701606732976281\n"
     ]
    },
    {
     "name": "stderr",
     "output_type": "stream",
     "text": [
      "Train Epoch 420/500: 100%|██████████| 177/177 [00:01<00:00, 104.12batches/s]\n",
      "Train Accuracy Epoch 420/500: 100%|██████████| 177/177 [00:01<00:00, 173.09batches/s]\n",
      "Val Accuracy Epoch 420/500: 100%|██████████| 20/20 [00:00<00:00, 238.38batches/s]\n",
      "Train Epoch 421/500:   0%|          | 0/177 [00:00<?, ?batches/s]"
     ]
    },
    {
     "name": "stdout",
     "output_type": "stream",
     "text": [
      "epoch 419, val accuracy: 0.9719459321601632\n"
     ]
    },
    {
     "name": "stderr",
     "output_type": "stream",
     "text": [
      "Train Epoch 421/500: 100%|██████████| 177/177 [00:01<00:00, 104.11batches/s]\n",
      "Train Accuracy Epoch 421/500: 100%|██████████| 177/177 [00:01<00:00, 172.72batches/s]\n",
      "Val Accuracy Epoch 421/500: 100%|██████████| 20/20 [00:00<00:00, 241.27batches/s]\n",
      "Train Epoch 422/500:   0%|          | 0/177 [00:00<?, ?batches/s]"
     ]
    },
    {
     "name": "stdout",
     "output_type": "stream",
     "text": [
      "epoch 420, val accuracy: 0.9706707472583525\n"
     ]
    },
    {
     "name": "stderr",
     "output_type": "stream",
     "text": [
      "Train Epoch 422/500: 100%|██████████| 177/177 [00:01<00:00, 104.64batches/s]\n",
      "Train Accuracy Epoch 422/500: 100%|██████████| 177/177 [00:01<00:00, 173.35batches/s]\n",
      "Val Accuracy Epoch 422/500: 100%|██████████| 20/20 [00:00<00:00, 241.84batches/s]\n",
      "Train Epoch 423/500:   0%|          | 0/177 [00:00<?, ?batches/s]"
     ]
    },
    {
     "name": "stdout",
     "output_type": "stream",
     "text": [
      "epoch 421, val accuracy: 0.9709257842387146\n"
     ]
    },
    {
     "name": "stderr",
     "output_type": "stream",
     "text": [
      "Train Epoch 423/500: 100%|██████████| 177/177 [00:01<00:00, 105.04batches/s]\n",
      "Train Accuracy Epoch 423/500: 100%|██████████| 177/177 [00:01<00:00, 173.69batches/s]\n",
      "Val Accuracy Epoch 423/500: 100%|██████████| 20/20 [00:00<00:00, 239.45batches/s]\n",
      "Train Epoch 424/500:   0%|          | 0/177 [00:00<?, ?batches/s]"
     ]
    },
    {
     "name": "stdout",
     "output_type": "stream",
     "text": [
      "epoch 422, val accuracy: 0.9706707472583525\n"
     ]
    },
    {
     "name": "stderr",
     "output_type": "stream",
     "text": [
      "Train Epoch 424/500: 100%|██████████| 177/177 [00:01<00:00, 104.78batches/s]\n",
      "Train Accuracy Epoch 424/500: 100%|██████████| 177/177 [00:01<00:00, 173.90batches/s]\n",
      "Val Accuracy Epoch 424/500: 100%|██████████| 20/20 [00:00<00:00, 241.20batches/s]\n",
      "Train Epoch 425/500:   0%|          | 0/177 [00:00<?, ?batches/s]"
     ]
    },
    {
     "name": "stdout",
     "output_type": "stream",
     "text": [
      "epoch 423, val accuracy: 0.9701606732976281\n"
     ]
    },
    {
     "name": "stderr",
     "output_type": "stream",
     "text": [
      "Train Epoch 425/500: 100%|██████████| 177/177 [00:01<00:00, 104.42batches/s]\n",
      "Train Accuracy Epoch 425/500: 100%|██████████| 177/177 [00:01<00:00, 173.07batches/s]\n",
      "Val Accuracy Epoch 425/500: 100%|██████████| 20/20 [00:00<00:00, 242.08batches/s]\n",
      "Train Epoch 426/500:   0%|          | 0/177 [00:00<?, ?batches/s]"
     ]
    },
    {
     "name": "stdout",
     "output_type": "stream",
     "text": [
      "epoch 424, val accuracy: 0.969905636317266\n"
     ]
    },
    {
     "name": "stderr",
     "output_type": "stream",
     "text": [
      "Train Epoch 426/500: 100%|██████████| 177/177 [00:01<00:00, 105.18batches/s]\n",
      "Train Accuracy Epoch 426/500: 100%|██████████| 177/177 [00:01<00:00, 173.84batches/s]\n",
      "Val Accuracy Epoch 426/500: 100%|██████████| 20/20 [00:00<00:00, 241.39batches/s]\n",
      "Train Epoch 427/500:   0%|          | 0/177 [00:00<?, ?batches/s]"
     ]
    },
    {
     "name": "stdout",
     "output_type": "stream",
     "text": [
      "epoch 425, val accuracy: 0.9716908951798011\n"
     ]
    },
    {
     "name": "stderr",
     "output_type": "stream",
     "text": [
      "Train Epoch 427/500: 100%|██████████| 177/177 [00:01<00:00, 104.85batches/s]\n",
      "Train Accuracy Epoch 427/500: 100%|██████████| 177/177 [00:01<00:00, 173.77batches/s]\n",
      "Val Accuracy Epoch 427/500: 100%|██████████| 20/20 [00:00<00:00, 239.63batches/s]\n",
      "Train Epoch 428/500:   0%|          | 0/177 [00:00<?, ?batches/s]"
     ]
    },
    {
     "name": "stdout",
     "output_type": "stream",
     "text": [
      "epoch 426, val accuracy: 0.9711808212190768\n"
     ]
    },
    {
     "name": "stderr",
     "output_type": "stream",
     "text": [
      "Train Epoch 428/500: 100%|██████████| 177/177 [00:02<00:00, 62.80batches/s]\n",
      "Train Accuracy Epoch 428/500: 100%|██████████| 177/177 [00:01<00:00, 169.42batches/s]\n",
      "Val Accuracy Epoch 428/500: 100%|██████████| 20/20 [00:00<00:00, 237.52batches/s]\n",
      "Train Epoch 429/500:   0%|          | 0/177 [00:00<?, ?batches/s]"
     ]
    },
    {
     "name": "stdout",
     "output_type": "stream",
     "text": [
      "epoch 427, val accuracy: 0.9706707472583525\n"
     ]
    },
    {
     "name": "stderr",
     "output_type": "stream",
     "text": [
      "Train Epoch 429/500: 100%|██████████| 177/177 [00:01<00:00, 102.80batches/s]\n",
      "Train Accuracy Epoch 429/500: 100%|██████████| 177/177 [00:01<00:00, 170.04batches/s]\n",
      "Val Accuracy Epoch 429/500: 100%|██████████| 20/20 [00:00<00:00, 240.71batches/s]\n",
      "Train Epoch 430/500:   0%|          | 0/177 [00:00<?, ?batches/s]"
     ]
    },
    {
     "name": "stdout",
     "output_type": "stream",
     "text": [
      "epoch 428, val accuracy: 0.9714358581994389\n"
     ]
    },
    {
     "name": "stderr",
     "output_type": "stream",
     "text": [
      "Train Epoch 430/500: 100%|██████████| 177/177 [00:01<00:00, 103.16batches/s]\n",
      "Train Accuracy Epoch 430/500: 100%|██████████| 177/177 [00:01<00:00, 168.08batches/s]\n",
      "Val Accuracy Epoch 430/500: 100%|██████████| 20/20 [00:00<00:00, 230.72batches/s]\n",
      "Train Epoch 431/500:   0%|          | 0/177 [00:00<?, ?batches/s]"
     ]
    },
    {
     "name": "stdout",
     "output_type": "stream",
     "text": [
      "epoch 429, val accuracy: 0.9716908951798011\n"
     ]
    },
    {
     "name": "stderr",
     "output_type": "stream",
     "text": [
      "Train Epoch 431/500: 100%|██████████| 177/177 [00:01<00:00, 103.42batches/s]\n",
      "Train Accuracy Epoch 431/500: 100%|██████████| 177/177 [00:01<00:00, 170.45batches/s]\n",
      "Val Accuracy Epoch 431/500: 100%|██████████| 20/20 [00:00<00:00, 238.67batches/s]\n",
      "Train Epoch 432/500:   0%|          | 0/177 [00:00<?, ?batches/s]"
     ]
    },
    {
     "name": "stdout",
     "output_type": "stream",
     "text": [
      "epoch 430, val accuracy: 0.969905636317266\n"
     ]
    },
    {
     "name": "stderr",
     "output_type": "stream",
     "text": [
      "Train Epoch 432/500: 100%|██████████| 177/177 [00:01<00:00, 104.25batches/s]\n",
      "Train Accuracy Epoch 432/500: 100%|██████████| 177/177 [00:01<00:00, 172.57batches/s]\n",
      "Val Accuracy Epoch 432/500: 100%|██████████| 20/20 [00:00<00:00, 237.54batches/s]\n",
      "Train Epoch 433/500:   0%|          | 0/177 [00:00<?, ?batches/s]"
     ]
    },
    {
     "name": "stdout",
     "output_type": "stream",
     "text": [
      "epoch 431, val accuracy: 0.9691405253761796\n"
     ]
    },
    {
     "name": "stderr",
     "output_type": "stream",
     "text": [
      "Train Epoch 433/500: 100%|██████████| 177/177 [00:01<00:00, 104.04batches/s]\n",
      "Train Accuracy Epoch 433/500: 100%|██████████| 177/177 [00:01<00:00, 170.98batches/s]\n",
      "Val Accuracy Epoch 433/500: 100%|██████████| 20/20 [00:00<00:00, 232.24batches/s]\n",
      "Train Epoch 434/500:   0%|          | 0/177 [00:00<?, ?batches/s]"
     ]
    },
    {
     "name": "stdout",
     "output_type": "stream",
     "text": [
      "epoch 432, val accuracy: 0.9709257842387146\n"
     ]
    },
    {
     "name": "stderr",
     "output_type": "stream",
     "text": [
      "Train Epoch 434/500: 100%|██████████| 177/177 [00:01<00:00, 103.45batches/s]\n",
      "Train Accuracy Epoch 434/500: 100%|██████████| 177/177 [00:01<00:00, 173.75batches/s]\n",
      "Val Accuracy Epoch 434/500: 100%|██████████| 20/20 [00:00<00:00, 239.83batches/s]\n",
      "Train Epoch 435/500:   0%|          | 0/177 [00:00<?, ?batches/s]"
     ]
    },
    {
     "name": "stdout",
     "output_type": "stream",
     "text": [
      "epoch 433, val accuracy: 0.9693955623565417\n"
     ]
    },
    {
     "name": "stderr",
     "output_type": "stream",
     "text": [
      "Train Epoch 435/500: 100%|██████████| 177/177 [00:01<00:00, 102.70batches/s]\n",
      "Train Accuracy Epoch 435/500: 100%|██████████| 177/177 [00:01<00:00, 173.17batches/s]\n",
      "Val Accuracy Epoch 435/500: 100%|██████████| 20/20 [00:00<00:00, 239.65batches/s]\n",
      "Train Epoch 436/500:   0%|          | 0/177 [00:00<?, ?batches/s]"
     ]
    },
    {
     "name": "stdout",
     "output_type": "stream",
     "text": [
      "epoch 434, val accuracy: 0.9709257842387146\n"
     ]
    },
    {
     "name": "stderr",
     "output_type": "stream",
     "text": [
      "Train Epoch 436/500: 100%|██████████| 177/177 [00:01<00:00, 103.86batches/s]\n",
      "Train Accuracy Epoch 436/500: 100%|██████████| 177/177 [00:01<00:00, 173.66batches/s]\n",
      "Val Accuracy Epoch 436/500: 100%|██████████| 20/20 [00:00<00:00, 237.66batches/s]\n",
      "Train Epoch 437/500:   0%|          | 0/177 [00:00<?, ?batches/s]"
     ]
    },
    {
     "name": "stdout",
     "output_type": "stream",
     "text": [
      "epoch 435, val accuracy: 0.9709257842387146\n"
     ]
    },
    {
     "name": "stderr",
     "output_type": "stream",
     "text": [
      "Train Epoch 437/500: 100%|██████████| 177/177 [00:01<00:00, 103.56batches/s]\n",
      "Train Accuracy Epoch 437/500: 100%|██████████| 177/177 [00:01<00:00, 172.11batches/s]\n",
      "Val Accuracy Epoch 437/500: 100%|██████████| 20/20 [00:00<00:00, 240.35batches/s]\n",
      "Train Epoch 438/500:   0%|          | 0/177 [00:00<?, ?batches/s]"
     ]
    },
    {
     "name": "stdout",
     "output_type": "stream",
     "text": [
      "epoch 436, val accuracy: 0.9709257842387146\n"
     ]
    },
    {
     "name": "stderr",
     "output_type": "stream",
     "text": [
      "Train Epoch 438/500: 100%|██████████| 177/177 [00:01<00:00, 104.29batches/s]\n",
      "Train Accuracy Epoch 438/500: 100%|██████████| 177/177 [00:01<00:00, 173.70batches/s]\n",
      "Val Accuracy Epoch 438/500: 100%|██████████| 20/20 [00:00<00:00, 242.21batches/s]\n",
      "Train Epoch 439/500:   0%|          | 0/177 [00:00<?, ?batches/s]"
     ]
    },
    {
     "name": "stdout",
     "output_type": "stream",
     "text": [
      "epoch 437, val accuracy: 0.9711808212190768\n"
     ]
    },
    {
     "name": "stderr",
     "output_type": "stream",
     "text": [
      "Train Epoch 439/500: 100%|██████████| 177/177 [00:01<00:00, 105.04batches/s]\n",
      "Train Accuracy Epoch 439/500: 100%|██████████| 177/177 [00:01<00:00, 174.20batches/s]\n",
      "Val Accuracy Epoch 439/500: 100%|██████████| 20/20 [00:00<00:00, 243.38batches/s]\n",
      "Train Epoch 440/500:   0%|          | 0/177 [00:00<?, ?batches/s]"
     ]
    },
    {
     "name": "stdout",
     "output_type": "stream",
     "text": [
      "epoch 438, val accuracy: 0.9683754144350931\n"
     ]
    },
    {
     "name": "stderr",
     "output_type": "stream",
     "text": [
      "Train Epoch 440/500: 100%|██████████| 177/177 [00:01<00:00, 104.61batches/s]\n",
      "Train Accuracy Epoch 440/500: 100%|██████████| 177/177 [00:01<00:00, 173.99batches/s]\n",
      "Val Accuracy Epoch 440/500: 100%|██████████| 20/20 [00:00<00:00, 240.29batches/s]\n",
      "Train Epoch 441/500:   0%|          | 0/177 [00:00<?, ?batches/s]"
     ]
    },
    {
     "name": "stdout",
     "output_type": "stream",
     "text": [
      "epoch 439, val accuracy: 0.9709257842387146\n"
     ]
    },
    {
     "name": "stderr",
     "output_type": "stream",
     "text": [
      "Train Epoch 441/500: 100%|██████████| 177/177 [00:01<00:00, 104.89batches/s]\n",
      "Train Accuracy Epoch 441/500: 100%|██████████| 177/177 [00:01<00:00, 174.59batches/s]\n",
      "Val Accuracy Epoch 441/500: 100%|██████████| 20/20 [00:00<00:00, 243.56batches/s]\n",
      "Train Epoch 442/500:   0%|          | 0/177 [00:00<?, ?batches/s]"
     ]
    },
    {
     "name": "stdout",
     "output_type": "stream",
     "text": [
      "epoch 440, val accuracy: 0.9714358581994389\n"
     ]
    },
    {
     "name": "stderr",
     "output_type": "stream",
     "text": [
      "Train Epoch 442/500: 100%|██████████| 177/177 [00:01<00:00, 105.08batches/s]\n",
      "Train Accuracy Epoch 442/500: 100%|██████████| 177/177 [00:01<00:00, 171.05batches/s]\n",
      "Val Accuracy Epoch 442/500: 100%|██████████| 20/20 [00:00<00:00, 236.34batches/s]\n",
      "Train Epoch 443/500:   0%|          | 0/177 [00:00<?, ?batches/s]"
     ]
    },
    {
     "name": "stdout",
     "output_type": "stream",
     "text": [
      "epoch 441, val accuracy: 0.9716908951798011\n"
     ]
    },
    {
     "name": "stderr",
     "output_type": "stream",
     "text": [
      "Train Epoch 443/500: 100%|██████████| 177/177 [00:01<00:00, 103.45batches/s]\n",
      "Train Accuracy Epoch 443/500: 100%|██████████| 177/177 [00:01<00:00, 172.29batches/s]\n",
      "Val Accuracy Epoch 443/500: 100%|██████████| 20/20 [00:00<00:00, 233.08batches/s]\n",
      "Train Epoch 444/500:   0%|          | 0/177 [00:00<?, ?batches/s]"
     ]
    },
    {
     "name": "stdout",
     "output_type": "stream",
     "text": [
      "epoch 442, val accuracy: 0.9719459321601632\n"
     ]
    },
    {
     "name": "stderr",
     "output_type": "stream",
     "text": [
      "Train Epoch 444/500: 100%|██████████| 177/177 [00:01<00:00, 104.54batches/s]\n",
      "Train Accuracy Epoch 444/500: 100%|██████████| 177/177 [00:01<00:00, 170.11batches/s]\n",
      "Val Accuracy Epoch 444/500: 100%|██████████| 20/20 [00:00<00:00, 227.57batches/s]\n",
      "Train Epoch 445/500:   0%|          | 0/177 [00:00<?, ?batches/s]"
     ]
    },
    {
     "name": "stdout",
     "output_type": "stream",
     "text": [
      "epoch 443, val accuracy: 0.9706707472583525\n"
     ]
    },
    {
     "name": "stderr",
     "output_type": "stream",
     "text": [
      "Train Epoch 445/500: 100%|██████████| 177/177 [00:01<00:00, 104.34batches/s]\n",
      "Train Accuracy Epoch 445/500: 100%|██████████| 177/177 [00:01<00:00, 172.24batches/s]\n",
      "Val Accuracy Epoch 445/500: 100%|██████████| 20/20 [00:00<00:00, 237.99batches/s]\n",
      "Train Epoch 446/500:   0%|          | 0/177 [00:00<?, ?batches/s]"
     ]
    },
    {
     "name": "stdout",
     "output_type": "stream",
     "text": [
      "epoch 444, val accuracy: 0.9709257842387146\n"
     ]
    },
    {
     "name": "stderr",
     "output_type": "stream",
     "text": [
      "Train Epoch 446/500: 100%|██████████| 177/177 [00:01<00:00, 104.12batches/s]\n",
      "Train Accuracy Epoch 446/500: 100%|██████████| 177/177 [00:01<00:00, 163.51batches/s]\n",
      "Val Accuracy Epoch 446/500: 100%|██████████| 20/20 [00:00<00:00, 220.72batches/s]\n"
     ]
    },
    {
     "name": "stdout",
     "output_type": "stream",
     "text": [
      "epoch 445, val accuracy: 0.9709257842387146\n"
     ]
    },
    {
     "name": "stderr",
     "output_type": "stream",
     "text": [
      "Train Epoch 447/500: 100%|██████████| 177/177 [00:01<00:00, 99.49batches/s] \n",
      "Train Accuracy Epoch 447/500: 100%|██████████| 177/177 [00:01<00:00, 169.42batches/s]\n",
      "Val Accuracy Epoch 447/500: 100%|██████████| 20/20 [00:00<00:00, 234.54batches/s]\n"
     ]
    },
    {
     "name": "stdout",
     "output_type": "stream",
     "text": [
      "epoch 446, val accuracy: 0.9716908951798011\n"
     ]
    },
    {
     "name": "stderr",
     "output_type": "stream",
     "text": [
      "Train Epoch 448/500: 100%|██████████| 177/177 [00:01<00:00, 103.15batches/s]\n",
      "Train Accuracy Epoch 448/500: 100%|██████████| 177/177 [00:01<00:00, 173.69batches/s]\n",
      "Val Accuracy Epoch 448/500: 100%|██████████| 20/20 [00:00<00:00, 240.16batches/s]\n",
      "Train Epoch 449/500:   0%|          | 0/177 [00:00<?, ?batches/s]"
     ]
    },
    {
     "name": "stdout",
     "output_type": "stream",
     "text": [
      "epoch 447, val accuracy: 0.9709257842387146\n"
     ]
    },
    {
     "name": "stderr",
     "output_type": "stream",
     "text": [
      "Train Epoch 449/500: 100%|██████████| 177/177 [00:01<00:00, 104.07batches/s]\n",
      "Train Accuracy Epoch 449/500: 100%|██████████| 177/177 [00:01<00:00, 173.57batches/s]\n",
      "Val Accuracy Epoch 449/500: 100%|██████████| 20/20 [00:00<00:00, 240.23batches/s]\n",
      "Train Epoch 450/500:   0%|          | 0/177 [00:00<?, ?batches/s]"
     ]
    },
    {
     "name": "stdout",
     "output_type": "stream",
     "text": [
      "epoch 448, val accuracy: 0.9716908951798011\n"
     ]
    },
    {
     "name": "stderr",
     "output_type": "stream",
     "text": [
      "Train Epoch 450/500: 100%|██████████| 177/177 [00:01<00:00, 103.50batches/s]\n",
      "Train Accuracy Epoch 450/500: 100%|██████████| 177/177 [00:01<00:00, 173.31batches/s]\n",
      "Val Accuracy Epoch 450/500: 100%|██████████| 20/20 [00:00<00:00, 238.38batches/s]\n",
      "Train Epoch 451/500:   0%|          | 0/177 [00:00<?, ?batches/s]"
     ]
    },
    {
     "name": "stdout",
     "output_type": "stream",
     "text": [
      "epoch 449, val accuracy: 0.9714358581994389\n"
     ]
    },
    {
     "name": "stderr",
     "output_type": "stream",
     "text": [
      "Train Epoch 451/500: 100%|██████████| 177/177 [00:01<00:00, 104.15batches/s]\n",
      "Train Accuracy Epoch 451/500: 100%|██████████| 177/177 [00:01<00:00, 174.10batches/s]\n",
      "Val Accuracy Epoch 451/500: 100%|██████████| 20/20 [00:00<00:00, 241.90batches/s]\n",
      "Train Epoch 452/500:   0%|          | 0/177 [00:00<?, ?batches/s]"
     ]
    },
    {
     "name": "stdout",
     "output_type": "stream",
     "text": [
      "epoch 450, val accuracy: 0.9714358581994389\n"
     ]
    },
    {
     "name": "stderr",
     "output_type": "stream",
     "text": [
      "Train Epoch 452/500: 100%|██████████| 177/177 [00:01<00:00, 104.22batches/s]\n",
      "Train Accuracy Epoch 452/500: 100%|██████████| 177/177 [00:01<00:00, 172.30batches/s]\n",
      "Val Accuracy Epoch 452/500: 100%|██████████| 20/20 [00:00<00:00, 233.91batches/s]\n",
      "Train Epoch 453/500:   0%|          | 0/177 [00:00<?, ?batches/s]"
     ]
    },
    {
     "name": "stdout",
     "output_type": "stream",
     "text": [
      "epoch 451, val accuracy: 0.9709257842387146\n"
     ]
    },
    {
     "name": "stderr",
     "output_type": "stream",
     "text": [
      "Train Epoch 453/500: 100%|██████████| 177/177 [00:01<00:00, 103.65batches/s]\n",
      "Train Accuracy Epoch 453/500: 100%|██████████| 177/177 [00:01<00:00, 172.50batches/s]\n",
      "Val Accuracy Epoch 453/500: 100%|██████████| 20/20 [00:00<00:00, 236.00batches/s]\n",
      "Train Epoch 454/500:   0%|          | 0/177 [00:00<?, ?batches/s]"
     ]
    },
    {
     "name": "stdout",
     "output_type": "stream",
     "text": [
      "epoch 452, val accuracy: 0.9704157102779903\n"
     ]
    },
    {
     "name": "stderr",
     "output_type": "stream",
     "text": [
      "Train Epoch 454/500: 100%|██████████| 177/177 [00:01<00:00, 103.29batches/s]\n",
      "Train Accuracy Epoch 454/500: 100%|██████████| 177/177 [00:01<00:00, 172.96batches/s]\n",
      "Val Accuracy Epoch 454/500: 100%|██████████| 20/20 [00:00<00:00, 237.24batches/s]\n",
      "Train Epoch 455/500:   0%|          | 0/177 [00:00<?, ?batches/s]"
     ]
    },
    {
     "name": "stdout",
     "output_type": "stream",
     "text": [
      "epoch 453, val accuracy: 0.9714358581994389\n"
     ]
    },
    {
     "name": "stderr",
     "output_type": "stream",
     "text": [
      "Train Epoch 455/500: 100%|██████████| 177/177 [00:01<00:00, 103.63batches/s]\n",
      "Train Accuracy Epoch 455/500: 100%|██████████| 177/177 [00:01<00:00, 172.20batches/s]\n",
      "Val Accuracy Epoch 455/500: 100%|██████████| 20/20 [00:00<00:00, 242.15batches/s]\n",
      "Train Epoch 456/500:   0%|          | 0/177 [00:00<?, ?batches/s]"
     ]
    },
    {
     "name": "stdout",
     "output_type": "stream",
     "text": [
      "epoch 454, val accuracy: 0.9711808212190768\n"
     ]
    },
    {
     "name": "stderr",
     "output_type": "stream",
     "text": [
      "Train Epoch 456/500: 100%|██████████| 177/177 [00:01<00:00, 103.86batches/s]\n",
      "Train Accuracy Epoch 456/500: 100%|██████████| 177/177 [00:01<00:00, 171.41batches/s]\n",
      "Val Accuracy Epoch 456/500: 100%|██████████| 20/20 [00:00<00:00, 239.92batches/s]\n",
      "Train Epoch 457/500:   0%|          | 0/177 [00:00<?, ?batches/s]"
     ]
    },
    {
     "name": "stdout",
     "output_type": "stream",
     "text": [
      "epoch 455, val accuracy: 0.9696505993369039\n"
     ]
    },
    {
     "name": "stderr",
     "output_type": "stream",
     "text": [
      "Train Epoch 457/500: 100%|██████████| 177/177 [00:01<00:00, 101.76batches/s]\n",
      "Train Accuracy Epoch 457/500: 100%|██████████| 177/177 [00:01<00:00, 172.45batches/s]\n",
      "Val Accuracy Epoch 457/500: 100%|██████████| 20/20 [00:00<00:00, 229.72batches/s]\n"
     ]
    },
    {
     "name": "stdout",
     "output_type": "stream",
     "text": [
      "epoch 456, val accuracy: 0.9711808212190768\n"
     ]
    },
    {
     "name": "stderr",
     "output_type": "stream",
     "text": [
      "Train Epoch 458/500: 100%|██████████| 177/177 [00:01<00:00, 102.05batches/s]\n",
      "Train Accuracy Epoch 458/500: 100%|██████████| 177/177 [00:01<00:00, 168.08batches/s]\n",
      "Val Accuracy Epoch 458/500: 100%|██████████| 20/20 [00:00<00:00, 233.16batches/s]\n",
      "Train Epoch 459/500:   0%|          | 0/177 [00:00<?, ?batches/s]"
     ]
    },
    {
     "name": "stdout",
     "output_type": "stream",
     "text": [
      "epoch 457, val accuracy: 0.9724560061208876\n"
     ]
    },
    {
     "name": "stderr",
     "output_type": "stream",
     "text": [
      "Train Epoch 459/500: 100%|██████████| 177/177 [00:01<00:00, 102.95batches/s]\n",
      "Train Accuracy Epoch 459/500: 100%|██████████| 177/177 [00:01<00:00, 173.27batches/s]\n",
      "Val Accuracy Epoch 459/500: 100%|██████████| 20/20 [00:00<00:00, 240.66batches/s]\n",
      "Train Epoch 460/500:   0%|          | 0/177 [00:00<?, ?batches/s]"
     ]
    },
    {
     "name": "stdout",
     "output_type": "stream",
     "text": [
      "epoch 458, val accuracy: 0.9727110431012497\n"
     ]
    },
    {
     "name": "stderr",
     "output_type": "stream",
     "text": [
      "Train Epoch 460/500: 100%|██████████| 177/177 [00:01<00:00, 103.43batches/s]\n",
      "Train Accuracy Epoch 460/500: 100%|██████████| 177/177 [00:01<00:00, 173.18batches/s]\n",
      "Val Accuracy Epoch 460/500: 100%|██████████| 20/20 [00:00<00:00, 241.05batches/s]\n",
      "Train Epoch 461/500:   0%|          | 0/177 [00:00<?, ?batches/s]"
     ]
    },
    {
     "name": "stdout",
     "output_type": "stream",
     "text": [
      "epoch 459, val accuracy: 0.9719459321601632\n"
     ]
    },
    {
     "name": "stderr",
     "output_type": "stream",
     "text": [
      "Train Epoch 461/500: 100%|██████████| 177/177 [00:01<00:00, 103.48batches/s]\n",
      "Train Accuracy Epoch 461/500: 100%|██████████| 177/177 [00:01<00:00, 173.48batches/s]\n",
      "Val Accuracy Epoch 461/500: 100%|██████████| 20/20 [00:00<00:00, 241.40batches/s]\n",
      "Train Epoch 462/500:   0%|          | 0/177 [00:00<?, ?batches/s]"
     ]
    },
    {
     "name": "stdout",
     "output_type": "stream",
     "text": [
      "epoch 460, val accuracy: 0.9704157102779903\n"
     ]
    },
    {
     "name": "stderr",
     "output_type": "stream",
     "text": [
      "Train Epoch 462/500: 100%|██████████| 177/177 [00:01<00:00, 103.57batches/s]\n",
      "Train Accuracy Epoch 462/500: 100%|██████████| 177/177 [00:01<00:00, 172.37batches/s]\n",
      "Val Accuracy Epoch 462/500: 100%|██████████| 20/20 [00:00<00:00, 245.25batches/s]\n",
      "Train Epoch 463/500:   0%|          | 0/177 [00:00<?, ?batches/s]"
     ]
    },
    {
     "name": "stdout",
     "output_type": "stream",
     "text": [
      "epoch 461, val accuracy: 0.9477174190257588\n"
     ]
    },
    {
     "name": "stderr",
     "output_type": "stream",
     "text": [
      "Train Epoch 463/500: 100%|██████████| 177/177 [00:01<00:00, 104.32batches/s]\n",
      "Train Accuracy Epoch 463/500: 100%|██████████| 177/177 [00:01<00:00, 171.71batches/s]\n",
      "Val Accuracy Epoch 463/500: 100%|██████████| 20/20 [00:00<00:00, 229.93batches/s]\n",
      "Train Epoch 464/500:   0%|          | 0/177 [00:00<?, ?batches/s]"
     ]
    },
    {
     "name": "stdout",
     "output_type": "stream",
     "text": [
      "epoch 462, val accuracy: 0.9719459321601632\n"
     ]
    },
    {
     "name": "stderr",
     "output_type": "stream",
     "text": [
      "Train Epoch 464/500: 100%|██████████| 177/177 [00:01<00:00, 102.56batches/s]\n",
      "Train Accuracy Epoch 464/500: 100%|██████████| 177/177 [00:01<00:00, 171.08batches/s]\n",
      "Val Accuracy Epoch 464/500: 100%|██████████| 20/20 [00:00<00:00, 236.45batches/s]\n",
      "Train Epoch 465/500:   0%|          | 0/177 [00:00<?, ?batches/s]"
     ]
    },
    {
     "name": "stdout",
     "output_type": "stream",
     "text": [
      "epoch 463, val accuracy: 0.9714358581994389\n"
     ]
    },
    {
     "name": "stderr",
     "output_type": "stream",
     "text": [
      "Train Epoch 465/500: 100%|██████████| 177/177 [00:01<00:00, 103.54batches/s]\n",
      "Train Accuracy Epoch 465/500: 100%|██████████| 177/177 [00:01<00:00, 170.64batches/s]\n",
      "Val Accuracy Epoch 465/500: 100%|██████████| 20/20 [00:00<00:00, 239.25batches/s]\n",
      "Train Epoch 466/500:   0%|          | 0/177 [00:00<?, ?batches/s]"
     ]
    },
    {
     "name": "stdout",
     "output_type": "stream",
     "text": [
      "epoch 464, val accuracy: 0.9704157102779903\n"
     ]
    },
    {
     "name": "stderr",
     "output_type": "stream",
     "text": [
      "Train Epoch 466/500: 100%|██████████| 177/177 [00:01<00:00, 103.90batches/s]\n",
      "Train Accuracy Epoch 466/500: 100%|██████████| 177/177 [00:01<00:00, 170.98batches/s]\n",
      "Val Accuracy Epoch 466/500: 100%|██████████| 20/20 [00:00<00:00, 239.47batches/s]\n",
      "Train Epoch 467/500:   0%|          | 0/177 [00:00<?, ?batches/s]"
     ]
    },
    {
     "name": "stdout",
     "output_type": "stream",
     "text": [
      "epoch 465, val accuracy: 0.9722009691405253\n"
     ]
    },
    {
     "name": "stderr",
     "output_type": "stream",
     "text": [
      "Train Epoch 467/500: 100%|██████████| 177/177 [00:01<00:00, 104.69batches/s]\n",
      "Train Accuracy Epoch 467/500: 100%|██████████| 177/177 [00:01<00:00, 174.78batches/s]\n",
      "Val Accuracy Epoch 467/500: 100%|██████████| 20/20 [00:00<00:00, 242.11batches/s]\n",
      "Train Epoch 468/500:   0%|          | 0/177 [00:00<?, ?batches/s]"
     ]
    },
    {
     "name": "stdout",
     "output_type": "stream",
     "text": [
      "epoch 466, val accuracy: 0.9706707472583525\n"
     ]
    },
    {
     "name": "stderr",
     "output_type": "stream",
     "text": [
      "Train Epoch 468/500: 100%|██████████| 177/177 [00:01<00:00, 104.34batches/s]\n",
      "Train Accuracy Epoch 468/500: 100%|██████████| 177/177 [00:01<00:00, 174.42batches/s]\n",
      "Val Accuracy Epoch 468/500: 100%|██████████| 20/20 [00:00<00:00, 242.52batches/s]\n",
      "Train Epoch 469/500:   0%|          | 0/177 [00:00<?, ?batches/s]"
     ]
    },
    {
     "name": "stdout",
     "output_type": "stream",
     "text": [
      "epoch 467, val accuracy: 0.9722009691405253\n"
     ]
    },
    {
     "name": "stderr",
     "output_type": "stream",
     "text": [
      "Train Epoch 469/500: 100%|██████████| 177/177 [00:01<00:00, 104.87batches/s]\n",
      "Train Accuracy Epoch 469/500: 100%|██████████| 177/177 [00:01<00:00, 171.34batches/s]\n",
      "Val Accuracy Epoch 469/500: 100%|██████████| 20/20 [00:00<00:00, 234.14batches/s]\n",
      "Train Epoch 470/500:   0%|          | 0/177 [00:00<?, ?batches/s]"
     ]
    },
    {
     "name": "stdout",
     "output_type": "stream",
     "text": [
      "epoch 468, val accuracy: 0.9724560061208876\n"
     ]
    },
    {
     "name": "stderr",
     "output_type": "stream",
     "text": [
      "Train Epoch 470/500: 100%|██████████| 177/177 [00:01<00:00, 104.12batches/s]\n",
      "Train Accuracy Epoch 470/500: 100%|██████████| 177/177 [00:01<00:00, 172.30batches/s]\n",
      "Val Accuracy Epoch 470/500: 100%|██████████| 20/20 [00:00<00:00, 239.21batches/s]\n",
      "Train Epoch 471/500:   0%|          | 0/177 [00:00<?, ?batches/s]"
     ]
    },
    {
     "name": "stdout",
     "output_type": "stream",
     "text": [
      "epoch 469, val accuracy: 0.9722009691405253\n"
     ]
    },
    {
     "name": "stderr",
     "output_type": "stream",
     "text": [
      "Train Epoch 471/500: 100%|██████████| 177/177 [00:01<00:00, 104.89batches/s]\n",
      "Train Accuracy Epoch 471/500: 100%|██████████| 177/177 [00:01<00:00, 173.27batches/s]\n",
      "Val Accuracy Epoch 471/500: 100%|██████████| 20/20 [00:00<00:00, 238.27batches/s]\n",
      "Train Epoch 472/500:   0%|          | 0/177 [00:00<?, ?batches/s]"
     ]
    },
    {
     "name": "stdout",
     "output_type": "stream",
     "text": [
      "epoch 470, val accuracy: 0.9497577148686559\n"
     ]
    },
    {
     "name": "stderr",
     "output_type": "stream",
     "text": [
      "Train Epoch 472/500: 100%|██████████| 177/177 [00:01<00:00, 103.71batches/s]\n",
      "Train Accuracy Epoch 472/500: 100%|██████████| 177/177 [00:01<00:00, 171.06batches/s]\n",
      "Val Accuracy Epoch 472/500: 100%|██████████| 20/20 [00:00<00:00, 237.89batches/s]\n"
     ]
    },
    {
     "name": "stdout",
     "output_type": "stream",
     "text": [
      "epoch 471, val accuracy: 0.9704157102779903\n"
     ]
    },
    {
     "name": "stderr",
     "output_type": "stream",
     "text": [
      "Train Epoch 473/500: 100%|██████████| 177/177 [00:01<00:00, 103.24batches/s]\n",
      "Train Accuracy Epoch 473/500: 100%|██████████| 177/177 [00:01<00:00, 173.87batches/s]\n",
      "Val Accuracy Epoch 473/500: 100%|██████████| 20/20 [00:00<00:00, 243.22batches/s]\n",
      "Train Epoch 474/500:   0%|          | 0/177 [00:00<?, ?batches/s]"
     ]
    },
    {
     "name": "stdout",
     "output_type": "stream",
     "text": [
      "epoch 472, val accuracy: 0.9711808212190768\n"
     ]
    },
    {
     "name": "stderr",
     "output_type": "stream",
     "text": [
      "Train Epoch 474/500: 100%|██████████| 177/177 [00:01<00:00, 104.33batches/s]\n",
      "Train Accuracy Epoch 474/500: 100%|██████████| 177/177 [00:01<00:00, 175.32batches/s]\n",
      "Val Accuracy Epoch 474/500: 100%|██████████| 20/20 [00:00<00:00, 246.82batches/s]\n",
      "Train Epoch 475/500:   0%|          | 0/177 [00:00<?, ?batches/s]"
     ]
    },
    {
     "name": "stdout",
     "output_type": "stream",
     "text": [
      "epoch 473, val accuracy: 0.9727110431012497\n"
     ]
    },
    {
     "name": "stderr",
     "output_type": "stream",
     "text": [
      "Train Epoch 475/500: 100%|██████████| 177/177 [00:01<00:00, 104.83batches/s]\n",
      "Train Accuracy Epoch 475/500: 100%|██████████| 177/177 [00:01<00:00, 166.75batches/s]\n",
      "Val Accuracy Epoch 475/500: 100%|██████████| 20/20 [00:00<00:00, 228.85batches/s]\n",
      "Train Epoch 476/500:   0%|          | 0/177 [00:00<?, ?batches/s]"
     ]
    },
    {
     "name": "stdout",
     "output_type": "stream",
     "text": [
      "epoch 474, val accuracy: 0.9714358581994389\n"
     ]
    },
    {
     "name": "stderr",
     "output_type": "stream",
     "text": [
      "Train Epoch 476/500: 100%|██████████| 177/177 [00:01<00:00, 102.53batches/s]\n",
      "Train Accuracy Epoch 476/500: 100%|██████████| 177/177 [00:01<00:00, 172.82batches/s]\n",
      "Val Accuracy Epoch 476/500: 100%|██████████| 20/20 [00:00<00:00, 238.35batches/s]\n",
      "Train Epoch 477/500:   0%|          | 0/177 [00:00<?, ?batches/s]"
     ]
    },
    {
     "name": "stdout",
     "output_type": "stream",
     "text": [
      "epoch 475, val accuracy: 0.9714358581994389\n"
     ]
    },
    {
     "name": "stderr",
     "output_type": "stream",
     "text": [
      "Train Epoch 477/500: 100%|██████████| 177/177 [00:01<00:00, 104.48batches/s]\n",
      "Train Accuracy Epoch 477/500: 100%|██████████| 177/177 [00:01<00:00, 172.30batches/s]\n",
      "Val Accuracy Epoch 477/500: 100%|██████████| 20/20 [00:00<00:00, 243.67batches/s]\n",
      "Train Epoch 478/500:   0%|          | 0/177 [00:00<?, ?batches/s]"
     ]
    },
    {
     "name": "stdout",
     "output_type": "stream",
     "text": [
      "epoch 476, val accuracy: 0.9714358581994389\n"
     ]
    },
    {
     "name": "stderr",
     "output_type": "stream",
     "text": [
      "Train Epoch 478/500: 100%|██████████| 177/177 [00:01<00:00, 104.40batches/s]\n",
      "Train Accuracy Epoch 478/500: 100%|██████████| 177/177 [00:01<00:00, 170.29batches/s]\n",
      "Val Accuracy Epoch 478/500: 100%|██████████| 20/20 [00:00<00:00, 224.45batches/s]\n",
      "Train Epoch 479/500:   0%|          | 0/177 [00:00<?, ?batches/s]"
     ]
    },
    {
     "name": "stdout",
     "output_type": "stream",
     "text": [
      "epoch 477, val accuracy: 0.9729660800816118\n"
     ]
    },
    {
     "name": "stderr",
     "output_type": "stream",
     "text": [
      "Train Epoch 479/500: 100%|██████████| 177/177 [00:01<00:00, 101.86batches/s]\n",
      "Train Accuracy Epoch 479/500: 100%|██████████| 177/177 [00:01<00:00, 170.42batches/s]\n",
      "Val Accuracy Epoch 479/500: 100%|██████████| 20/20 [00:00<00:00, 230.24batches/s]\n",
      "Train Epoch 480/500:   0%|          | 0/177 [00:00<?, ?batches/s]"
     ]
    },
    {
     "name": "stdout",
     "output_type": "stream",
     "text": [
      "epoch 478, val accuracy: 0.9701606732976281\n"
     ]
    },
    {
     "name": "stderr",
     "output_type": "stream",
     "text": [
      "Train Epoch 480/500: 100%|██████████| 177/177 [00:01<00:00, 103.07batches/s]\n",
      "Train Accuracy Epoch 480/500: 100%|██████████| 177/177 [00:01<00:00, 171.32batches/s]\n",
      "Val Accuracy Epoch 480/500: 100%|██████████| 20/20 [00:00<00:00, 234.78batches/s]\n",
      "Train Epoch 481/500:   0%|          | 0/177 [00:00<?, ?batches/s]"
     ]
    },
    {
     "name": "stdout",
     "output_type": "stream",
     "text": [
      "epoch 479, val accuracy: 0.9681203774547309\n"
     ]
    },
    {
     "name": "stderr",
     "output_type": "stream",
     "text": [
      "Train Epoch 481/500: 100%|██████████| 177/177 [00:01<00:00, 105.15batches/s]\n",
      "Train Accuracy Epoch 481/500: 100%|██████████| 177/177 [00:01<00:00, 170.51batches/s]\n",
      "Val Accuracy Epoch 481/500: 100%|██████████| 20/20 [00:00<00:00, 235.21batches/s]\n",
      "Train Epoch 482/500:   0%|          | 0/177 [00:00<?, ?batches/s]"
     ]
    },
    {
     "name": "stdout",
     "output_type": "stream",
     "text": [
      "epoch 480, val accuracy: 0.9704157102779903\n"
     ]
    },
    {
     "name": "stderr",
     "output_type": "stream",
     "text": [
      "Train Epoch 482/500: 100%|██████████| 177/177 [00:01<00:00, 105.27batches/s]\n",
      "Train Accuracy Epoch 482/500: 100%|██████████| 177/177 [00:01<00:00, 171.59batches/s]\n",
      "Val Accuracy Epoch 482/500: 100%|██████████| 20/20 [00:00<00:00, 233.81batches/s]\n",
      "Train Epoch 483/500:   0%|          | 0/177 [00:00<?, ?batches/s]"
     ]
    },
    {
     "name": "stdout",
     "output_type": "stream",
     "text": [
      "epoch 481, val accuracy: 0.9711808212190768\n"
     ]
    },
    {
     "name": "stderr",
     "output_type": "stream",
     "text": [
      "Train Epoch 483/500: 100%|██████████| 177/177 [00:01<00:00, 105.14batches/s]\n",
      "Train Accuracy Epoch 483/500: 100%|██████████| 177/177 [00:01<00:00, 173.33batches/s]\n",
      "Val Accuracy Epoch 483/500: 100%|██████████| 20/20 [00:00<00:00, 242.15batches/s]\n",
      "Train Epoch 484/500:   0%|          | 0/177 [00:00<?, ?batches/s]"
     ]
    },
    {
     "name": "stdout",
     "output_type": "stream",
     "text": [
      "epoch 482, val accuracy: 0.9719459321601632\n"
     ]
    },
    {
     "name": "stderr",
     "output_type": "stream",
     "text": [
      "Train Epoch 484/500: 100%|██████████| 177/177 [00:01<00:00, 105.26batches/s]\n",
      "Train Accuracy Epoch 484/500: 100%|██████████| 177/177 [00:01<00:00, 175.08batches/s]\n",
      "Val Accuracy Epoch 484/500: 100%|██████████| 20/20 [00:00<00:00, 233.19batches/s]\n",
      "Train Epoch 485/500:   0%|          | 0/177 [00:00<?, ?batches/s]"
     ]
    },
    {
     "name": "stdout",
     "output_type": "stream",
     "text": [
      "epoch 483, val accuracy: 0.9711808212190768\n"
     ]
    },
    {
     "name": "stderr",
     "output_type": "stream",
     "text": [
      "Train Epoch 485/500: 100%|██████████| 177/177 [00:01<00:00, 105.12batches/s]\n",
      "Train Accuracy Epoch 485/500: 100%|██████████| 177/177 [00:01<00:00, 173.45batches/s]\n",
      "Val Accuracy Epoch 485/500: 100%|██████████| 20/20 [00:00<00:00, 235.10batches/s]\n",
      "Train Epoch 486/500:   0%|          | 0/177 [00:00<?, ?batches/s]"
     ]
    },
    {
     "name": "stdout",
     "output_type": "stream",
     "text": [
      "epoch 484, val accuracy: 0.9716908951798011\n"
     ]
    },
    {
     "name": "stderr",
     "output_type": "stream",
     "text": [
      "Train Epoch 486/500: 100%|██████████| 177/177 [00:01<00:00, 104.02batches/s]\n",
      "Train Accuracy Epoch 486/500: 100%|██████████| 177/177 [00:01<00:00, 173.39batches/s]\n",
      "Val Accuracy Epoch 486/500: 100%|██████████| 20/20 [00:00<00:00, 238.80batches/s]\n",
      "Train Epoch 487/500:   0%|          | 0/177 [00:00<?, ?batches/s]"
     ]
    },
    {
     "name": "stdout",
     "output_type": "stream",
     "text": [
      "epoch 485, val accuracy: 0.9714358581994389\n"
     ]
    },
    {
     "name": "stderr",
     "output_type": "stream",
     "text": [
      "Train Epoch 487/500: 100%|██████████| 177/177 [00:01<00:00, 103.88batches/s]\n",
      "Train Accuracy Epoch 487/500: 100%|██████████| 177/177 [00:01<00:00, 173.71batches/s]\n",
      "Val Accuracy Epoch 487/500: 100%|██████████| 20/20 [00:00<00:00, 243.13batches/s]\n",
      "Train Epoch 488/500:   0%|          | 0/177 [00:00<?, ?batches/s]"
     ]
    },
    {
     "name": "stdout",
     "output_type": "stream",
     "text": [
      "epoch 486, val accuracy: 0.9716908951798011\n"
     ]
    },
    {
     "name": "stderr",
     "output_type": "stream",
     "text": [
      "Train Epoch 488/500: 100%|██████████| 177/177 [00:01<00:00, 104.32batches/s]\n",
      "Train Accuracy Epoch 488/500: 100%|██████████| 177/177 [00:01<00:00, 173.74batches/s]\n",
      "Val Accuracy Epoch 488/500: 100%|██████████| 20/20 [00:00<00:00, 238.60batches/s]\n",
      "Train Epoch 489/500:   0%|          | 0/177 [00:00<?, ?batches/s]"
     ]
    },
    {
     "name": "stdout",
     "output_type": "stream",
     "text": [
      "epoch 487, val accuracy: 0.9719459321601632\n"
     ]
    },
    {
     "name": "stderr",
     "output_type": "stream",
     "text": [
      "Train Epoch 489/500: 100%|██████████| 177/177 [00:01<00:00, 104.97batches/s]\n",
      "Train Accuracy Epoch 489/500: 100%|██████████| 177/177 [00:01<00:00, 173.53batches/s]\n",
      "Val Accuracy Epoch 489/500: 100%|██████████| 20/20 [00:00<00:00, 242.93batches/s]\n",
      "Train Epoch 490/500:   0%|          | 0/177 [00:00<?, ?batches/s]"
     ]
    },
    {
     "name": "stdout",
     "output_type": "stream",
     "text": [
      "epoch 488, val accuracy: 0.9706707472583525\n"
     ]
    },
    {
     "name": "stderr",
     "output_type": "stream",
     "text": [
      "Train Epoch 490/500: 100%|██████████| 177/177 [00:01<00:00, 104.26batches/s]\n",
      "Train Accuracy Epoch 490/500: 100%|██████████| 177/177 [00:01<00:00, 173.73batches/s]\n",
      "Val Accuracy Epoch 490/500: 100%|██████████| 20/20 [00:00<00:00, 243.73batches/s]\n",
      "Train Epoch 491/500:   0%|          | 0/177 [00:00<?, ?batches/s]"
     ]
    },
    {
     "name": "stdout",
     "output_type": "stream",
     "text": [
      "epoch 489, val accuracy: 0.9719459321601632\n"
     ]
    },
    {
     "name": "stderr",
     "output_type": "stream",
     "text": [
      "Train Epoch 491/500: 100%|██████████| 177/177 [00:01<00:00, 104.82batches/s]\n",
      "Train Accuracy Epoch 491/500: 100%|██████████| 177/177 [00:01<00:00, 173.94batches/s]\n",
      "Val Accuracy Epoch 491/500: 100%|██████████| 20/20 [00:00<00:00, 240.76batches/s]\n",
      "Train Epoch 492/500:   0%|          | 0/177 [00:00<?, ?batches/s]"
     ]
    },
    {
     "name": "stdout",
     "output_type": "stream",
     "text": [
      "epoch 490, val accuracy: 0.9711808212190768\n"
     ]
    },
    {
     "name": "stderr",
     "output_type": "stream",
     "text": [
      "Train Epoch 492/500: 100%|██████████| 177/177 [00:01<00:00, 104.24batches/s]\n",
      "Train Accuracy Epoch 492/500: 100%|██████████| 177/177 [00:01<00:00, 173.88batches/s]\n",
      "Val Accuracy Epoch 492/500: 100%|██████████| 20/20 [00:00<00:00, 239.56batches/s]\n",
      "Train Epoch 493/500:   0%|          | 0/177 [00:00<?, ?batches/s]"
     ]
    },
    {
     "name": "stdout",
     "output_type": "stream",
     "text": [
      "epoch 491, val accuracy: 0.9709257842387146\n"
     ]
    },
    {
     "name": "stderr",
     "output_type": "stream",
     "text": [
      "Train Epoch 493/500: 100%|██████████| 177/177 [00:01<00:00, 104.85batches/s]\n",
      "Train Accuracy Epoch 493/500: 100%|██████████| 177/177 [00:01<00:00, 174.56batches/s]\n",
      "Val Accuracy Epoch 493/500: 100%|██████████| 20/20 [00:00<00:00, 239.05batches/s]\n",
      "Train Epoch 494/500:   0%|          | 0/177 [00:00<?, ?batches/s]"
     ]
    },
    {
     "name": "stdout",
     "output_type": "stream",
     "text": [
      "epoch 492, val accuracy: 0.9719459321601632\n"
     ]
    },
    {
     "name": "stderr",
     "output_type": "stream",
     "text": [
      "Train Epoch 494/500: 100%|██████████| 177/177 [00:01<00:00, 104.33batches/s]\n",
      "Train Accuracy Epoch 494/500: 100%|██████████| 177/177 [00:01<00:00, 173.74batches/s]\n",
      "Val Accuracy Epoch 494/500: 100%|██████████| 20/20 [00:00<00:00, 238.94batches/s]\n",
      "Train Epoch 495/500:   0%|          | 0/177 [00:00<?, ?batches/s]"
     ]
    },
    {
     "name": "stdout",
     "output_type": "stream",
     "text": [
      "epoch 493, val accuracy: 0.9716908951798011\n"
     ]
    },
    {
     "name": "stderr",
     "output_type": "stream",
     "text": [
      "Train Epoch 495/500: 100%|██████████| 177/177 [00:01<00:00, 104.74batches/s]\n",
      "Train Accuracy Epoch 495/500: 100%|██████████| 177/177 [00:01<00:00, 174.10batches/s]\n",
      "Val Accuracy Epoch 495/500: 100%|██████████| 20/20 [00:00<00:00, 239.07batches/s]\n",
      "Train Epoch 496/500:   0%|          | 0/177 [00:00<?, ?batches/s]"
     ]
    },
    {
     "name": "stdout",
     "output_type": "stream",
     "text": [
      "epoch 494, val accuracy: 0.9716908951798011\n"
     ]
    },
    {
     "name": "stderr",
     "output_type": "stream",
     "text": [
      "Train Epoch 496/500: 100%|██████████| 177/177 [00:01<00:00, 104.58batches/s]\n",
      "Train Accuracy Epoch 496/500: 100%|██████████| 177/177 [00:01<00:00, 172.39batches/s]\n",
      "Val Accuracy Epoch 496/500: 100%|██████████| 20/20 [00:00<00:00, 241.17batches/s]\n",
      "Train Epoch 497/500:   0%|          | 0/177 [00:00<?, ?batches/s]"
     ]
    },
    {
     "name": "stdout",
     "output_type": "stream",
     "text": [
      "epoch 495, val accuracy: 0.9711808212190768\n"
     ]
    },
    {
     "name": "stderr",
     "output_type": "stream",
     "text": [
      "Train Epoch 497/500: 100%|██████████| 177/177 [00:01<00:00, 103.48batches/s]\n",
      "Train Accuracy Epoch 497/500: 100%|██████████| 177/177 [00:01<00:00, 166.78batches/s]\n",
      "Val Accuracy Epoch 497/500: 100%|██████████| 20/20 [00:00<00:00, 221.60batches/s]\n",
      "Train Epoch 498/500:   0%|          | 0/177 [00:00<?, ?batches/s]"
     ]
    },
    {
     "name": "stdout",
     "output_type": "stream",
     "text": [
      "epoch 496, val accuracy: 0.9709257842387146\n"
     ]
    },
    {
     "name": "stderr",
     "output_type": "stream",
     "text": [
      "Train Epoch 498/500: 100%|██████████| 177/177 [00:01<00:00, 103.89batches/s]\n",
      "Train Accuracy Epoch 498/500: 100%|██████████| 177/177 [00:01<00:00, 172.62batches/s]\n",
      "Val Accuracy Epoch 498/500: 100%|██████████| 20/20 [00:00<00:00, 239.77batches/s]\n",
      "Train Epoch 499/500:   0%|          | 0/177 [00:00<?, ?batches/s]"
     ]
    },
    {
     "name": "stdout",
     "output_type": "stream",
     "text": [
      "epoch 497, val accuracy: 0.9701606732976281\n"
     ]
    },
    {
     "name": "stderr",
     "output_type": "stream",
     "text": [
      "Train Epoch 499/500: 100%|██████████| 177/177 [00:01<00:00, 104.87batches/s]\n",
      "Train Accuracy Epoch 499/500: 100%|██████████| 177/177 [00:01<00:00, 171.91batches/s]\n",
      "Val Accuracy Epoch 499/500: 100%|██████████| 20/20 [00:00<00:00, 235.49batches/s]\n",
      "Train Epoch 500/500:   0%|          | 0/177 [00:00<?, ?batches/s]"
     ]
    },
    {
     "name": "stdout",
     "output_type": "stream",
     "text": [
      "epoch 498, val accuracy: 0.9716908951798011\n"
     ]
    },
    {
     "name": "stderr",
     "output_type": "stream",
     "text": [
      "Train Epoch 500/500: 100%|██████████| 177/177 [00:01<00:00, 102.96batches/s]\n",
      "Train Accuracy Epoch 500/500: 100%|██████████| 177/177 [00:01<00:00, 172.53batches/s]\n",
      "Val Accuracy Epoch 500/500: 100%|██████████| 20/20 [00:00<00:00, 235.04batches/s]"
     ]
    },
    {
     "name": "stdout",
     "output_type": "stream",
     "text": [
      "epoch 499, val accuracy: 0.9722009691405253\n",
      "runtime: 0:25:33.482804\n"
     ]
    },
    {
     "name": "stderr",
     "output_type": "stream",
     "text": [
      "\n"
     ]
    }
   ],
   "source": [
    "# Gradient Descent\n",
    "optimizer = tf.train.GradientDescentOptimizer(learning_rate).minimize(loss)    \n",
    "# The accuracy measured against the validation set\n",
    "validation_accuracy = 0.0\n",
    "# Measurements use for graphing loss and accuracy\n",
    "#log_batch_step = 50\n",
    "#batches = []\n",
    "loss_batch = []\n",
    "train_acc_batch = []\n",
    "valid_acc_batch = []\n",
    "\n",
    "# to save all trained variables, but not the graph\n",
    "saver = tf.train.Saver()\n",
    "\n",
    "#GPU config\n",
    "config=tf.ConfigProto(log_device_placement=True)\n",
    "config.gpu_options.allow_growth = True\n",
    "config.gpu_options.per_process_gpu_memory_fraction = 0.8\n",
    "\n",
    "st = datetime.now()\n",
    "\n",
    "a_ = 0\n",
    "\n",
    "with tf.Session(config=config) as session:\n",
    "    session.run(init)\n",
    "    for epoch_i in range(epochs):\n",
    "        # train for one epoch\n",
    "        # random training set permutation\n",
    "        perm_index = np.random.permutation(len(train_features))\n",
    "        train_features = train_features[perm_index]\n",
    "        train_labels = train_labels[perm_index]\n",
    "        # batches\n",
    "        batch_count = int(math.ceil(len(train_features)/batch_size))\n",
    "        batches_pbar = tqdm(range(batch_count), desc='Train Epoch {:>2}/{}'.format(epoch_i+1, epochs), unit='batches')\n",
    "        for batch_i in batches_pbar:\n",
    "            batch_start = batch_i*batch_size\n",
    "            batch_features = train_features[batch_start:batch_start + batch_size]\n",
    "            batch_labels = train_labels[batch_start:batch_start + batch_size]\n",
    "            # Run optimizer and get loss\n",
    "            _, l = session.run(\n",
    "                [optimizer, loss],\n",
    "                feed_dict={features: batch_features, labels: batch_labels})\n",
    "        # save checkpoint every epoch\n",
    "        saver.save(session, model_param_file, global_step=epoch_i)\n",
    "        # Log accuracy every epoch. have to calculate accuracy in batches as cannot \n",
    "        # fit entire test set on GPU\n",
    "        # training accuracy\n",
    "        batch_count = int(math.ceil(len(train_features)/batch_size))\n",
    "        batches_pbar = tqdm(range(batch_count), desc='Train Accuracy Epoch {:>2}/{}'.format(epoch_i+1, epochs), unit='batches')\n",
    "        l = 0.\n",
    "        a = 0.\n",
    "        for batch_i in batches_pbar:\n",
    "            batch_start = batch_i*batch_size\n",
    "            batch_features = train_features[batch_start:batch_start + batch_size]\n",
    "            batch_labels = train_labels[batch_start:batch_start + batch_size]\n",
    "            # Run optimizer and get loss\n",
    "            l_, a_ = session.run(\n",
    "                [loss_sum, accuracy_sum],\n",
    "                feed_dict={features: batch_features, labels: batch_labels})\n",
    "            l += l_\n",
    "            a += a_\n",
    "        loss_batch.append(l / len(train_features))\n",
    "        train_acc_batch.append(a / len(train_features))\n",
    "        # validation accuracy\n",
    "        batch_count = int(math.ceil(len(val_features)/batch_size))\n",
    "        batches_pbar = tqdm(range(batch_count), desc='Val Accuracy Epoch {:>2}/{}'.format(epoch_i+1, epochs), unit='batches')\n",
    "        a = 0.\n",
    "        for batch_i in batches_pbar:\n",
    "            batch_start = batch_i*batch_size\n",
    "            batch_features = val_features[batch_start:batch_start + batch_size]\n",
    "            batch_labels = val_labels[batch_start:batch_start + batch_size]\n",
    "            # Run optimizer and get loss\n",
    "            a_ = session.run(\n",
    "                [accuracy_sum],\n",
    "                feed_dict={features: batch_features, labels: batch_labels})\n",
    "            a += a_[0]\n",
    "        validation_accuracy = a / len(val_features)\n",
    "        valid_acc_batch.append(validation_accuracy)\n",
    "        print('epoch {}, val accuracy: {}'.format(epoch_i, validation_accuracy))\n",
    "print('runtime: {}'.format(datetime.now()-st))"
   ]
  },
  {
   "cell_type": "code",
   "execution_count": 16,
   "metadata": {
    "collapsed": false
   },
   "outputs": [
    {
     "data": {
      "text/plain": [
       "(0.99988664701881658, 0.97220096914052534)"
      ]
     },
     "execution_count": 16,
     "metadata": {},
     "output_type": "execute_result"
    }
   ],
   "source": [
    "train_acc_batch[-1], validation_accuracy"
   ]
  },
  {
   "cell_type": "code",
   "execution_count": 17,
   "metadata": {
    "collapsed": false
   },
   "outputs": [
    {
     "data": {
      "image/png": "[encoded data removed]",
      "text/plain": [
       "<matplotlib.figure.Figure at 0x1779a1908>"
      ]
     },
     "metadata": {},
     "output_type": "display_data"
    }
   ],
   "source": [
    "loss_plot = plt.subplot(211)\n",
    "loss_plot.set_title('Loss')\n",
    "loss_plot.plot(loss_batch, 'g')\n",
    "#loss_plot.set_xlim([batches[0], batches[-1]])\n",
    "acc_plot = plt.subplot(212)\n",
    "acc_plot.set_title('Accuracy')\n",
    "acc_plot.plot(train_acc_batch, 'r', label='Training Accuracy')\n",
    "acc_plot.plot(valid_acc_batch, 'b', label='Validation Accuracy')\n",
    "acc_plot.set_ylim([0, 1.0])\n",
    "#acc_plot.set_xlim([batches[0], batches[-1]])\n",
    "acc_plot.legend(loc=2)\n",
    "plt.tight_layout()\n",
    "plt.show()"
   ]
  },
  {
   "cell_type": "code",
   "execution_count": null,
   "metadata": {
    "collapsed": false
   },
   "outputs": [],
   "source": [
    "session = tf.Session()\n",
    "saver = tf.train.import_meta_graph(model_param_file+'.meta')\n",
    "saver.restore(session, model_param_file)\n",
    "all_vars = tf.trainable_variables()\n",
    "for v in all_vars:\n",
    "    print(v.name)\n",
    "    \n",
    "#    ckpt = tf.train.get_checkpoint_state(model_param_file)\n",
    "#    if ckpt and ckpt.model_checkpoint_path:\n",
    "#        print(ckpt.model_checkpoint_path)\n",
    "#        saver.restore(session, ckpt.model_checkpoint_path)\n"
   ]
  },
  {
   "cell_type": "code",
   "execution_count": null,
   "metadata": {
    "collapsed": true
   },
   "outputs": [],
   "source": []
  },
  {
   "cell_type": "markdown",
   "metadata": {},
   "source": [
    "### Question 3\n",
    "\n",
    "_What does your final architecture look like? (Type of model, layers, sizes, connectivity, etc.)  For reference on how to build a deep neural network using TensorFlow, see [Deep Neural Network in TensorFlow\n",
    "](https://classroom.udacity.com/nanodegrees/nd013/parts/fbf77062-5703-404e-b60c-95b78b2f3f9e/modules/6df7ae49-c61c-4bb2-a23e-6527e69209ec/lessons/b516a270-8600-4f93-a0a3-20dfeabe5da6/concepts/83a3a2a2-a9bd-4b7b-95b0-eb924ab14432) from the classroom._\n"
   ]
  },
  {
   "cell_type": "markdown",
   "metadata": {},
   "source": [
    "**Answer:**"
   ]
  },
  {
   "cell_type": "code",
   "execution_count": null,
   "metadata": {
    "collapsed": true
   },
   "outputs": [],
   "source": [
    "### Train your model here.\n",
    "### Feel free to use as many code cells as needed."
   ]
  },
  {
   "cell_type": "markdown",
   "metadata": {},
   "source": [
    "### Question 4\n",
    "\n",
    "_How did you train your model? (Type of optimizer, batch size, epochs, hyperparameters, etc.)_\n"
   ]
  },
  {
   "cell_type": "markdown",
   "metadata": {},
   "source": [
    "**Answer:**"
   ]
  },
  {
   "cell_type": "markdown",
   "metadata": {},
   "source": [
    "### Question 5\n",
    "\n",
    "\n",
    "_What approach did you take in coming up with a solution to this problem?_"
   ]
  },
  {
   "cell_type": "markdown",
   "metadata": {},
   "source": [
    "**Answer:**"
   ]
  },
  {
   "cell_type": "markdown",
   "metadata": {},
   "source": [
    "---\n",
    "\n",
    "## Step 3: Test a Model on New Images\n",
    "\n",
    "Take several pictures of traffic signs that you find on the web or around you (at least five), and run them through your classifier on your computer to produce example results. The classifier might not recognize some local signs but it could prove interesting nonetheless.\n",
    "\n",
    "You may find `signnames.csv` useful as it contains mappings from the class id (integer) to the actual sign name."
   ]
  },
  {
   "cell_type": "markdown",
   "metadata": {},
   "source": [
    "### Implementation\n",
    "\n",
    "Use the code cell (or multiple code cells, if necessary) to implement the first step of your project. Once you have completed your implementation and are satisfied with the results, be sure to thoroughly answer the questions that follow."
   ]
  },
  {
   "cell_type": "code",
   "execution_count": null,
   "metadata": {
    "collapsed": true
   },
   "outputs": [],
   "source": [
    "### Load the images and plot them here.\n",
    "### Feel free to use as many code cells as needed."
   ]
  },
  {
   "cell_type": "markdown",
   "metadata": {},
   "source": [
    "### Question 6\n",
    "\n",
    "_Choose five candidate images of traffic signs and provide them in the report. Are there any particular qualities of the image(s) that might make classification difficult? It would be helpful to plot the images in the notebook._\n",
    "\n"
   ]
  },
  {
   "cell_type": "markdown",
   "metadata": {},
   "source": [
    "**Answer:**"
   ]
  },
  {
   "cell_type": "code",
   "execution_count": null,
   "metadata": {
    "collapsed": true
   },
   "outputs": [],
   "source": [
    "### Run the predictions here.\n",
    "### Feel free to use as many code cells as needed."
   ]
  },
  {
   "cell_type": "markdown",
   "metadata": {},
   "source": [
    "### Question 7\n",
    "\n",
    "_Is your model able to perform equally well on captured pictures or a live camera stream when compared to testing on the dataset?_\n"
   ]
  },
  {
   "cell_type": "markdown",
   "metadata": {},
   "source": [
    "**Answer:**"
   ]
  },
  {
   "cell_type": "code",
   "execution_count": null,
   "metadata": {
    "collapsed": true
   },
   "outputs": [],
   "source": [
    "### Visualize the softmax probabilities here.\n",
    "### Feel free to use as many code cells as needed."
   ]
  },
  {
   "cell_type": "markdown",
   "metadata": {},
   "source": [
    "### Question 8\n",
    "\n",
    "*Use the model's softmax probabilities to visualize the **certainty** of its predictions, [`tf.nn.top_k`](https://www.tensorflow.org/versions/r0.11/api_docs/python/nn.html#top_k) could prove helpful here. Which predictions is the model certain of? Uncertain? If the model was incorrect in its initial prediction, does the correct prediction appear in the top k? (k should be 5 at most)*\n"
   ]
  },
  {
   "cell_type": "markdown",
   "metadata": {},
   "source": [
    "**Answer:**"
   ]
  },
  {
   "cell_type": "markdown",
   "metadata": {},
   "source": [
    "### Question 9\n",
    "_If necessary, provide documentation for how an interface was built for your model to load and classify newly-acquired images._\n"
   ]
  },
  {
   "cell_type": "markdown",
   "metadata": {},
   "source": [
    "**Answer:**"
   ]
  },
  {
   "cell_type": "markdown",
   "metadata": {},
   "source": [
    "> **Note**: Once you have completed all of the code implementations and successfully answered each question above, you may finalize your work by exporting the iPython Notebook as an HTML document. You can do this by using the menu above and navigating to  \\n\",\n",
    "    \"**File -> Download as -> HTML (.html)**. Include the finished document along with this notebook as your submission."
   ]
  },
  {
   "cell_type": "code",
   "execution_count": null,
   "metadata": {
    "collapsed": true
   },
   "outputs": [],
   "source": []
  }
 ],
 "metadata": {
  "anaconda-cloud": {},
  "kernelspec": {
   "display_name": "Python 3",
   "language": "python",
   "name": "python3"
  },
  "language_info": {
   "codemirror_mode": {
    "name": "ipython",
    "version": 3
   },
   "file_extension": ".py",
   "mimetype": "text/x-python",
   "name": "python",
   "nbconvert_exporter": "python",
   "pygments_lexer": "ipython3",
   "version": "3.5.2"
  }
 },
 "nbformat": 4,
 "nbformat_minor": 1
}
